{
 "cells": [
  {
   "cell_type": "markdown",
   "id": "24755160",
   "metadata": {
    "id": "8c9cb573"
   },
   "source": [
    "MASTER PYTHON - Using the full training set - Running the learning models take 45 minute each, be patient\n",
    "\n",
    "I added a line from FYANGO that take sthe vectorizer to the app that builds teh external question faster\n",
    "\n",
    "All the models are exported\n",
    "\n",
    "2 models, LOG and AggrO\n",
    "\n",
    "Modify the exisitng models reliably predict if new\n",
    "s is fake or real, using exisitng KAGGEL datasets"
   ]
  },
  {
   "cell_type": "markdown",
   "id": "feca5946",
   "metadata": {
    "id": "4d5dda4c"
   },
   "source": [
    "#### Dataset used - https://www.kaggle.com/fake-news/data\n",
    "\n",
    "### Dataset Description\n",
    "\n",
    "train.csv: A full training dataset with the following attributes:\n",
    "\n",
    "* id: unique id for a news article\n",
    "* title: the title of a news article\n",
    "* author: author of the news article\n",
    "* text: the text of the article; could be incomplete\n",
    "* label: a label that marks the article as potentially unreliable\n",
    "  * 1: FAKE\n",
    "  * 0: TRUE\n"
   ]
  },
  {
   "cell_type": "markdown",
   "id": "9612db7e",
   "metadata": {
    "id": "f47d9fde"
   },
   "source": [
    "Ensure the file creator is installed to save the MODELS for use in Heroku app"
   ]
  },
  {
   "cell_type": "markdown",
   "id": "cc05c85b",
   "metadata": {
    "id": "acdf7db5"
   },
   "source": [
    "Set the dependencies"
   ]
  },
  {
   "cell_type": "code",
   "execution_count": null,
   "id": "643aaced",
   "metadata": {},
   "outputs": [],
   "source": []
  },
  {
   "cell_type": "code",
   "execution_count": 1,
   "id": "6f313070",
   "metadata": {
    "id": "7b4b4979"
   },
   "outputs": [],
   "source": [
    "import numpy as np\n",
    "import pandas as pd\n",
    "\n",
    "import matplotlib.pyplot as plt\n",
    "\n",
    "import re \n",
    "import nltk \n",
    "from nltk.corpus import stopwords\n",
    "from nltk.stem.porter import PorterStemmer\n",
    "\n",
    "from sklearn.feature_extraction.text import TfidfVectorizer\n",
    "from sklearn.model_selection import train_test_split\n",
    "from sklearn.linear_model import LogisticRegression\n",
    "from sklearn.metrics import accuracy_score\n",
    "from sklearn.metrics import classification_report\n",
    "from sklearn import metrics\n",
    "import itertools\n"
   ]
  },
  {
   "cell_type": "markdown",
   "id": "4b19d1d8",
   "metadata": {
    "id": "5cbd1c06"
   },
   "source": [
    "The Natural Language Toolkit (NLTK) is a platform used for building Python programs that work with human language data for applying in statistical natural language processing (NLP). It contains text processing libraries for tokenization, parsing, classification, stemming, tagging and semantic reasoning.\n",
    "The nltk.corpus package defines a collection of corpus reader classes, which can be used to access the contents of a diverse set of corpora. The list of available corpora is given at: https://www.nltk.org/nltk_data/ Each corpus reader class is specialized to handle a specific corpus forma"
   ]
  },
  {
   "cell_type": "markdown",
   "id": "0a94e780",
   "metadata": {
    "id": "c32358ea"
   },
   "source": [
    "Load and test all the STW ,Stopwords are words which occur frequently in a corpus. e.g a, an, the, in. Frequently occurring words are removed from the corpus for the purpose of text-normalization."
   ]
  },
  {
   "cell_type": "code",
   "execution_count": 2,
   "id": "c392dc4c",
   "metadata": {
    "colab": {
     "base_uri": "https://localhost:8080/"
    },
    "id": "5b3d25c8",
    "outputId": "a174a4ae-f59d-4210-e4b1-32f29afa4c50"
   },
   "outputs": [
    {
     "name": "stderr",
     "output_type": "stream",
     "text": [
      "[nltk_data] Downloading package stopwords to\n",
      "[nltk_data]     C:\\Users\\jonow\\AppData\\Roaming\\nltk_data...\n",
      "[nltk_data]   Package stopwords is already up-to-date!\n"
     ]
    },
    {
     "data": {
      "text/plain": [
       "True"
      ]
     },
     "execution_count": 2,
     "metadata": {},
     "output_type": "execute_result"
    }
   ],
   "source": [
    "nltk.download('stopwords')"
   ]
  },
  {
   "cell_type": "code",
   "execution_count": 3,
   "id": "efc9173f",
   "metadata": {
    "colab": {
     "base_uri": "https://localhost:8080/"
    },
    "id": "fd8da98b",
    "outputId": "2a30bc0b-3d38-431f-dc5a-1be22dfd8839"
   },
   "outputs": [
    {
     "name": "stdout",
     "output_type": "stream",
     "text": [
      "['i', 'me', 'my', 'myself', 'we', 'our', 'ours', 'ourselves', 'you', \"you're\", \"you've\", \"you'll\", \"you'd\", 'your', 'yours', 'yourself', 'yourselves', 'he', 'him', 'his', 'himself', 'she', \"she's\", 'her', 'hers', 'herself', 'it', \"it's\", 'its', 'itself', 'they', 'them', 'their', 'theirs', 'themselves', 'what', 'which', 'who', 'whom', 'this', 'that', \"that'll\", 'these', 'those', 'am', 'is', 'are', 'was', 'were', 'be', 'been', 'being', 'have', 'has', 'had', 'having', 'do', 'does', 'did', 'doing', 'a', 'an', 'the', 'and', 'but', 'if', 'or', 'because', 'as', 'until', 'while', 'of', 'at', 'by', 'for', 'with', 'about', 'against', 'between', 'into', 'through', 'during', 'before', 'after', 'above', 'below', 'to', 'from', 'up', 'down', 'in', 'out', 'on', 'off', 'over', 'under', 'again', 'further', 'then', 'once', 'here', 'there', 'when', 'where', 'why', 'how', 'all', 'any', 'both', 'each', 'few', 'more', 'most', 'other', 'some', 'such', 'no', 'nor', 'not', 'only', 'own', 'same', 'so', 'than', 'too', 'very', 's', 't', 'can', 'will', 'just', 'don', \"don't\", 'should', \"should've\", 'now', 'd', 'll', 'm', 'o', 're', 've', 'y', 'ain', 'aren', \"aren't\", 'couldn', \"couldn't\", 'didn', \"didn't\", 'doesn', \"doesn't\", 'hadn', \"hadn't\", 'hasn', \"hasn't\", 'haven', \"haven't\", 'isn', \"isn't\", 'ma', 'mightn', \"mightn't\", 'mustn', \"mustn't\", 'needn', \"needn't\", 'shan', \"shan't\", 'shouldn', \"shouldn't\", 'wasn', \"wasn't\", 'weren', \"weren't\", 'won', \"won't\", 'wouldn', \"wouldn't\"]\n"
     ]
    }
   ],
   "source": [
    "# check if Stopwords laoded in english\n",
    "\n",
    "print(stopwords.words('english'))"
   ]
  },
  {
   "cell_type": "markdown",
   "id": "67432b17",
   "metadata": {
    "id": "a44f0a84"
   },
   "source": [
    "Data Pre-processing and Analysis\n"
   ]
  },
  {
   "cell_type": "markdown",
   "id": "2d1cb37a",
   "metadata": {
    "id": "83fffc5d"
   },
   "source": [
    "Regular Expression Syntax. A regular expression (or RE) specifies a set of strings that matches it; the functions in this module let you check if a particular string matches a given regular expression (or if a given regular expression matches a particular string, which comes down to the same thing"
   ]
  },
  {
   "cell_type": "markdown",
   "id": "1715fd4d",
   "metadata": {
    "id": "64f87ca9"
   },
   "source": [
    "Load the dataset, Read"
   ]
  },
  {
   "cell_type": "code",
   "execution_count": 4,
   "id": "d9791b13",
   "metadata": {
    "id": "a8c855de"
   },
   "outputs": [
    {
     "name": "stderr",
     "output_type": "stream",
     "text": [
      "c:\\Users\\jonow\\anaconda3\\envs\\tf\\lib\\site-packages\\IPython\\core\\interactiveshell.py:3460: DtypeWarning: Columns (73,74,75,76,77,78,79,80,81,82,83,84,85,86,87,88,89,90,91,92,93,94,95,96,97,98,99,100,101,102,103,104,105,106,107,108,109,110,111,112,113,114,115,116,117,118,119,120,121,122,123,124,125,126,127,128,129,130,131,132,133,134,135,136,137,138,139,140,141,142,143,144,145,146,147,148,149,150,151,152,153,154,155,156,157,158,159,160,161,162,163,164,165,166,167,168,169,170,171,172,173,174,175,176,177,178,179,180,181,182,183,184,185,186,187,188,189,190,191,192,193,194,195,196,197,198,199,200,201,202,203,204,205,206,207,208,209,210,211,212,213,214,215,216,217,218,219,220,221,222,223,224,225,226,227,228,229,230,231,232,233,234,235,236,237,238,239,240,241,242,243,244,245,246,247,248,249) have mixed types.Specify dtype option on import or set low_memory=False.\n",
      "  exec(code_obj, self.user_global_ns, self.user_ns)\n"
     ]
    }
   ],
   "source": [
    "# First let's load the dataset\n",
    "news_dataset = pd.read_csv('trainsmall.csv',encoding = \"latin-1\")\n"
   ]
  },
  {
   "cell_type": "code",
   "execution_count": 5,
   "id": "c2ecf8fd",
   "metadata": {
    "colab": {
     "base_uri": "https://localhost:8080/",
     "height": 206
    },
    "id": "0c5a95a7",
    "outputId": "f4494ef8-8de7-445f-f1d9-327b73dbf86c"
   },
   "outputs": [
    {
     "data": {
      "text/html": [
       "<div>\n",
       "<style scoped>\n",
       "    .dataframe tbody tr th:only-of-type {\n",
       "        vertical-align: middle;\n",
       "    }\n",
       "\n",
       "    .dataframe tbody tr th {\n",
       "        vertical-align: top;\n",
       "    }\n",
       "\n",
       "    .dataframe thead th {\n",
       "        text-align: right;\n",
       "    }\n",
       "</style>\n",
       "<table border=\"1\" class=\"dataframe\">\n",
       "  <thead>\n",
       "    <tr style=\"text-align: right;\">\n",
       "      <th></th>\n",
       "      <th>id</th>\n",
       "      <th>title</th>\n",
       "      <th>author</th>\n",
       "      <th>text</th>\n",
       "      <th>label</th>\n",
       "      <th>Unnamed: 5</th>\n",
       "      <th>Unnamed: 6</th>\n",
       "      <th>Unnamed: 7</th>\n",
       "      <th>Unnamed: 8</th>\n",
       "      <th>Unnamed: 9</th>\n",
       "      <th>...</th>\n",
       "      <th>Unnamed: 241</th>\n",
       "      <th>Unnamed: 242</th>\n",
       "      <th>Unnamed: 243</th>\n",
       "      <th>Unnamed: 244</th>\n",
       "      <th>Unnamed: 245</th>\n",
       "      <th>Unnamed: 246</th>\n",
       "      <th>Unnamed: 247</th>\n",
       "      <th>Unnamed: 248</th>\n",
       "      <th>Unnamed: 249</th>\n",
       "      <th>Unnamed: 250</th>\n",
       "    </tr>\n",
       "  </thead>\n",
       "  <tbody>\n",
       "    <tr>\n",
       "      <th>0</th>\n",
       "      <td>0</td>\n",
       "      <td>House Dem Aide: We Didnât Even See Comeyâs...</td>\n",
       "      <td>Darrell Lucus</td>\n",
       "      <td>House Dem Aide: We Didnât Even See Comeyâs...</td>\n",
       "      <td>1</td>\n",
       "      <td>NaN</td>\n",
       "      <td>NaN</td>\n",
       "      <td>NaN</td>\n",
       "      <td>NaN</td>\n",
       "      <td>NaN</td>\n",
       "      <td>...</td>\n",
       "      <td>NaN</td>\n",
       "      <td>NaN</td>\n",
       "      <td>NaN</td>\n",
       "      <td>NaN</td>\n",
       "      <td>NaN</td>\n",
       "      <td>NaN</td>\n",
       "      <td>NaN</td>\n",
       "      <td>NaN</td>\n",
       "      <td>NaN</td>\n",
       "      <td>NaN</td>\n",
       "    </tr>\n",
       "    <tr>\n",
       "      <th>1</th>\n",
       "      <td>1</td>\n",
       "      <td>FLYNN: Hillary Clinton, Big Woman on Campus - ...</td>\n",
       "      <td>Daniel J. Flynn</td>\n",
       "      <td>Ever get the feeling your life circles the rou...</td>\n",
       "      <td>0</td>\n",
       "      <td>NaN</td>\n",
       "      <td>NaN</td>\n",
       "      <td>NaN</td>\n",
       "      <td>NaN</td>\n",
       "      <td>NaN</td>\n",
       "      <td>...</td>\n",
       "      <td>NaN</td>\n",
       "      <td>NaN</td>\n",
       "      <td>NaN</td>\n",
       "      <td>NaN</td>\n",
       "      <td>NaN</td>\n",
       "      <td>NaN</td>\n",
       "      <td>NaN</td>\n",
       "      <td>NaN</td>\n",
       "      <td>NaN</td>\n",
       "      <td>NaN</td>\n",
       "    </tr>\n",
       "    <tr>\n",
       "      <th>2</th>\n",
       "      <td>2</td>\n",
       "      <td>Why the Truth Might Get You Fired</td>\n",
       "      <td>Consortiumnews.com</td>\n",
       "      <td>Why the Truth Might Get You Fired October 29, ...</td>\n",
       "      <td>1</td>\n",
       "      <td>NaN</td>\n",
       "      <td>NaN</td>\n",
       "      <td>NaN</td>\n",
       "      <td>NaN</td>\n",
       "      <td>NaN</td>\n",
       "      <td>...</td>\n",
       "      <td>NaN</td>\n",
       "      <td>NaN</td>\n",
       "      <td>NaN</td>\n",
       "      <td>NaN</td>\n",
       "      <td>NaN</td>\n",
       "      <td>NaN</td>\n",
       "      <td>NaN</td>\n",
       "      <td>NaN</td>\n",
       "      <td>NaN</td>\n",
       "      <td>NaN</td>\n",
       "    </tr>\n",
       "    <tr>\n",
       "      <th>3</th>\n",
       "      <td>3</td>\n",
       "      <td>15 Civilians Killed In Single US Airstrike Hav...</td>\n",
       "      <td>Jessica Purkiss</td>\n",
       "      <td>Videos 15 Civilians Killed In Single US Airstr...</td>\n",
       "      <td>1</td>\n",
       "      <td>NaN</td>\n",
       "      <td>NaN</td>\n",
       "      <td>NaN</td>\n",
       "      <td>NaN</td>\n",
       "      <td>NaN</td>\n",
       "      <td>...</td>\n",
       "      <td>NaN</td>\n",
       "      <td>NaN</td>\n",
       "      <td>NaN</td>\n",
       "      <td>NaN</td>\n",
       "      <td>NaN</td>\n",
       "      <td>NaN</td>\n",
       "      <td>NaN</td>\n",
       "      <td>NaN</td>\n",
       "      <td>NaN</td>\n",
       "      <td>NaN</td>\n",
       "    </tr>\n",
       "    <tr>\n",
       "      <th>4</th>\n",
       "      <td>4</td>\n",
       "      <td>Iranian woman jailed for fictional unpublished...</td>\n",
       "      <td>Howard Portnoy</td>\n",
       "      <td>Print \\r\\nAn Iranian woman has been sentenced ...</td>\n",
       "      <td>1</td>\n",
       "      <td>NaN</td>\n",
       "      <td>NaN</td>\n",
       "      <td>NaN</td>\n",
       "      <td>NaN</td>\n",
       "      <td>NaN</td>\n",
       "      <td>...</td>\n",
       "      <td>NaN</td>\n",
       "      <td>NaN</td>\n",
       "      <td>NaN</td>\n",
       "      <td>NaN</td>\n",
       "      <td>NaN</td>\n",
       "      <td>NaN</td>\n",
       "      <td>NaN</td>\n",
       "      <td>NaN</td>\n",
       "      <td>NaN</td>\n",
       "      <td>NaN</td>\n",
       "    </tr>\n",
       "  </tbody>\n",
       "</table>\n",
       "<p>5 rows × 251 columns</p>\n",
       "</div>"
      ],
      "text/plain": [
       "  id                                              title              author  \\\n",
       "0  0  House Dem Aide: We Didnât Even See Comeyâs...       Darrell Lucus   \n",
       "1  1  FLYNN: Hillary Clinton, Big Woman on Campus - ...     Daniel J. Flynn   \n",
       "2  2                  Why the Truth Might Get You Fired  Consortiumnews.com   \n",
       "3  3  15 Civilians Killed In Single US Airstrike Hav...     Jessica Purkiss   \n",
       "4  4  Iranian woman jailed for fictional unpublished...      Howard Portnoy   \n",
       "\n",
       "                                                text label Unnamed: 5  \\\n",
       "0  House Dem Aide: We Didnât Even See Comeyâs...     1        NaN   \n",
       "1  Ever get the feeling your life circles the rou...     0        NaN   \n",
       "2  Why the Truth Might Get You Fired October 29, ...     1        NaN   \n",
       "3  Videos 15 Civilians Killed In Single US Airstr...     1        NaN   \n",
       "4  Print \\r\\nAn Iranian woman has been sentenced ...     1        NaN   \n",
       "\n",
       "  Unnamed: 6 Unnamed: 7 Unnamed: 8 Unnamed: 9  ... Unnamed: 241 Unnamed: 242  \\\n",
       "0        NaN        NaN        NaN        NaN  ...          NaN          NaN   \n",
       "1        NaN        NaN        NaN        NaN  ...          NaN          NaN   \n",
       "2        NaN        NaN        NaN        NaN  ...          NaN          NaN   \n",
       "3        NaN        NaN        NaN        NaN  ...          NaN          NaN   \n",
       "4        NaN        NaN        NaN        NaN  ...          NaN          NaN   \n",
       "\n",
       "  Unnamed: 243 Unnamed: 244 Unnamed: 245 Unnamed: 246 Unnamed: 247  \\\n",
       "0          NaN          NaN          NaN          NaN          NaN   \n",
       "1          NaN          NaN          NaN          NaN          NaN   \n",
       "2          NaN          NaN          NaN          NaN          NaN   \n",
       "3          NaN          NaN          NaN          NaN          NaN   \n",
       "4          NaN          NaN          NaN          NaN          NaN   \n",
       "\n",
       "  Unnamed: 248 Unnamed: 249 Unnamed: 250  \n",
       "0          NaN          NaN          NaN  \n",
       "1          NaN          NaN          NaN  \n",
       "2          NaN          NaN          NaN  \n",
       "3          NaN          NaN          NaN  \n",
       "4          NaN          NaN          NaN  \n",
       "\n",
       "[5 rows x 251 columns]"
      ]
     },
     "execution_count": 5,
     "metadata": {},
     "output_type": "execute_result"
    }
   ],
   "source": [
    "news_dataset.head()"
   ]
  },
  {
   "cell_type": "code",
   "execution_count": 6,
   "id": "157b2040",
   "metadata": {
    "colab": {
     "base_uri": "https://localhost:8080/"
    },
    "id": "36f74ae7",
    "outputId": "d234ff95-76b9-48a6-bc1a-bae21257aa31"
   },
   "outputs": [
    {
     "data": {
      "text/plain": [
       "(5867, 251)"
      ]
     },
     "execution_count": 6,
     "metadata": {},
     "output_type": "execute_result"
    }
   ],
   "source": [
    "news_dataset.shape"
   ]
  },
  {
   "cell_type": "code",
   "execution_count": 7,
   "id": "75e3363c",
   "metadata": {
    "id": "3026eca7"
   },
   "outputs": [
    {
     "data": {
      "text/html": [
       "<div>\n",
       "<style scoped>\n",
       "    .dataframe tbody tr th:only-of-type {\n",
       "        vertical-align: middle;\n",
       "    }\n",
       "\n",
       "    .dataframe tbody tr th {\n",
       "        vertical-align: top;\n",
       "    }\n",
       "\n",
       "    .dataframe thead th {\n",
       "        text-align: right;\n",
       "    }\n",
       "</style>\n",
       "<table border=\"1\" class=\"dataframe\">\n",
       "  <thead>\n",
       "    <tr style=\"text-align: right;\">\n",
       "      <th></th>\n",
       "      <th>id</th>\n",
       "      <th>title</th>\n",
       "      <th>author</th>\n",
       "      <th>text</th>\n",
       "      <th>label</th>\n",
       "    </tr>\n",
       "  </thead>\n",
       "  <tbody>\n",
       "    <tr>\n",
       "      <th>0</th>\n",
       "      <td>0</td>\n",
       "      <td>House Dem Aide: We Didnât Even See Comeyâs...</td>\n",
       "      <td>Darrell Lucus</td>\n",
       "      <td>House Dem Aide: We Didnât Even See Comeyâs...</td>\n",
       "      <td>1</td>\n",
       "    </tr>\n",
       "    <tr>\n",
       "      <th>1</th>\n",
       "      <td>1</td>\n",
       "      <td>FLYNN: Hillary Clinton, Big Woman on Campus - ...</td>\n",
       "      <td>Daniel J. Flynn</td>\n",
       "      <td>Ever get the feeling your life circles the rou...</td>\n",
       "      <td>0</td>\n",
       "    </tr>\n",
       "    <tr>\n",
       "      <th>2</th>\n",
       "      <td>2</td>\n",
       "      <td>Why the Truth Might Get You Fired</td>\n",
       "      <td>Consortiumnews.com</td>\n",
       "      <td>Why the Truth Might Get You Fired October 29, ...</td>\n",
       "      <td>1</td>\n",
       "    </tr>\n",
       "    <tr>\n",
       "      <th>3</th>\n",
       "      <td>3</td>\n",
       "      <td>15 Civilians Killed In Single US Airstrike Hav...</td>\n",
       "      <td>Jessica Purkiss</td>\n",
       "      <td>Videos 15 Civilians Killed In Single US Airstr...</td>\n",
       "      <td>1</td>\n",
       "    </tr>\n",
       "    <tr>\n",
       "      <th>4</th>\n",
       "      <td>4</td>\n",
       "      <td>Iranian woman jailed for fictional unpublished...</td>\n",
       "      <td>Howard Portnoy</td>\n",
       "      <td>Print \\r\\nAn Iranian woman has been sentenced ...</td>\n",
       "      <td>1</td>\n",
       "    </tr>\n",
       "  </tbody>\n",
       "</table>\n",
       "</div>"
      ],
      "text/plain": [
       "  id                                              title              author  \\\n",
       "0  0  House Dem Aide: We Didnât Even See Comeyâs...       Darrell Lucus   \n",
       "1  1  FLYNN: Hillary Clinton, Big Woman on Campus - ...     Daniel J. Flynn   \n",
       "2  2                  Why the Truth Might Get You Fired  Consortiumnews.com   \n",
       "3  3  15 Civilians Killed In Single US Airstrike Hav...     Jessica Purkiss   \n",
       "4  4  Iranian woman jailed for fictional unpublished...      Howard Portnoy   \n",
       "\n",
       "                                                text label  \n",
       "0  House Dem Aide: We Didnât Even See Comeyâs...     1  \n",
       "1  Ever get the feeling your life circles the rou...     0  \n",
       "2  Why the Truth Might Get You Fired October 29, ...     1  \n",
       "3  Videos 15 Civilians Killed In Single US Airstr...     1  \n",
       "4  Print \\r\\nAn Iranian woman has been sentenced ...     1  "
      ]
     },
     "execution_count": 7,
     "metadata": {},
     "output_type": "execute_result"
    }
   ],
   "source": [
    "# Remove all columns between column index 5 to 250\n",
    "news_dataset.drop(news_dataset.iloc[:, 5:251], inplace=True, axis=1)\n",
    "news_dataset.head()"
   ]
  },
  {
   "cell_type": "code",
   "execution_count": 8,
   "id": "df18e2c4",
   "metadata": {
    "colab": {
     "base_uri": "https://localhost:8080/"
    },
    "id": "ecbda73a",
    "outputId": "76cd8094-f435-46b0-9de6-28969e670aeb"
   },
   "outputs": [
    {
     "data": {
      "text/plain": [
       "id          0\n",
       "title     460\n",
       "author    989\n",
       "text      619\n",
       "label     713\n",
       "dtype: int64"
      ]
     },
     "execution_count": 8,
     "metadata": {},
     "output_type": "execute_result"
    }
   ],
   "source": [
    "# Checking for missing values\n",
    "news_dataset.isnull().sum()"
   ]
  },
  {
   "cell_type": "code",
   "execution_count": 9,
   "id": "021ba340",
   "metadata": {
    "id": "a38e4563"
   },
   "outputs": [],
   "source": [
    "# Let's replace the missing values with empty strings wherever possible\n",
    "news_dataset = news_dataset.fillna('')"
   ]
  },
  {
   "cell_type": "code",
   "execution_count": 10,
   "id": "d32981ff",
   "metadata": {
    "colab": {
     "base_uri": "https://localhost:8080/"
    },
    "id": "2bc21253",
    "outputId": "a436331a-0659-4111-aab7-a5a6c2d4f96d"
   },
   "outputs": [
    {
     "data": {
      "text/plain": [
       "id        0\n",
       "title     0\n",
       "author    0\n",
       "text      0\n",
       "label     0\n",
       "dtype: int64"
      ]
     },
     "execution_count": 10,
     "metadata": {},
     "output_type": "execute_result"
    }
   ],
   "source": [
    "news_dataset.isnull().sum()"
   ]
  },
  {
   "cell_type": "markdown",
   "id": "7a013446",
   "metadata": {
    "id": "721227d6"
   },
   "source": [
    ":In this dataset the Title, Author indicates validity of the message, various previous works validates teh statement that authnetic authors makes a difference and newsrooms use thsi regulary as key indicators to tack their messages"
   ]
  },
  {
   "cell_type": "code",
   "execution_count": 11,
   "id": "fa0abc74",
   "metadata": {
    "id": "68e90c0f"
   },
   "outputs": [],
   "source": [
    "news_dataset['text_corpus'] = news_dataset['author']+' '+news_dataset['title']+' '+news_dataset['text']"
   ]
  },
  {
   "cell_type": "code",
   "execution_count": 12,
   "id": "6272cdd7",
   "metadata": {
    "colab": {
     "base_uri": "https://localhost:8080/"
    },
    "id": "9735166d",
    "outputId": "b4ab17e6-f2fd-4b43-ad0a-4e9b32b30f1c"
   },
   "outputs": [
    {
     "name": "stdout",
     "output_type": "stream",
     "text": [
      "0       Darrell Lucus House Dem Aide: We Didnât Even...\n",
      "1       Daniel J. Flynn FLYNN: Hillary Clinton, Big Wo...\n",
      "2       Consortiumnews.com Why the Truth Might Get You...\n",
      "3       Jessica Purkiss 15 Civilians Killed In Single ...\n",
      "4       Howard Portnoy Iranian woman jailed for fictio...\n",
      "                              ...                        \n",
      "5862    Samuel Chi California Ready for Single-Payer I...\n",
      "5863    Mac Slavo âViolent Revolution If Trump Lets ...\n",
      "5864    Amanda Hess How Conservative Sites Turn Celebr...\n",
      "5865    David Gutierrez, staff writer Woman awarded $7...\n",
      "5866    Simon Kent Artist Says Burqa Images Challenge ...\n",
      "Name: text_corpus, Length: 5867, dtype: object\n"
     ]
    }
   ],
   "source": [
    "print(news_dataset['text_corpus'])"
   ]
  },
  {
   "cell_type": "code",
   "execution_count": 13,
   "id": "19166adb",
   "metadata": {
    "colab": {
     "base_uri": "https://localhost:8080/",
     "height": 337
    },
    "id": "96a4b409",
    "outputId": "5ec5b71c-ee54-4982-d1a1-22e3d4ad155b"
   },
   "outputs": [
    {
     "data": {
      "text/html": [
       "<div>\n",
       "<style scoped>\n",
       "    .dataframe tbody tr th:only-of-type {\n",
       "        vertical-align: middle;\n",
       "    }\n",
       "\n",
       "    .dataframe tbody tr th {\n",
       "        vertical-align: top;\n",
       "    }\n",
       "\n",
       "    .dataframe thead th {\n",
       "        text-align: right;\n",
       "    }\n",
       "</style>\n",
       "<table border=\"1\" class=\"dataframe\">\n",
       "  <thead>\n",
       "    <tr style=\"text-align: right;\">\n",
       "      <th></th>\n",
       "      <th>id</th>\n",
       "      <th>title</th>\n",
       "      <th>author</th>\n",
       "      <th>text</th>\n",
       "      <th>label</th>\n",
       "      <th>text_corpus</th>\n",
       "    </tr>\n",
       "  </thead>\n",
       "  <tbody>\n",
       "    <tr>\n",
       "      <th>0</th>\n",
       "      <td>0</td>\n",
       "      <td>House Dem Aide: We Didnât Even See Comeyâs...</td>\n",
       "      <td>Darrell Lucus</td>\n",
       "      <td>House Dem Aide: We Didnât Even See Comeyâs...</td>\n",
       "      <td>1</td>\n",
       "      <td>Darrell Lucus House Dem Aide: We Didnât Even...</td>\n",
       "    </tr>\n",
       "    <tr>\n",
       "      <th>1</th>\n",
       "      <td>1</td>\n",
       "      <td>FLYNN: Hillary Clinton, Big Woman on Campus - ...</td>\n",
       "      <td>Daniel J. Flynn</td>\n",
       "      <td>Ever get the feeling your life circles the rou...</td>\n",
       "      <td>0</td>\n",
       "      <td>Daniel J. Flynn FLYNN: Hillary Clinton, Big Wo...</td>\n",
       "    </tr>\n",
       "    <tr>\n",
       "      <th>2</th>\n",
       "      <td>2</td>\n",
       "      <td>Why the Truth Might Get You Fired</td>\n",
       "      <td>Consortiumnews.com</td>\n",
       "      <td>Why the Truth Might Get You Fired October 29, ...</td>\n",
       "      <td>1</td>\n",
       "      <td>Consortiumnews.com Why the Truth Might Get You...</td>\n",
       "    </tr>\n",
       "    <tr>\n",
       "      <th>3</th>\n",
       "      <td>3</td>\n",
       "      <td>15 Civilians Killed In Single US Airstrike Hav...</td>\n",
       "      <td>Jessica Purkiss</td>\n",
       "      <td>Videos 15 Civilians Killed In Single US Airstr...</td>\n",
       "      <td>1</td>\n",
       "      <td>Jessica Purkiss 15 Civilians Killed In Single ...</td>\n",
       "    </tr>\n",
       "    <tr>\n",
       "      <th>4</th>\n",
       "      <td>4</td>\n",
       "      <td>Iranian woman jailed for fictional unpublished...</td>\n",
       "      <td>Howard Portnoy</td>\n",
       "      <td>Print \\r\\nAn Iranian woman has been sentenced ...</td>\n",
       "      <td>1</td>\n",
       "      <td>Howard Portnoy Iranian woman jailed for fictio...</td>\n",
       "    </tr>\n",
       "  </tbody>\n",
       "</table>\n",
       "</div>"
      ],
      "text/plain": [
       "  id                                              title              author  \\\n",
       "0  0  House Dem Aide: We Didnât Even See Comeyâs...       Darrell Lucus   \n",
       "1  1  FLYNN: Hillary Clinton, Big Woman on Campus - ...     Daniel J. Flynn   \n",
       "2  2                  Why the Truth Might Get You Fired  Consortiumnews.com   \n",
       "3  3  15 Civilians Killed In Single US Airstrike Hav...     Jessica Purkiss   \n",
       "4  4  Iranian woman jailed for fictional unpublished...      Howard Portnoy   \n",
       "\n",
       "                                                text label  \\\n",
       "0  House Dem Aide: We Didnât Even See Comeyâs...     1   \n",
       "1  Ever get the feeling your life circles the rou...     0   \n",
       "2  Why the Truth Might Get You Fired October 29, ...     1   \n",
       "3  Videos 15 Civilians Killed In Single US Airstr...     1   \n",
       "4  Print \\r\\nAn Iranian woman has been sentenced ...     1   \n",
       "\n",
       "                                         text_corpus  \n",
       "0  Darrell Lucus House Dem Aide: We Didnât Even...  \n",
       "1  Daniel J. Flynn FLYNN: Hillary Clinton, Big Wo...  \n",
       "2  Consortiumnews.com Why the Truth Might Get You...  \n",
       "3  Jessica Purkiss 15 Civilians Killed In Single ...  \n",
       "4  Howard Portnoy Iranian woman jailed for fictio...  "
      ]
     },
     "execution_count": 13,
     "metadata": {},
     "output_type": "execute_result"
    }
   ],
   "source": [
    "news_dataset.head()"
   ]
  },
  {
   "cell_type": "code",
   "execution_count": 14,
   "id": "c87efc29",
   "metadata": {
    "id": "79df8e1a"
   },
   "outputs": [],
   "source": [
    "# Now we will separate the data and label i.e. text_corpus and label fields\n",
    "X = news_dataset.drop(columns='label', axis=1)\n",
    "Y = news_dataset['label']"
   ]
  },
  {
   "cell_type": "code",
   "execution_count": 15,
   "id": "c29f003c",
   "metadata": {
    "colab": {
     "base_uri": "https://localhost:8080/"
    },
    "id": "f6df5e73",
    "outputId": "a44efa82-7fd4-4961-9014-33e48beb730a"
   },
   "outputs": [
    {
     "name": "stdout",
     "output_type": "stream",
     "text": [
      "0       Darrell Lucus House Dem Aide: We Didnât Even...\n",
      "1       Daniel J. Flynn FLYNN: Hillary Clinton, Big Wo...\n",
      "2       Consortiumnews.com Why the Truth Might Get You...\n",
      "3       Jessica Purkiss 15 Civilians Killed In Single ...\n",
      "4       Howard Portnoy Iranian woman jailed for fictio...\n",
      "                              ...                        \n",
      "5862    Samuel Chi California Ready for Single-Payer I...\n",
      "5863    Mac Slavo âViolent Revolution If Trump Lets ...\n",
      "5864    Amanda Hess How Conservative Sites Turn Celebr...\n",
      "5865    David Gutierrez, staff writer Woman awarded $7...\n",
      "5866    Simon Kent Artist Says Burqa Images Challenge ...\n",
      "Name: text_corpus, Length: 5867, dtype: object\n"
     ]
    }
   ],
   "source": [
    "X = news_dataset['text_corpus']\n",
    "print(X)"
   ]
  },
  {
   "cell_type": "code",
   "execution_count": 16,
   "id": "30147f00",
   "metadata": {
    "colab": {
     "base_uri": "https://localhost:8080/"
    },
    "id": "5494807c",
    "outputId": "4b82ed2b-0d18-4183-98be-1d9d18dc6758"
   },
   "outputs": [
    {
     "name": "stdout",
     "output_type": "stream",
     "text": [
      "0       1\n",
      "1       0\n",
      "2       1\n",
      "3       1\n",
      "4       1\n",
      "       ..\n",
      "5862    0\n",
      "5863    1\n",
      "5864    0\n",
      "5865    1\n",
      "5866    0\n",
      "Name: label, Length: 5867, dtype: object\n"
     ]
    }
   ],
   "source": [
    "print(Y)"
   ]
  },
  {
   "cell_type": "code",
   "execution_count": 17,
   "id": "c3fb87fa",
   "metadata": {
    "colab": {
     "base_uri": "https://localhost:8080/"
    },
    "id": "bbc09eb1",
    "outputId": "bc50de80-14fb-46b1-d60c-e5b650474c2d"
   },
   "outputs": [
    {
     "data": {
      "text/plain": [
       "0    Darrell Lucus House Dem Aide: We Didnât Even...\n",
       "1    Daniel J. Flynn FLYNN: Hillary Clinton, Big Wo...\n",
       "2    Consortiumnews.com Why the Truth Might Get You...\n",
       "3    Jessica Purkiss 15 Civilians Killed In Single ...\n",
       "4    Howard Portnoy Iranian woman jailed for fictio...\n",
       "Name: text_corpus, dtype: object"
      ]
     },
     "execution_count": 17,
     "metadata": {},
     "output_type": "execute_result"
    }
   ],
   "source": [
    "X.head()"
   ]
  },
  {
   "cell_type": "markdown",
   "id": "96d30c4c",
   "metadata": {
    "id": "25ff91f8"
   },
   "source": [
    "\n",
    "\n",
    "\n",
    "Stemming or Lemmatization-https://pythonprogramming.net/stemming-nltk-tutorial/\n",
    "\n",
    "Stemming is a technique used to reduce an inflected word down to its word stem. For example, the words “programming,” “programmer,” and “programs” can all be reduced down to the common word stem “program.” In other words, “program” can be used as a synonym for the prior three inflection words\n",
    "\n",
    "Porter’s Stemmer applies a set of five sequential rules (also called phases) to determine common suffixes from sentences.\n"
   ]
  },
  {
   "cell_type": "code",
   "execution_count": 18,
   "id": "2590cbad",
   "metadata": {
    "id": "c33c1ca7"
   },
   "outputs": [],
   "source": [
    "port_stem = PorterStemmer()\n",
    "\n",
    "def stemming(content):\n",
    "    # Pick all alphabet characters - lowercase and uppercase...all others such as numbers and punctuations will be removed. Numbers or punctuations will be replaced by a whitespace\n",
    "    stemmed_content = re.sub('[^a-zA-Z]',' ',content)\n",
    "    # Converting all letters to lowercase \n",
    "    stemmed_content = stemmed_content.lower()\n",
    "    # Converting all to a splitted case or a list\n",
    "    stemmed_content = stemmed_content.split()\n",
    "    # Applying stemming, so we get the root words wherever possible + remove stopwords as well\n",
    "    stemmed_content = [port_stem.stem(word) for word in stemmed_content if not word in stopwords.words('english')]\n",
    "    # Join all the words in final content\n",
    "    stemmed_content = ' '.join(stemmed_content)\n",
    "    return stemmed_content"
   ]
  },
  {
   "cell_type": "code",
   "execution_count": 19,
   "id": "9cf1e094",
   "metadata": {
    "id": "d9506e8d"
   },
   "outputs": [],
   "source": [
    "news_dataset['text_corpus'] = news_dataset['text_corpus'].apply(stemming)"
   ]
  },
  {
   "cell_type": "code",
   "execution_count": 20,
   "id": "534fe8e4",
   "metadata": {},
   "outputs": [],
   "source": [
    "import winsound\n",
    "duration = 1000  # milliseconds\n",
    "freq = 440  # Hz\n",
    "winsound.Beep(freq, duration)"
   ]
  },
  {
   "cell_type": "code",
   "execution_count": 21,
   "id": "c785a87a",
   "metadata": {
    "colab": {
     "base_uri": "https://localhost:8080/"
    },
    "id": "c94a515a",
    "outputId": "94f125ce-7c72-45c5-9cd7-3282c020b007"
   },
   "outputs": [
    {
     "name": "stdout",
     "output_type": "stream",
     "text": [
      "0       darrel lucu hous dem aid even see comey letter...\n",
      "1       daniel j flynn flynn hillari clinton big woman...\n",
      "2       consortiumnew com truth might get fire truth m...\n",
      "3       jessica purkiss civilian kill singl us airstri...\n",
      "4       howard portnoy iranian woman jail fiction unpu...\n",
      "                              ...                        \n",
      "5862    samuel chi california readi singl payer insur ...\n",
      "5863    mac slavo violent revolut trump let peopl rema...\n",
      "5864    amanda hess conserv site turn celebr despair h...\n",
      "5865    david gutierrez staff writer woman award contr...\n",
      "5866    simon kent artist say burqa imag challeng anti...\n",
      "Name: text_corpus, Length: 5867, dtype: object\n"
     ]
    }
   ],
   "source": [
    "print(news_dataset['text_corpus'])"
   ]
  },
  {
   "cell_type": "code",
   "execution_count": 22,
   "id": "254e3ad7",
   "metadata": {
    "id": "4e6d6315"
   },
   "outputs": [],
   "source": [
    "# Separating data and label\n",
    "X = news_dataset['text_corpus'].values\n",
    "Y = news_dataset['label'].values"
   ]
  },
  {
   "cell_type": "code",
   "execution_count": 23,
   "id": "e9ea39e3",
   "metadata": {
    "colab": {
     "base_uri": "https://localhost:8080/"
    },
    "id": "2bccfd6f",
    "outputId": "348064e1-5a9c-4ef7-d7aa-8890de259ec5"
   },
   "outputs": [
    {
     "name": "stdout",
     "output_type": "stream",
     "text": [
      "['darrel lucu hous dem aid even see comey letter jason chaffetz tweet hous dem aid even see comey letter jason chaffetz tweet darrel lucu octob subscrib jason chaffetz stump american fork utah imag courtesi michael jolley avail creativ common licens apolog keith olbermann doubt worst person world week fbi director jame comey accord hous democrat aid look like also know second worst person well turn comey sent infam letter announc fbi look email may relat hillari clinton email server rank democrat relev committe hear comey found via tweet one republican committe chairmen know comey notifi republican chairmen democrat rank member hous intellig judiciari oversight committe agenc review email recent discov order see contain classifi inform long letter went oversight committe chairman jason chaffetz set polit world ablaz tweet fbi dir inform fbi learn exist email appear pertin investig case reopen jason chaffetz jasoninthehous octob cours know case comey actual say review email light unrel case know anthoni weiner sext teenag appar littl thing fact matter chaffetz utah republican alreadi vow initi raft investig hillari win least two year worth possibl entir term worth appar chaffetz thought fbi alreadi work result tweet briefli roil nation cooler head realiz dud accord senior hous democrat aid misread letter may least chaffetz sin aid told shareblu boss democrat even know comey letter time found check twitter democrat rank member relev committe receiv comey letter republican chairmen fact democrat rank member receiv chairman oversight govern reform committe jason chaffetz tweet made public let see got right fbi director tell chaffetz gop committe chairmen major develop potenti polit explos investig neither chaffetz colleagu courtesi let democrat counterpart know instead accord aid made find twitter alreadi talk daili ko comey provid advanc notic letter chaffetz republican give time turn spin machin may make good theater noth far even suggest case noth far suggest comey anyth grossli incompet tone deaf suggest howev chaffetz act way make dan burton darrel issa look like model respons bipartisanship even decenc notifi rank member elijah cum someth explos trampl basic standard fair know grant like chaffetz answer sit ridicul republican district anchor provo orem cook partisan vote index r gave mitt romney punish percent vote moreov republican hous leadership given full support chaffetz plan fish expedit mean turn hot light textbook exampl hous becom republican control also second worst person world darrel lucu darrel someth graduat univers north carolina consid journalist old school attempt turn member religi right colleg succeed turn religi right worst nightmar charismat christian unapologet liber desir stand scare silenc increas surviv abus three year marriag may know daili ko christian dem nc follow twitter darrelllucu connect facebook click buy darrel mello yello connect'\n",
      " 'daniel j flynn flynn hillari clinton big woman campu breitbart ever get feel life circl roundabout rather head straight line toward intend destin hillari clinton remain big woman campu leafi liber wellesley massachusett everywher els vote like inaugur dress remaind day way miss havisham forev wore wed dress speak great expect hillari rodham overflow year ago first address wellesley graduat class presid colleg inform gather student need debat far could ascertain spokesman kind like democrat primari minu term unknown even seven sister school glad miss adam made clear speak today us us miss rodham told classmat appoint edger bergen charli mccarthi mortim snerd attend bespectacl granni glass award matronli wisdom least john lennon wisdom took issu previou speaker despit becom first win elect seat u senat sinc reconstruct edward brook came critic call empathi goal protestor critic tactic though clinton senior thesi saul alinski lament black power demagogu elitist arrog repress intoler within new left similar word come republican necessit brief rebutt trust rodham iron observ one word ask class rehears want say everyon came said talk trust talk lack trust us way feel other talk trust bust say say feel permeat gener perhap even understood distrust trust bust certainli bust clinton plan certainli even understand peopl distrust whitewat travelg vast conspiraci benghazi miss email clinton found distrust voic friday load compromis road broaden polit horizon distrust american peopl trump edg percent percent question immedi prior novemb elect stood major reason close horizon clinton describ vanquish support embrac lie con altern fact assault truth reason fail explain american peopl chose lie truth histori major among today know well peopl power invent fact attack question mark begin end free societi offer hyperbol like mani peopl emerg hillari clinton embark upon long strang trip high school goldwat girl wellesley colleg republican presid democrat politician clinton drank time place gave degre significantli went idealist cynic comparison two wellesley commenc address show way back lament long leader view polit art possibl challeng practic polit art make appear imposs possibl big woman campu odd woman white hous wonder current station even possibl point ahead ask septemb may ask presid woman famous dub congenit liar bill safir conclud lie mind get stood elect day like find jilt bride wed day inspir danger delus'\n",
      " 'consortiumnew com truth might get fire truth might get fire octob tension intellig analyst polit policymak alway honest assess desir result latter often overwhelm former iraq war write lawrenc davidson lawrenc davidson might wonder foreign polici maker repeatedli make bad choic insight might drawn follow analysi action play unit state lesson probabl univers back earli spring georg w bush initi invas iraq one key public reason claim countri dictat saddam hussein verg develop nuclear weapon hide weapon mass destruct real reason went beyond charg includ long rang plan regim chang middl east presid georg w bush vice presid dick cheney receiv oval offic brief cia director georg tenet also present chief staff andi card right white hous photo purpos concentr belief iraq becom hostil nuclear power presid bush close associ accept scenario readili short answer bush want inde need believ rational invad iraq first tri connect saddam hussein attack u though never gave stratagem lack evid made difficult ralli american peopl alreadi fixat afghanistan support war baghdad nuclear weapon gambit prove fruit hard evid charg supposedli reliabl wit person exil anti saddam iraqi mani u govern payrol kept tell bush advis nuclear stori true u leadership cadr whose worldview liter demand mortal danger iraq inform order precipit overthrow saddam will tell tale pend atom weapon strong desir believ tale nuclear iraq lower threshold proof likewis repeat assert assum depend iraqi sourc underpin nationwid u campaign gener fear war fever u alli insist unit nation send weapon inspector scour iraq evid nuclear weapon program well chemic biolog weapon inspector could find convinc evid frustrat bush administr soon forc hand march bush launch invas iraq expect occup countri u inspector would sure find evid nuke least stockpil chemic biolog weapon iraqi inform systemat lie social behavior scienc rescu variou u intellig agenc thoroughli shaken affair today year later director manag still tri sort specif tell get true intellig lie one intellig worker put need help protect us armi snake oil salesmen end cia et al market academ assist ahm chalabi head iraqi nation congress key supplier iraqi defector bogu stori hidden wmd partnership forg offic director nation intellig odni serv coordin center sixteen independ u intellig agenc nation academi scienc engin medicin result collabor perman intellig commun studi board coordin program social behavior scienc research might strengthen nation secur despit effort almost certain social behavior scienc cannot give spi agenc want way detect lie better present standard procedur polygraph test interrog even could might well make differ real problem found liar found believ believ simpli true odni leader seem assert u intellig agenc personnel cannot tell often lie case thousand middl echelon intellig worker desk offic specialist know someth close approach truth know pretti well go place like afghanistan iraq syria libya israel palestin elsewher director nation intellig jame clapper right talk presid barack obama oval offic john brennan nation secur aid present photo credit offic director nation intellig therefor someon feed snake oil usual know howev accur grasp thing often avail superior got appoint accept pre structur worldview differ criterion true analyst listen charl gaukel nation intellig council yet anoth organ act meet ground intellig agenc refer search way avoid get taken lie gaukel declar look truth particularli look truth work might mean certainli tell mean histor mean power broker truth must match fit worldview polit ideolog precept fit work intellig specialist send usual accur assess line polici maker often hit roadblock caus group think ideolog blinker know better attitud hand long sell leadership match want believ peddl anyth imaginari iraqi nuke israel western style democraci saudi arabia indispens alli libya liber countri bashar al assad real roadblock peac syria strateg defens initi sdi aka star war world get colder warmer american exception glori list almost endless sad tale tell us want spend million dollar social behavior scienc research improv assess use intellig forget liar want look antidot narrow minded believ policymak seem abl rise ideolog presumpt class presumpt underpin self confid lead us slipperi slope happen way often mani place sourc shakespear determin past prelud elit play destini free capac break structur way see yet middl echelon specialist keep send rel accur assess ladder power hope spring etern'\n",
      " ...\n",
      " 'amanda hess conserv site turn celebr despair head new york time throughout bitter elect campaign liber celebr like ladi gaga jennif lawrenc lena dunham miranda use power media platform sing hillari clinton prais invit onlin follow join process loss protest impend administr donald j trump want live countryofkind lovetrumpsh ladi gaga wrote twitter day elect ad photo protest outsid trump tower manhattan climb onto truck strapless black jumpsuit rais sign angri tweet therapeut instagram testimoni fieri speech may comfort fan celebr also inadvert energ opposit conserv news outlet notabl breitbart news network populist enclav perfect art sap democrat star name recognit repurpos word action materi enorm reach celebr enjoy privileg bubbl live wield refashion evid outsiz control rich famou regular american new battl cultur war wage bombast comment like rush limbaugh nimbl often nameless onlin aggreg quickli churn popular cultur throw evoc stori reader often without much commentari take point headlin unflatt photo real quot like ladi gaga protest sanit truck outsid trump tower read breitbart headlin articl tweet america divid polit media elect made even clearer celebr influenc week elect aveng director joss whedon boot onlin public servic announc factori save day recruit star like robert downey jr cheadl scarlett johansson churn web video mr clinton kati perri america ferrera lebron jame beyonc join democrat candid ralli vice mike penc caught perform broadway hit hamilton friday one show star address behalf divers america alarm anxiou new administr protect us offens pari hilton pat boon biggest star side instead breitbart mostli use cultur page aim spitbal hollywood lefti part coverag call big hollywood glamour celebr becom grist site overarch narr corros influenc cultur elit imag ms dunham post instagram restor trip sedona ariz may play soothingli aspir audienc concentr young coastal women breitbart demo headlin griev lena dunham seek answer arizona wilder trump win look like damn shot celebr decid jet red state quirki vacat retreat hamilton controversi rage prod mr trump demand cast apolog mr penc breitbart pointedli remind reader privat mr miranda host mr clinton campaign ticket price rang like celebr speak mr trump becom point defens breitbart postelect hollywood coverag appear larg cool catalog aggriev celebr includ rick ross drop video song free enterpris includ lyric make refer assassin mr trump beneath surfac articl though subtl signal work piec postelect vice essay jennif lawrenc rail barrier still face women workplac includ underhand accolad recent name actress hollywood second straight year recent headlin depress robert de niro trump elect make feel like pack punch pair imag pathet weepi liber flip attitud toward terror breitbart articl hamilton titl toler hamilton cast lectur mike penc broadway stage thread buzzword toler lectur broadway cast liber elit pedant hypocrit breitbart produc share origin content ran essay ann coulter ridicul whine celebr last week conserv media outlet work scrappi spammi surprisingli banal regat conserv aggreg hamilton incid inflat class war like clockwork rich elitist liber come mock poor hamilton cast member along liber took twitter mock bulli less fortun peopl america much text gener site bare politic conserv onlin outlet patriot folk recent aggreg quot ladi gaga essay publish harper bazaar depress hurt mr trump remark women work whiff commentari women fight live leak access hollywood tape donald trump make lewd comment least ladi gaga think highlight word like hurt depress work like conserv dog whistl signal reader want revel liber pain ridicul emot children postelect breitbart may appear littl differ aggreg site greater polit context breed ground extremist add anoth layer breitbart site boost stephen k bannon thought leader site execut chairman took leav absenc steer mr trump campaign top white hous posit mind articl call attent ms dunham jewish faith feel like bone thrown site white nationalist reader catalog slight celebr start read like someth enemi list real ideolog action undertaken audienc whose member read line cultur piec scribbl margin breitbart two post ms dunham amass comment includ insight lena awesom trump vote recruit meanwhil mute patriot folk piec ladi gaga soon migrat facebook page reach million make america great today share bait line white women vote donald j trump hillari clinton lefti celebr long preach choir increasingli galvan side chatter rerout onlin conserv echo chamber studi last year bowl green state univers professor david jackson melissa miller found celebr polit statement highli polar sampl set ohio voter celebr trace adkin ted nugent even oprah like inspir net posit vote candid choic aggreg make sure leftist celebr polit reach neutral backlash peopl idol agre none like stop celebr use soapbox promot polit would smart consid word play platform'\n",
      " 'david gutierrez staff writer woman award contract cancer johnson johnson talcum powder woman award contract cancer johnson johnson talcum powder wednesday novemb david gutierrez staff writer tag talc ovarian cancer juri award naturalnew st loui juri rule johnson johnson damag women health engag decad long coverup potenti risk talcum powder babi powder feminin hygien product octob johnson johnson order pay million deborah giannecchini modesto california receiv ovarian cancer diagnosi year giannecchini use johnson johnson babi powder keep genit area dri use promot compani main ingredi talcum powder talc miner wide use paint plastic well cosmet use absorb moistur evid suggest regular exposur talc particularli genit area increas risk ovarian cancer juri found johnson johnson guilti neglig fail warn custom fact conspiraci conceal risk ovarian cancer rare highli lethal diseas well establish risk factor includ obes children estrogen therapi menopaus famili histori ovarian breast cancer evid link talc ovarian cancer compel yet conclus intern agenc research cancer list talc possibl carcinogen among robust studi suggest connect two meta analys found roughli one third increas ovarian cancer risk among women regularli expos talc first publish found connect case second publish found women appli talc directli genit area case mark third guilti verdict johnson johnson issu st loui juri previous slap compani million million judgment first case file famili jacki fox birmingham alabama die ovarian cancer long term use talcum powder case juri found compani guilti neglig also failur warn conspiraci conceal risk product anoth lawsuit pend thirti year decept even recent verdict johnson johnson continu insist safeti product includ genit use home state new jersey compani success gotten two lawsuit issu dismiss appeal three guilti verdict missouri investor seem believ compani prevail stock price seem unaffect recent guilti verdict alexandra scranton director scienc research women voic earth character johnson johnson behavior typic big pharma compani go extrem length keep sell product even evid mount danger scranton said document uncov fox trial show decad johnson johnson sought take advantag scientif uncertainti talc ovarian cancer link downplay potenti risk rather purs clearli ethic role take precautionari approach inde scranton note compani pour money year defend talc among document reveal fox case intern memo show johnson johnson prepar su health risk talc year one memo medic consult warn anyon continu deni connect ovarian cancer genit talc use would eventu seen par tobacco compani deni cancer link deni obviou face evid contrari anoth memo laid strategi counter fall talc sale caus health concern aggress market minor commun sourc articl includ http www naturalnew com johnson talc ovarian cancer html health ranger approv aquatru water filter back stock secur unit amaz aquatru natur news reader suppli last breakthrough filter remov nearli hundr contamin plumb need ship today'\n",
      " 'simon kent artist say burqa imag challeng anti immigr islamophobia sentiment australia bbc laud australian photograph respons call tragic rise sentiment homeland take piec islam femal cloth known burqa use art prop fabian muir start project former australian prime minist toni abbott call ban burqa worn premis nation parliament canberra mr abbott cite secur concern call cloth fairli confront form attir frankli wish worn accord bbc mr muir urban burqa project critiqu rise far right islamophobia gener australian feel immigr islam countri deliv less desir outcom particular tragic sentiment becom magnifi sinc mr muir told bbc point per cent australian poll support total ban muslim enter countri refuge crisi alway easi target politician alway go percentag popul swallow seem like easi solut problem mr muir said urban burqa outlin cultur clash art could overcom still simul also sens confront adapt henc darker edgier feel said imag seri take burqa place everyday suburban scene supermarket subway tunnel mr muir give histor religi context burqa conceal islam femal cloth cover entir face bodi leav tini mesh screen window world burqa worn woman leav home compel wear return critic regard symbol islamist radic supremaci rather religi symbol oppress mr fabian like think burqa ennobl prospect wear told bbc last imag seri show woman burqa stand skate park nice close imag optimist reach said sens lot barrier overcom']\n"
     ]
    }
   ],
   "source": [
    "print(X)"
   ]
  },
  {
   "cell_type": "code",
   "execution_count": 24,
   "id": "5cb0b5ab",
   "metadata": {
    "colab": {
     "base_uri": "https://localhost:8080/"
    },
    "id": "62a3aa92",
    "outputId": "a0b48f6a-828c-44f8-fdba-21172418acf2"
   },
   "outputs": [
    {
     "name": "stdout",
     "output_type": "stream",
     "text": [
      "['1' '0' '1' ... '0' '1' '0']\n"
     ]
    }
   ],
   "source": [
    "print(Y)"
   ]
  },
  {
   "cell_type": "markdown",
   "id": "ab75d3b2",
   "metadata": {
    "id": "f92318e7"
   },
   "source": [
    "TF-IDF (Term Frequency, Inverse Document Frequency)\n",
    "\n",
    "### Converting Textual data to Numerical data\n",
    "\n",
    "* The TF-IDF Vectorizer\n",
    "* TF-IDF Vectorizer coverts textual data to numerical data"
   ]
  },
  {
   "cell_type": "markdown",
   "id": "a04b4176",
   "metadata": {
    "id": "51cc3ef1"
   },
   "source": [
    "Thsi is still a bit messed up and need to be cleaned, I stidued the HEROKYU app fiel and the vectorizer is use dto translate the input text to ML to do teh comparison"
   ]
  },
  {
   "cell_type": "code",
   "execution_count": 25,
   "id": "0d004944",
   "metadata": {
    "colab": {
     "base_uri": "https://localhost:8080/",
     "height": 74
    },
    "id": "0543b31e",
    "outputId": "f81bb5a9-d380-4a84-9d7a-6e3c892a42bc"
   },
   "outputs": [
    {
     "data": {
      "text/html": [
       "<style>#sk-container-id-1 {color: black;background-color: white;}#sk-container-id-1 pre{padding: 0;}#sk-container-id-1 div.sk-toggleable {background-color: white;}#sk-container-id-1 label.sk-toggleable__label {cursor: pointer;display: block;width: 100%;margin-bottom: 0;padding: 0.3em;box-sizing: border-box;text-align: center;}#sk-container-id-1 label.sk-toggleable__label-arrow:before {content: \"▸\";float: left;margin-right: 0.25em;color: #696969;}#sk-container-id-1 label.sk-toggleable__label-arrow:hover:before {color: black;}#sk-container-id-1 div.sk-estimator:hover label.sk-toggleable__label-arrow:before {color: black;}#sk-container-id-1 div.sk-toggleable__content {max-height: 0;max-width: 0;overflow: hidden;text-align: left;background-color: #f0f8ff;}#sk-container-id-1 div.sk-toggleable__content pre {margin: 0.2em;color: black;border-radius: 0.25em;background-color: #f0f8ff;}#sk-container-id-1 input.sk-toggleable__control:checked~div.sk-toggleable__content {max-height: 200px;max-width: 100%;overflow: auto;}#sk-container-id-1 input.sk-toggleable__control:checked~label.sk-toggleable__label-arrow:before {content: \"▾\";}#sk-container-id-1 div.sk-estimator input.sk-toggleable__control:checked~label.sk-toggleable__label {background-color: #d4ebff;}#sk-container-id-1 div.sk-label input.sk-toggleable__control:checked~label.sk-toggleable__label {background-color: #d4ebff;}#sk-container-id-1 input.sk-hidden--visually {border: 0;clip: rect(1px 1px 1px 1px);clip: rect(1px, 1px, 1px, 1px);height: 1px;margin: -1px;overflow: hidden;padding: 0;position: absolute;width: 1px;}#sk-container-id-1 div.sk-estimator {font-family: monospace;background-color: #f0f8ff;border: 1px dotted black;border-radius: 0.25em;box-sizing: border-box;margin-bottom: 0.5em;}#sk-container-id-1 div.sk-estimator:hover {background-color: #d4ebff;}#sk-container-id-1 div.sk-parallel-item::after {content: \"\";width: 100%;border-bottom: 1px solid gray;flex-grow: 1;}#sk-container-id-1 div.sk-label:hover label.sk-toggleable__label {background-color: #d4ebff;}#sk-container-id-1 div.sk-serial::before {content: \"\";position: absolute;border-left: 1px solid gray;box-sizing: border-box;top: 0;bottom: 0;left: 50%;z-index: 0;}#sk-container-id-1 div.sk-serial {display: flex;flex-direction: column;align-items: center;background-color: white;padding-right: 0.2em;padding-left: 0.2em;position: relative;}#sk-container-id-1 div.sk-item {position: relative;z-index: 1;}#sk-container-id-1 div.sk-parallel {display: flex;align-items: stretch;justify-content: center;background-color: white;position: relative;}#sk-container-id-1 div.sk-item::before, #sk-container-id-1 div.sk-parallel-item::before {content: \"\";position: absolute;border-left: 1px solid gray;box-sizing: border-box;top: 0;bottom: 0;left: 50%;z-index: -1;}#sk-container-id-1 div.sk-parallel-item {display: flex;flex-direction: column;z-index: 1;position: relative;background-color: white;}#sk-container-id-1 div.sk-parallel-item:first-child::after {align-self: flex-end;width: 50%;}#sk-container-id-1 div.sk-parallel-item:last-child::after {align-self: flex-start;width: 50%;}#sk-container-id-1 div.sk-parallel-item:only-child::after {width: 0;}#sk-container-id-1 div.sk-dashed-wrapped {border: 1px dashed gray;margin: 0 0.4em 0.5em 0.4em;box-sizing: border-box;padding-bottom: 0.4em;background-color: white;}#sk-container-id-1 div.sk-label label {font-family: monospace;font-weight: bold;display: inline-block;line-height: 1.2em;}#sk-container-id-1 div.sk-label-container {text-align: center;}#sk-container-id-1 div.sk-container {/* jupyter's `normalize.less` sets `[hidden] { display: none; }` but bootstrap.min.css set `[hidden] { display: none !important; }` so we also need the `!important` here to be able to override the default hidden behavior on the sphinx rendered scikit-learn.org. See: https://github.com/scikit-learn/scikit-learn/issues/21755 */display: inline-block !important;position: relative;}#sk-container-id-1 div.sk-text-repr-fallback {display: none;}</style><div id=\"sk-container-id-1\" class=\"sk-top-container\"><div class=\"sk-text-repr-fallback\"><pre>TfidfVectorizer()</pre><b>In a Jupyter environment, please rerun this cell to show the HTML representation or trust the notebook. <br />On GitHub, the HTML representation is unable to render, please try loading this page with nbviewer.org.</b></div><div class=\"sk-container\" hidden><div class=\"sk-item\"><div class=\"sk-estimator sk-toggleable\"><input class=\"sk-toggleable__control sk-hidden--visually\" id=\"sk-estimator-id-1\" type=\"checkbox\" checked><label for=\"sk-estimator-id-1\" class=\"sk-toggleable__label sk-toggleable__label-arrow\">TfidfVectorizer</label><div class=\"sk-toggleable__content\"><pre>TfidfVectorizer()</pre></div></div></div></div></div>"
      ],
      "text/plain": [
       "TfidfVectorizer()"
      ]
     },
     "execution_count": 25,
     "metadata": {},
     "output_type": "execute_result"
    }
   ],
   "source": [
    "vectorizer = TfidfVectorizer()\n",
    "vectorizer.fit(X)"
   ]
  },
  {
   "cell_type": "code",
   "execution_count": 26,
   "id": "8e0a0705",
   "metadata": {
    "id": "f923e533"
   },
   "outputs": [],
   "source": [
    "X = vectorizer.transform(X)"
   ]
  },
  {
   "cell_type": "code",
   "execution_count": 27,
   "id": "04e5a306",
   "metadata": {
    "id": "YZO9QQZoD8_r"
   },
   "outputs": [],
   "source": [
    "import pickle\n",
    "pickle.dump(vectorizer, open('tfidfvect2.pkl', 'wb'))"
   ]
  },
  {
   "cell_type": "code",
   "execution_count": 28,
   "id": "ce95a43a",
   "metadata": {},
   "outputs": [
    {
     "name": "stdout",
     "output_type": "stream",
     "text": [
      "TfidfVectorizer()\n"
     ]
    }
   ],
   "source": [
    "TEST_model = pickle.load(open('tfidfvect2.pkl', 'rb'))\n",
    "\n",
    "print(TEST_model)"
   ]
  },
  {
   "cell_type": "code",
   "execution_count": 29,
   "id": "cf7806bc",
   "metadata": {
    "colab": {
     "base_uri": "https://localhost:8080/"
    },
    "id": "95438d19",
    "outputId": "190f59a3-8ed5-481e-8ad0-de3cd3baaadd"
   },
   "outputs": [
    {
     "name": "stdout",
     "output_type": "stream",
     "text": [
      "  (0, 51287)\t0.044258656517818414\n",
      "  (0, 51262)\t0.020131991582391793\n",
      "  (0, 50849)\t0.04475430852207461\n",
      "  (0, 50847)\t0.09384588101602599\n",
      "  (0, 50822)\t0.03825205199308433\n",
      "  (0, 50797)\t0.01165954825124317\n",
      "  (0, 50480)\t0.01738811022569182\n",
      "  (0, 50102)\t0.01757032961368408\n",
      "  (0, 50061)\t0.012836637537017756\n",
      "  (0, 50015)\t0.028302045379509727\n",
      "  (0, 49978)\t0.013052060041706186\n",
      "  (0, 49880)\t0.012112781491550742\n",
      "  (0, 49495)\t0.02523161607665395\n",
      "  (0, 49478)\t0.03123554543446421\n",
      "  (0, 49031)\t0.021201090024379893\n",
      "  (0, 48472)\t0.06517493117493858\n",
      "  (0, 48087)\t0.03247173661266174\n",
      "  (0, 47937)\t0.016824891525565502\n",
      "  (0, 47477)\t0.03647786256425233\n",
      "  (0, 47221)\t0.011529047763407995\n",
      "  (0, 47218)\t0.044338350940318454\n",
      "  (0, 47183)\t0.13661884669740237\n",
      "  (0, 47110)\t0.07276928934038554\n",
      "  (0, 46494)\t0.03671673505758655\n",
      "  (0, 46236)\t0.027634918285441675\n",
      "  :\t:\n",
      "  (5866, 8490)\t0.11549882146254178\n",
      "  (5866, 8482)\t0.0232165679566044\n",
      "  (5866, 8325)\t0.04297114826724454\n",
      "  (5866, 8218)\t0.03263883279035373\n",
      "  (5866, 7537)\t0.028705798053222847\n",
      "  (5866, 7369)\t0.04720535862220062\n",
      "  (5866, 6744)\t0.07253520400301952\n",
      "  (5866, 6629)\t0.052441700364793946\n",
      "  (5866, 6357)\t0.6424198850339241\n",
      "  (5866, 5234)\t0.030001291386217724\n",
      "  (5866, 4071)\t0.021659858101521615\n",
      "  (5866, 3969)\t0.18882143448880248\n",
      "  (5866, 3776)\t0.04446164392724958\n",
      "  (5866, 3570)\t0.0664767633222576\n",
      "  (5866, 3029)\t0.18663866164764736\n",
      "  (5866, 3028)\t0.042802036427823646\n",
      "  (5866, 2891)\t0.060813655275365815\n",
      "  (5866, 2551)\t0.039290398978071184\n",
      "  (5866, 2520)\t0.07000886636388495\n",
      "  (5866, 1935)\t0.03186963819432413\n",
      "  (5866, 1410)\t0.05163157180379119\n",
      "  (5866, 1347)\t0.015091182034957469\n",
      "  (5866, 467)\t0.04387149911568858\n",
      "  (5866, 297)\t0.01994939898551585\n",
      "  (5866, 57)\t0.1138563338493761\n"
     ]
    }
   ],
   "source": [
    "print(X)"
   ]
  },
  {
   "cell_type": "markdown",
   "id": "4b35a4a4",
   "metadata": {
    "id": "0f84ef5f"
   },
   "source": [
    "Modeling & Model Evaluation"
   ]
  },
  {
   "cell_type": "markdown",
   "id": "419b30fa",
   "metadata": {
    "id": "7a246d29"
   },
   "source": [
    "### Splitting the data into test and train datasets"
   ]
  },
  {
   "cell_type": "code",
   "execution_count": 30,
   "id": "46151891",
   "metadata": {
    "id": "6007c5c2"
   },
   "outputs": [],
   "source": [
    "X_train, X_test, Y_train, Y_test = train_test_split(X, Y, test_size=0.18, random_state=42)"
   ]
  },
  {
   "cell_type": "markdown",
   "id": "804762c0",
   "metadata": {
    "id": "b653caf9"
   },
   "source": [
    "We use 2 models to determine the accuracy of teh training set and will then select the most accurate model to us ein HEREKO\n",
    "The first Model - Logistic regression"
   ]
  },
  {
   "cell_type": "code",
   "execution_count": 31,
   "id": "2953d86a",
   "metadata": {
    "colab": {
     "base_uri": "https://localhost:8080/",
     "height": 74
    },
    "id": "1915d04c",
    "outputId": "e7d71995-1315-4f1a-9f58-68e38565346e"
   },
   "outputs": [
    {
     "data": {
      "text/html": [
       "<style>#sk-container-id-2 {color: black;background-color: white;}#sk-container-id-2 pre{padding: 0;}#sk-container-id-2 div.sk-toggleable {background-color: white;}#sk-container-id-2 label.sk-toggleable__label {cursor: pointer;display: block;width: 100%;margin-bottom: 0;padding: 0.3em;box-sizing: border-box;text-align: center;}#sk-container-id-2 label.sk-toggleable__label-arrow:before {content: \"▸\";float: left;margin-right: 0.25em;color: #696969;}#sk-container-id-2 label.sk-toggleable__label-arrow:hover:before {color: black;}#sk-container-id-2 div.sk-estimator:hover label.sk-toggleable__label-arrow:before {color: black;}#sk-container-id-2 div.sk-toggleable__content {max-height: 0;max-width: 0;overflow: hidden;text-align: left;background-color: #f0f8ff;}#sk-container-id-2 div.sk-toggleable__content pre {margin: 0.2em;color: black;border-radius: 0.25em;background-color: #f0f8ff;}#sk-container-id-2 input.sk-toggleable__control:checked~div.sk-toggleable__content {max-height: 200px;max-width: 100%;overflow: auto;}#sk-container-id-2 input.sk-toggleable__control:checked~label.sk-toggleable__label-arrow:before {content: \"▾\";}#sk-container-id-2 div.sk-estimator input.sk-toggleable__control:checked~label.sk-toggleable__label {background-color: #d4ebff;}#sk-container-id-2 div.sk-label input.sk-toggleable__control:checked~label.sk-toggleable__label {background-color: #d4ebff;}#sk-container-id-2 input.sk-hidden--visually {border: 0;clip: rect(1px 1px 1px 1px);clip: rect(1px, 1px, 1px, 1px);height: 1px;margin: -1px;overflow: hidden;padding: 0;position: absolute;width: 1px;}#sk-container-id-2 div.sk-estimator {font-family: monospace;background-color: #f0f8ff;border: 1px dotted black;border-radius: 0.25em;box-sizing: border-box;margin-bottom: 0.5em;}#sk-container-id-2 div.sk-estimator:hover {background-color: #d4ebff;}#sk-container-id-2 div.sk-parallel-item::after {content: \"\";width: 100%;border-bottom: 1px solid gray;flex-grow: 1;}#sk-container-id-2 div.sk-label:hover label.sk-toggleable__label {background-color: #d4ebff;}#sk-container-id-2 div.sk-serial::before {content: \"\";position: absolute;border-left: 1px solid gray;box-sizing: border-box;top: 0;bottom: 0;left: 50%;z-index: 0;}#sk-container-id-2 div.sk-serial {display: flex;flex-direction: column;align-items: center;background-color: white;padding-right: 0.2em;padding-left: 0.2em;position: relative;}#sk-container-id-2 div.sk-item {position: relative;z-index: 1;}#sk-container-id-2 div.sk-parallel {display: flex;align-items: stretch;justify-content: center;background-color: white;position: relative;}#sk-container-id-2 div.sk-item::before, #sk-container-id-2 div.sk-parallel-item::before {content: \"\";position: absolute;border-left: 1px solid gray;box-sizing: border-box;top: 0;bottom: 0;left: 50%;z-index: -1;}#sk-container-id-2 div.sk-parallel-item {display: flex;flex-direction: column;z-index: 1;position: relative;background-color: white;}#sk-container-id-2 div.sk-parallel-item:first-child::after {align-self: flex-end;width: 50%;}#sk-container-id-2 div.sk-parallel-item:last-child::after {align-self: flex-start;width: 50%;}#sk-container-id-2 div.sk-parallel-item:only-child::after {width: 0;}#sk-container-id-2 div.sk-dashed-wrapped {border: 1px dashed gray;margin: 0 0.4em 0.5em 0.4em;box-sizing: border-box;padding-bottom: 0.4em;background-color: white;}#sk-container-id-2 div.sk-label label {font-family: monospace;font-weight: bold;display: inline-block;line-height: 1.2em;}#sk-container-id-2 div.sk-label-container {text-align: center;}#sk-container-id-2 div.sk-container {/* jupyter's `normalize.less` sets `[hidden] { display: none; }` but bootstrap.min.css set `[hidden] { display: none !important; }` so we also need the `!important` here to be able to override the default hidden behavior on the sphinx rendered scikit-learn.org. See: https://github.com/scikit-learn/scikit-learn/issues/21755 */display: inline-block !important;position: relative;}#sk-container-id-2 div.sk-text-repr-fallback {display: none;}</style><div id=\"sk-container-id-2\" class=\"sk-top-container\"><div class=\"sk-text-repr-fallback\"><pre>LogisticRegression()</pre><b>In a Jupyter environment, please rerun this cell to show the HTML representation or trust the notebook. <br />On GitHub, the HTML representation is unable to render, please try loading this page with nbviewer.org.</b></div><div class=\"sk-container\" hidden><div class=\"sk-item\"><div class=\"sk-estimator sk-toggleable\"><input class=\"sk-toggleable__control sk-hidden--visually\" id=\"sk-estimator-id-2\" type=\"checkbox\" checked><label for=\"sk-estimator-id-2\" class=\"sk-toggleable__label sk-toggleable__label-arrow\">LogisticRegression</label><div class=\"sk-toggleable__content\"><pre>LogisticRegression()</pre></div></div></div></div></div>"
      ],
      "text/plain": [
       "LogisticRegression()"
      ]
     },
     "execution_count": 31,
     "metadata": {},
     "output_type": "execute_result"
    }
   ],
   "source": [
    "# Training the model\n",
    "logisticreg_model = LogisticRegression()\n",
    "\n",
    "logisticreg_model.fit(X_train, Y_train)"
   ]
  },
  {
   "cell_type": "markdown",
   "id": "911e7c25",
   "metadata": {
    "id": "0a019bc4"
   },
   "source": [
    "### Model Evaluation"
   ]
  },
  {
   "cell_type": "code",
   "execution_count": 32,
   "id": "98872c4f",
   "metadata": {
    "colab": {
     "base_uri": "https://localhost:8080/"
    },
    "id": "304118ab",
    "outputId": "99ce9aec-a7b9-41f4-eefb-bf84c5d7a992"
   },
   "outputs": [
    {
     "name": "stdout",
     "output_type": "stream",
     "text": [
      "Accuracy score on the training data:  0.9444906444906445\n",
      "Accuracy score on the test data:  0.8789025543992431\n"
     ]
    }
   ],
   "source": [
    "# Accuracy Score on Training Data\n",
    "X_train_prediction = logisticreg_model.predict(X_train)\n",
    "training_data_accuracy = accuracy_score(X_train_prediction, Y_train)\n",
    "\n",
    "print('Accuracy score on the training data: ',training_data_accuracy)\n",
    "\n",
    "# Accuracy Score on Test Data\n",
    "X_test_prediction = logisticreg_model.predict(X_test)\n",
    "test_data_accuracy = accuracy_score(X_test_prediction, Y_test)\n",
    "\n",
    "print('Accuracy score on the test data: ',test_data_accuracy)"
   ]
  },
  {
   "cell_type": "code",
   "execution_count": 33,
   "id": "43f85195",
   "metadata": {
    "id": "e2b32a09"
   },
   "outputs": [],
   "source": [
    "import pickle\n",
    "pickle.dump(logisticreg_model, open('logisticreg_model.pkl', 'wb'))\n"
   ]
  },
  {
   "cell_type": "code",
   "execution_count": 34,
   "id": "e7ded5a1",
   "metadata": {
    "colab": {
     "base_uri": "https://localhost:8080/",
     "height": 70
    },
    "id": "014c5ef3",
    "outputId": "82bed337-cd23-4c88-f9a5-e3acd47f23c3"
   },
   "outputs": [
    {
     "name": "stderr",
     "output_type": "stream",
     "text": [
      "c:\\Users\\jonow\\anaconda3\\envs\\tf\\lib\\site-packages\\sklearn\\metrics\\_classification.py:1327: UndefinedMetricWarning: Precision and F-score are ill-defined and being set to 0.0 in labels with no predicted samples. Use `zero_division` parameter to control this behavior.\n",
      "  _warn_prf(average, modifier, msg_start, len(result))\n",
      "c:\\Users\\jonow\\anaconda3\\envs\\tf\\lib\\site-packages\\sklearn\\metrics\\_classification.py:1327: UndefinedMetricWarning: Precision and F-score are ill-defined and being set to 0.0 in labels with no predicted samples. Use `zero_division` parameter to control this behavior.\n",
      "  _warn_prf(average, modifier, msg_start, len(result))\n",
      "c:\\Users\\jonow\\anaconda3\\envs\\tf\\lib\\site-packages\\sklearn\\metrics\\_classification.py:1327: UndefinedMetricWarning: Precision and F-score are ill-defined and being set to 0.0 in labels with no predicted samples. Use `zero_division` parameter to control this behavior.\n",
      "  _warn_prf(average, modifier, msg_start, len(result))\n"
     ]
    },
    {
     "data": {
      "text/plain": [
       "'                                                                                                                                                                                                                                                                                                                                                                                                                                                                                                          precision    recall  f1-score   support\\n\\n                                                                                                                                                                                                                                                                                                                                                                                                                                                                                                               0.77      0.78      0.77       120\\n                                                                                                                                                                                                                                                                                                                                                                                                                                                                        Allonâ\\x80\\x99s men distributed fliers       0.00      0.00      0.00         1\\n                                                                                                                                                                                                                                                                                                                                                                                                                                                                                                Kimberly       0.00      0.00      0.00         1\\n King George Street and Mea Shearimâ\\x80\\x94there are no Arabs. One hundred percent Jews. Ever since Jerusalem was destroyed by the Romansâ\\x80\\x94the city was not as Jewish as it is now. In many Arab neighbourhoods in the West you do not see even one Arab. I do not suppose it will change. And what happened in Jerusalem and in Haifaâ\\x80\\x94can happen in large parts of the country. If we persist it is quite possible that in the next six or eight months there will be considerable changes in the country       0.00      0.00      0.00         1\\n                                                                                                                                                                                                                                                                                                                                                                                                                                                                 and have a following of robotic peoples       0.00      0.00      0.00         1\\n                                                                                                                                                                                                                                                                                                                                                                                                                                                          and other than a very few brain washed lefties       0.00      0.00      0.00         1\\n                                                                                                                                                                                                                                                                                                                                                                                                                                                       and went to make war with the remnant of her seed       0.00      0.00      0.00         1\\n                                                                                                                                                                                                                                                                                                                                                                                                                             because the substitution of Jewish for Arab labour would alienate the Arabs       0.00      0.00      0.00         1\\n                                                                                                                                                                                                                                                                                                                                                                                                                                                 but otherwise we will not be able to hold out.â\\x80\\x9d [76]        0.00      0.00      0.00         1\\n                                                                                                                                                                                                                                                                                                                                                                                                                                                                                     but possibly the EU       0.00      0.00      0.00         1\\n                                                                                                                                                                                                                                                                                                                                                                                                                           but what does that matter to them? Our God is not theirs. We come from Israel       0.00      0.00      0.00         1\\n                                                                                                                                                                                                                                                                                                                                                                                                                       drink his bloodâ\\x80\\x9d and perpetuate this horror by forcing it upon their children.        0.00      0.00      0.00         1\\n                                                                                                                                                                                                                                                                                                               etc. Some say that this election will be a landslide one way or the other. Iâ\\x80\\x99m not sure about that. To me itâ\\x80\\x99ll probably be close. Whether itâ\\x80\\x99s by a few hundred votes again or not       0.00      0.00      0.00         1\\n                                                                                                                                                                                                                                                                                                                                                                                                                                                             for the Zionistsâ\\x80\\x99 â\\x80\\x9cwar of conquestâ\\x80\\x9d.        0.00      0.00      0.00         1\\n                                                                                                                                                                                                                                                                                                                                                                                                                                                                                 from your point of view       0.00      0.00      0.00         1\\n                                                                                                                                                                                                                                                                                                                                                                                                                                                                                        in present needs       0.00      0.00      0.00         1\\n                                                                                                                                                                                                                                                                                                                                                                               instructing the lower court to rewrite its opinion so that it would not create a conflict between state and federal law.        0.00      0.00      0.00         1\\n                                                                                                                                                                                                                                                                                                                                                                                                                                                                                         killed 13 Arabs       0.00      0.00      0.00         1\\n                                                                                                                                                                                                                                                                                                                                                                                                                                                                                          line upon line       0.00      0.00      0.00         1\\n                                                                                                                                                                                                                                                                                                                                                                                                                                                                               neither Canada nor Mexico       0.00      0.00      0.00         1\\n                                                                                                                                                                                                                                                                                        right down to my cowgirl outfit and straw cowboy hat emblazoned with the slogan â\\x80\\x9cAuH20.â\\x80\\x9d â\\x80¦ I liked Senator Goldwater because he was a rugged individualist who swam against the political tide. retired22        0.00      0.00      0.00         1\\n                                                                                                                                                                                                                                                                                                                                                                                                                                                               said that we would go with their proposal       0.00      0.00      0.00         1\\n                                                                                                                                                                                                                                                                                                                                                                                      the U.S. Supreme Court once again exercised its discretionary appellate review jurisdiction and granted certiorari       0.00      0.00      0.00         1\\n                                                                                                                                                                                                                                                                                                                                                                                                                      their army had been able to complete the first stage of the cleansing of Palestine       0.00      0.00      0.00         1\\n                                                                                                                                                                                                                                                                                                                                                                                                                            those of that generation will see the end of history as we know it now. Also       0.00      0.00      0.00         1\\n                                                                                                                                                                                                                                                                                                                                                                                                                                                                      unlike the founder of Christianity       0.00      0.00      0.00         1\\n                                                                                                                                                                                                                                                                                                                                                                                     were ordered to send away their women and children (partly in order to make room for incoming militiamen).â\\x80\\x9d [84]        0.00      0.00      0.00         1\\n                                                                                                                                                                                                                                                                                                                                                                                                                                                                            you lose the town of Tangier       0.00      0.00      0.00         1\\n                                                                                                                                                                                                                                                                                                                                                               you would have a free hand. Can you recall this conversation? It is very important for the history of what is taking place in Syria now.        0.00      0.00      0.00         1\\n                                                                                                                                                                                                                                                                                                                                                                                                                                                                                                       0       0.94      0.92      0.93       432\\n                                                                                                                                                                                                                                                                                                                                                                                                                                                                000 Arabs in place.â\\x80\\x9d With this comment       0.00      0.00      0.00         1\\n                                                                                                                                                                                                                                                                                                                                                                                                                                                                                                       1       0.85      0.92      0.89       475\\n                                                                                                                                                                                                                                                                                                                                                                                                                                                                                   â\\x80\\x9d says Sarah Chayes       0.00      0.00      0.00         1\\n\\n                                                                                                                                                                                                                                                                                                                                                                                                                                                                                                accuracy                           0.88      1057\\n                                                                                                                                                                                                                                                                                                                                                                                                                                                                                               macro avg       0.08      0.08      0.08      1057\\n                                                                                                                                                                                                                                                                                                                                                                                                                                                                                            weighted avg       0.86      0.88      0.87      1057\\n'"
      ]
     },
     "execution_count": 34,
     "metadata": {},
     "output_type": "execute_result"
    }
   ],
   "source": [
    "# Classification report for test data\n",
    "classification_report(Y_test, X_test_prediction)"
   ]
  },
  {
   "cell_type": "markdown",
   "id": "c34ea110",
   "metadata": {
    "id": "b26ebf70"
   },
   "source": [
    "**CLASSIFICATION MODEL : PASSIVE AGGRESSIVE CLASSIFIER**\n",
    "\n",
    "* Passive Aggressive Classifier works by responding as passive for correct classifications and responding as aggressive for any miscalculation."
   ]
  },
  {
   "cell_type": "code",
   "execution_count": 35,
   "id": "56a14614",
   "metadata": {
    "id": "d486f0ca"
   },
   "outputs": [],
   "source": [
    "X2_train, X2_test, Y2_train, Y2_test = train_test_split(X, Y, test_size=0.33, random_state=42)"
   ]
  },
  {
   "cell_type": "code",
   "execution_count": 36,
   "id": "2dea76e5",
   "metadata": {
    "colab": {
     "base_uri": "https://localhost:8080/"
    },
    "id": "56733ec1",
    "outputId": "08614de7-b7e0-4a26-8bcf-6c60c62a2b80"
   },
   "outputs": [
    {
     "name": "stdout",
     "output_type": "stream",
     "text": [
      "Test Set Accuracy : 83.11822405782138 %\n",
      "\n",
      "\n"
     ]
    }
   ],
   "source": [
    "# Importing modules\n",
    "from sklearn.datasets import load_iris\n",
    "from sklearn.linear_model import PassiveAggressiveClassifier\n",
    "from sklearn.metrics import classification_report, accuracy_score\n",
    "from sklearn.model_selection import train_test_split\n",
    "\n",
    "# Splitting iris dataset into train and test sets\n",
    "X2_train, X2_test, Y2_train, Y2_test = train_test_split(X, Y, test_size=0.33, random_state=42)\n",
    "\n",
    "# Creating model\n",
    "passiveagressive_model = PassiveAggressiveClassifier(C = 0.5, random_state = 5)\n",
    "\n",
    "# Fitting model\n",
    "passiveagressive_model.fit(X2_train, Y2_train)\n",
    "\n",
    "# Making prediction on test set\n",
    "test_pred = passiveagressive_model.predict(X2_test)\n",
    "\n",
    "# Model evaluation\n",
    "print(f\"Test Set Accuracy : {accuracy_score(Y2_test, test_pred) * 100} %\\n\\n\")\n",
    "\n",
    "#print(f\"Classification Report : \\n\\n{classification_report(Y2_test, test_pred)}\")\n"
   ]
  },
  {
   "cell_type": "code",
   "execution_count": 37,
   "id": "30aad454",
   "metadata": {
    "id": "cfd09b49"
   },
   "outputs": [],
   "source": [
    "pickle.dump(passiveagressive_model, open('passiveagressive_model.pkl', 'wb'))"
   ]
  },
  {
   "cell_type": "markdown",
   "id": "4217aa3c",
   "metadata": {
    "id": "0eb9e924"
   },
   "source": [
    "Testing the two models"
   ]
  },
  {
   "cell_type": "code",
   "execution_count": 38,
   "id": "8bff07b0",
   "metadata": {
    "colab": {
     "base_uri": "https://localhost:8080/"
    },
    "id": "e003a27f",
    "outputId": "bf76c1aa-62dd-4fa1-edf9-8930e0e0ab82"
   },
   "outputs": [
    {
     "name": "stdout",
     "output_type": "stream",
     "text": [
      "['0']\n",
      "Johan Says it is a porky:)\n"
     ]
    }
   ],
   "source": [
    "X_new = X_test[500]\n",
    "\n",
    "prediction = logisticreg_model.predict(X_new)\n",
    "print(prediction)\n",
    "\n",
    "if (prediction[0] == 0):\n",
    "  print('Jono says its True')\n",
    "else:\n",
    "  print('Johan Says it is a porky:)')"
   ]
  },
  {
   "cell_type": "code",
   "execution_count": 39,
   "id": "ee542d9b",
   "metadata": {
    "colab": {
     "base_uri": "https://localhost:8080/"
    },
    "id": "0f35d01a",
    "outputId": "87003203-58d1-468f-febd-08cb3f9497a4"
   },
   "outputs": [
    {
     "name": "stdout",
     "output_type": "stream",
     "text": [
      "['1']\n",
      "Johan Says it is a porky:)\n"
     ]
    }
   ],
   "source": [
    "X2_new = X2_test[100]\n",
    "\n",
    "prediction2 = passiveagressive_model.predict(X2_new)\n",
    "print(prediction2)\n",
    "\n",
    "if (prediction2[0] == 0):\n",
    "  print('Jono says its True')\n",
    "else:\n",
    "  print('Johan Says it is a porky:)')"
   ]
  },
  {
   "cell_type": "code",
   "execution_count": 40,
   "id": "ded013bc",
   "metadata": {
    "colab": {
     "base_uri": "https://localhost:8080/",
     "height": 142
    },
    "id": "53216c3b",
    "outputId": "b3ddee1f-8b8d-4c16-b4bd-05d12eabacd6"
   },
   "outputs": [
    {
     "data": {
      "text/html": [
       "<div>\n",
       "<style scoped>\n",
       "    .dataframe tbody tr th:only-of-type {\n",
       "        vertical-align: middle;\n",
       "    }\n",
       "\n",
       "    .dataframe tbody tr th {\n",
       "        vertical-align: top;\n",
       "    }\n",
       "\n",
       "    .dataframe thead th {\n",
       "        text-align: right;\n",
       "    }\n",
       "</style>\n",
       "<table border=\"1\" class=\"dataframe\">\n",
       "  <thead>\n",
       "    <tr style=\"text-align: right;\">\n",
       "      <th></th>\n",
       "      <th>id</th>\n",
       "      <th>title</th>\n",
       "      <th>author</th>\n",
       "      <th>text</th>\n",
       "      <th>label</th>\n",
       "      <th>text_corpus</th>\n",
       "    </tr>\n",
       "  </thead>\n",
       "  <tbody>\n",
       "    <tr>\n",
       "      <th>100</th>\n",
       "      <td>92</td>\n",
       "      <td>Venezuela Muzzles Legislature, Moving Closer t...</td>\n",
       "      <td>Nicholas Casey and Patricia Torres</td>\n",
       "      <td>IQUITOS, Peru  â   Venezuela took its strong...</td>\n",
       "      <td>0</td>\n",
       "      <td>nichola casey patricia torr venezuela muzzl le...</td>\n",
       "    </tr>\n",
       "  </tbody>\n",
       "</table>\n",
       "</div>"
      ],
      "text/plain": [
       "     id                                              title  \\\n",
       "100  92  Venezuela Muzzles Legislature, Moving Closer t...   \n",
       "\n",
       "                                 author  \\\n",
       "100  Nicholas Casey and Patricia Torres   \n",
       "\n",
       "                                                  text label  \\\n",
       "100  IQUITOS, Peru  â   Venezuela took its strong...     0   \n",
       "\n",
       "                                           text_corpus  \n",
       "100  nichola casey patricia torr venezuela muzzl le...  "
      ]
     },
     "execution_count": 40,
     "metadata": {},
     "output_type": "execute_result"
    }
   ],
   "source": [
    "news_dataset[100:101]"
   ]
  },
  {
   "cell_type": "code",
   "execution_count": 41,
   "id": "f2fbeec6",
   "metadata": {
    "colab": {
     "base_uri": "https://localhost:8080/"
    },
    "id": "8e7f51b5",
    "outputId": "5c86dc3f-cc8f-45a5-961a-7172d3859859"
   },
   "outputs": [
    {
     "name": "stdout",
     "output_type": "stream",
     "text": [
      "1\n"
     ]
    }
   ],
   "source": [
    "print(Y_test[100])"
   ]
  },
  {
   "cell_type": "code",
   "execution_count": 42,
   "id": "b955a095",
   "metadata": {
    "colab": {
     "base_uri": "https://localhost:8080/"
    },
    "id": "94efd9e9",
    "outputId": "76ebbc05-2ab7-4016-bd29-a358456aab11"
   },
   "outputs": [
    {
     "name": "stdout",
     "output_type": "stream",
     "text": [
      "['0']\n",
      "Johan Says it is a porky:)\n"
     ]
    }
   ],
   "source": [
    "X_new = X_test[301]\n",
    "\n",
    "prediction = logisticreg_model.predict(X_new)\n",
    "print(prediction)\n",
    "\n",
    "if (prediction[0] == 0):\n",
    "  print('TIt is Schmiko')\n",
    "else:\n",
    "  print('Johan Says it is a porky:)')"
   ]
  },
  {
   "cell_type": "code",
   "execution_count": 43,
   "id": "2c753f79",
   "metadata": {
    "colab": {
     "base_uri": "https://localhost:8080/"
    },
    "id": "2c9261cf",
    "outputId": "54f1a90e-b597-4823-b1ac-95ccd39eb9e2"
   },
   "outputs": [
    {
     "name": "stdout",
     "output_type": "stream",
     "text": [
      "0\n"
     ]
    }
   ],
   "source": [
    "print(Y_test[301])"
   ]
  },
  {
   "cell_type": "code",
   "execution_count": 44,
   "id": "ee81e358",
   "metadata": {
    "colab": {
     "base_uri": "https://localhost:8080/",
     "height": 142
    },
    "id": "0c6b5a46",
    "outputId": "66f30668-2fac-47d4-a137-34e61c44b8d2"
   },
   "outputs": [
    {
     "data": {
      "text/html": [
       "<div>\n",
       "<style scoped>\n",
       "    .dataframe tbody tr th:only-of-type {\n",
       "        vertical-align: middle;\n",
       "    }\n",
       "\n",
       "    .dataframe tbody tr th {\n",
       "        vertical-align: top;\n",
       "    }\n",
       "\n",
       "    .dataframe thead th {\n",
       "        text-align: right;\n",
       "    }\n",
       "</style>\n",
       "<table border=\"1\" class=\"dataframe\">\n",
       "  <thead>\n",
       "    <tr style=\"text-align: right;\">\n",
       "      <th></th>\n",
       "      <th>id</th>\n",
       "      <th>title</th>\n",
       "      <th>author</th>\n",
       "      <th>text</th>\n",
       "      <th>label</th>\n",
       "      <th>text_corpus</th>\n",
       "    </tr>\n",
       "  </thead>\n",
       "  <tbody>\n",
       "    <tr>\n",
       "      <th>300</th>\n",
       "      <td>291</td>\n",
       "      <td>Confused by Chip Credit Cards? Get in Line - T...</td>\n",
       "      <td>Karen Workman</td>\n",
       "      <td>Youâre at the checkout counter. Your items h...</td>\n",
       "      <td>0</td>\n",
       "      <td>karen workman confus chip credit card get line...</td>\n",
       "    </tr>\n",
       "  </tbody>\n",
       "</table>\n",
       "</div>"
      ],
      "text/plain": [
       "      id                                              title         author  \\\n",
       "300  291  Confused by Chip Credit Cards? Get in Line - T...  Karen Workman   \n",
       "\n",
       "                                                  text label  \\\n",
       "300  Youâre at the checkout counter. Your items h...     0   \n",
       "\n",
       "                                           text_corpus  \n",
       "300  karen workman confus chip credit card get line...  "
      ]
     },
     "execution_count": 44,
     "metadata": {},
     "output_type": "execute_result"
    }
   ],
   "source": [
    "news_dataset[300:301]"
   ]
  },
  {
   "cell_type": "code",
   "execution_count": 45,
   "id": "71729407",
   "metadata": {
    "colab": {
     "base_uri": "https://localhost:8080/"
    },
    "id": "96a37b98",
    "outputId": "c624e03a-b09b-4801-e8c6-7bd1ca6109a1"
   },
   "outputs": [
    {
     "data": {
      "text/plain": [
       "array(['0', '', '0', ..., '1', '1', '1'], dtype=object)"
      ]
     },
     "execution_count": 45,
     "metadata": {},
     "output_type": "execute_result"
    }
   ],
   "source": [
    "pickled_model1 = pickle.load(open('logisticreg_model.pkl', 'rb'))\n",
    "pickled_model1.predict(X_test)"
   ]
  },
  {
   "cell_type": "code",
   "execution_count": 46,
   "id": "b2a95d4c",
   "metadata": {
    "colab": {
     "base_uri": "https://localhost:8080/"
    },
    "id": "7ab2357c",
    "outputId": "8151f4d9-d005-4d08-c4f7-fdace7e0da51"
   },
   "outputs": [
    {
     "data": {
      "text/plain": [
       "array(['0', '1', '0', ..., '1', '1', '1'], dtype='<U376')"
      ]
     },
     "execution_count": 46,
     "metadata": {},
     "output_type": "execute_result"
    }
   ],
   "source": [
    "pickled_model2 = pickle.load(open('passiveagressive_model.pkl', 'rb'))\n",
    "pickled_model2.predict(X2_test)"
   ]
  },
  {
   "cell_type": "markdown",
   "id": "962e0161",
   "metadata": {
    "id": "170922ea"
   },
   "source": [
    "FAngo tested a point to clarify teh vector model"
   ]
  },
  {
   "cell_type": "code",
   "execution_count": 47,
   "id": "92c8ed22",
   "metadata": {
    "id": "b0287aa5"
   },
   "outputs": [],
   "source": [
    "ps = PorterStemmer()"
   ]
  },
  {
   "cell_type": "code",
   "execution_count": 48,
   "id": "85837835",
   "metadata": {
    "colab": {
     "base_uri": "https://localhost:8080/",
     "height": 53
    },
    "id": "8144960d",
    "outputId": "4b1c42c4-0e78-4936-a1df-b47753a34daa"
   },
   "outputs": [
    {
     "data": {
      "text/plain": [
       "'nichola casey patricia torr venezuela muzzl legislatur move closer one man rule new york time iquito peru venezuela took strongest step yet toward rule leftist presid nicol maduro loyalist suprem court seiz power nation assembl rule late wednesday night rule effect dissolv elect legislatur led mr maduro oppon allow court write law expert said move cap year last vestig venezuela democraci torn critic region leader say leav mani describ authoritarian regim outright dictatorship warn final come pass said lui almagro head organ american state region diplomaci group includ venezuela investig countri violat bloc democrat charter mr almagro call move coup term use latin america denot takeov typic guatemala peru virtual region today recent month seen swift consolid power mr maduro score polit prison detain without trial protest violent repress local elect postpon take power nation assembl rule remov consid remain counterb presid grow power countri court said lawmak situat contempt last justic would step ensur parliamentari power exerci directli chamber bodi chamber choo say whether might hand power back member nation assembl denounc rule thursday kidnap constitut kidnap right kidnap liberti said julio borg opposit lawmak head bodi hold crumpl copi rule report thursday oneida guaip opposit lawmak countri central coast said bodi would continu work even law would ignor produc legisl demonstr world authoritarian said peopl chose us popular vote rule also challeng venezuela neighbor met washington week put pressur countri hold elect discuss possibl expul venezuela ground countri democrat last week unit state canada dozen latin america largest nation call mr maduro recogn nation assembl power rare joint statement reflect deep impati govern consid seriou setback democraci venezuela unit state state depart said thursday court deci peru withdrew ambassador protest david smild analyst washington offic latin america human right advocaci group said might venezuela neighbor encourag countri hold elect given resist within govern maduro govern seem intent respect basic element elector democraci said critic say long litani move govern take toll venezuela democraci perhap visibl venezuelan effort last year hold recal referendum presid whose popular sink along countri collap economi referendum permit countri constitut highli favor poll mr maduro altern call effort illeg coup stage oppon octob lower court suspend process ground irregular gather signatur meanwhil polit prison continu arrest januari mr maduro establish new commando round polit dissid accu treason group taken aim member opposit arrest mani includ citi councilman central venezuela deputi lawmak nation assembl februari cnn en espa ol network spanish languag channel broadcast investig link venezuela vice presid passport fraud scheme middl east mr maduro order channel air govern block caraca bureau chief new york time enter countri sinc octob mani gradual assault nation assembl year make tell sign democrat ero venezuela come fragment carlo ayala corao venezuelan lawyer legal analyst said court action legislatur slice piec conflict began decemb rise grievanc countri falter economi propel mr maduro opposit win control legislatur first time year chamber domin movement found former leftist presid hugo ch vez mr maduro initi said accept vote even appear opposit lawmak give annual address state govern januari last year suprem court pack loyalist mr maduro shortli nation assembl took power chip away chamber power refu let seat four lawmak ground vote irregular deni opposit supermajor would given expand power mr maduro nation assembl went back forth rule eventu compli nation assembl began get work continu clash court last spring legislatur written law deliv campaign promi like one measur invigor economi anoth free polit prison see court overturn unconstitut mr maduro tri increa power state emerg declar legislatur reject effort court side presid octob court strip nation assembl power review annual budget leav mr maduro charg countri pur string recent legisl tri block presid pursu oil ventur without approv wednesday rule strip nation assembl lawmak power court said presid right make oil deal said rule justifi assembl choic keep lawmak onboard whose elect question earlier act said render assembl invalid protest street caraca thursday unclear popular support opposit might get public analyst say mani venezuelan feel dispirit opposit leftist leader given opposit continu defeat govern opposit leader call protest saturday come week unabl draw larg crowd sinc last fall john magdaleno polit consult said expect wider crackdown opposit mr maduro come week possibl arrest opinion grow pressur lawmak said probabl much greater persecut polit leader'"
      ]
     },
     "execution_count": 48,
     "metadata": {},
     "output_type": "execute_result"
    }
   ],
   "source": [
    "review = re.sub('[^a-zA-Z]', ' ', news_dataset['text_corpus'][100])\n",
    "review = review.lower()\n",
    "review = review.split()\n",
    "    \n",
    "review = [ps.stem(word) for word in review if not word in stopwords.words('english')]\n",
    "review = ' '.join(review)\n",
    "review"
   ]
  },
  {
   "cell_type": "code",
   "execution_count": 49,
   "id": "10c9936d",
   "metadata": {
    "id": "79886864"
   },
   "outputs": [],
   "source": [
    "val = vectorizer.transform([review]).toarray()"
   ]
  },
  {
   "cell_type": "code",
   "execution_count": 50,
   "id": "2a5b0a25",
   "metadata": {
    "id": "884b6a48"
   },
   "outputs": [],
   "source": [
    "tfidfvect2_model2 = pickle.load(open('tfidfvect2.pkl', 'rb'))\n"
   ]
  },
  {
   "cell_type": "code",
   "execution_count": null,
   "id": "ea2956a9",
   "metadata": {},
   "outputs": [],
   "source": []
  },
  {
   "cell_type": "code",
   "execution_count": null,
   "id": "880908d0",
   "metadata": {},
   "outputs": [],
   "source": []
  }
 ],
 "metadata": {
  "colab": {
   "provenance": []
  },
  "kernelspec": {
   "display_name": "Python 3 (ipykernel)",
   "language": "python",
   "name": "python3"
  },
  "language_info": {
   "codemirror_mode": {
    "name": "ipython",
    "version": 3
   },
   "file_extension": ".py",
   "mimetype": "text/x-python",
   "name": "python",
   "nbconvert_exporter": "python",
   "pygments_lexer": "ipython3",
   "version": "3.9.16"
  },
  "papermill": {
   "default_parameters": {},
   "duration": 2140.826204,
   "end_time": "2021-09-29T17:10:10.602486",
   "environment_variables": {},
   "exception": null,
   "input_path": "__notebook__.ipynb",
   "output_path": "__notebook__.ipynb",
   "parameters": {},
   "start_time": "2021-09-29T16:34:29.776282",
   "version": "2.3.3"
  }
 },
 "nbformat": 4,
 "nbformat_minor": 5
}
