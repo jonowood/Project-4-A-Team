{
  "cells": [
    {
      "cell_type": "markdown",
      "metadata": {
        "id": "82112276"
      },
      "source": [
        "Modify the exisitng models reliably predict if new\n",
        "s is fake or real, uisng exisitng KAGGEL datasets"
      ],
      "id": "82112276"
    },
    {
      "cell_type": "markdown",
      "metadata": {
        "id": "5d663fb8"
      },
      "source": [
        "#### Dataset used - https://www.kaggle.com/fake-news/data\n",
        "\n",
        "### Dataset Description\n",
        "\n",
        "train.csv: A full training dataset with the following attributes:\n",
        "\n",
        "* id: unique id for a news article\n",
        "* title: the title of a news article\n",
        "* author: author of the news article\n",
        "* text: the text of the article; could be incomplete\n",
        "* label: a label that marks the article as potentially unreliable\n",
        "  * 1: FAKE\n",
        "  * 0: TRUE\n"
      ],
      "id": "5d663fb8"
    },
    {
      "cell_type": "markdown",
      "metadata": {
        "id": "6221fbd6"
      },
      "source": [
        "Set the dependencies"
      ],
      "id": "6221fbd6"
    },
    {
      "cell_type": "code",
      "execution_count": null,
      "metadata": {
        "id": "f628d6d5"
      },
      "outputs": [],
      "source": [
        "import numpy as np\n",
        "import pandas as pd\n",
        "\n",
        "import matplotlib.pyplot as plt\n",
        "\n",
        "import re \n",
        "import nltk \n",
        "from nltk.corpus import stopwords\n",
        "from nltk.stem.porter import PorterStemmer\n",
        "\n",
        "from sklearn.feature_extraction.text import TfidfVectorizer\n",
        "from sklearn.model_selection import train_test_split\n",
        "from sklearn.linear_model import LogisticRegression\n",
        "from sklearn.metrics import accuracy_score\n",
        "from sklearn.metrics import classification_report\n",
        "from sklearn import metrics\n",
        "import itertools\n"
      ],
      "id": "f628d6d5"
    },
    {
      "cell_type": "markdown",
      "metadata": {
        "id": "6d0206f0"
      },
      "source": [
        "The Natural Language Toolkit (NLTK) is a platform used for building Python programs that work with human language data for applying in statistical natural language processing (NLP). It contains text processing libraries for tokenization, parsing, classification, stemming, tagging and semantic reasoning.\n",
        "The nltk.corpus package defines a collection of corpus reader classes, which can be used to access the contents of a diverse set of corpora. The list of available corpora is given at: https://www.nltk.org/nltk_data/ Each corpus reader class is specialized to handle a specific corpus forma"
      ],
      "id": "6d0206f0"
    },
    {
      "cell_type": "markdown",
      "metadata": {
        "id": "5610f89f"
      },
      "source": [
        "Stopwords are words which occur frequently in a corpus. e.g a, an, the, in. Frequently occurring words are removed from the corpus for the purpose of text-normalization."
      ],
      "id": "5610f89f"
    },
    {
      "cell_type": "code",
      "execution_count": 93,
      "metadata": {
        "colab": {
          "base_uri": "https://localhost:8080/"
        },
        "id": "6bba3a8b",
        "outputId": "60e7a25c-632a-4e22-d712-1a714b499b03"
      },
      "outputs": [
        {
          "output_type": "stream",
          "name": "stderr",
          "text": [
            "[nltk_data] Downloading package stopwords to /root/nltk_data...\n",
            "[nltk_data]   Package stopwords is already up-to-date!\n"
          ]
        },
        {
          "output_type": "execute_result",
          "data": {
            "text/plain": [
              "True"
            ]
          },
          "metadata": {},
          "execution_count": 93
        }
      ],
      "source": [
        "nltk.download('stopwords')"
      ],
      "id": "6bba3a8b"
    },
    {
      "cell_type": "code",
      "execution_count": 94,
      "metadata": {
        "colab": {
          "base_uri": "https://localhost:8080/"
        },
        "id": "0a92108c",
        "outputId": "3b3a11e4-92d6-4569-e790-18225fd7b462"
      },
      "outputs": [
        {
          "output_type": "stream",
          "name": "stdout",
          "text": [
            "['i', 'me', 'my', 'myself', 'we', 'our', 'ours', 'ourselves', 'you', \"you're\", \"you've\", \"you'll\", \"you'd\", 'your', 'yours', 'yourself', 'yourselves', 'he', 'him', 'his', 'himself', 'she', \"she's\", 'her', 'hers', 'herself', 'it', \"it's\", 'its', 'itself', 'they', 'them', 'their', 'theirs', 'themselves', 'what', 'which', 'who', 'whom', 'this', 'that', \"that'll\", 'these', 'those', 'am', 'is', 'are', 'was', 'were', 'be', 'been', 'being', 'have', 'has', 'had', 'having', 'do', 'does', 'did', 'doing', 'a', 'an', 'the', 'and', 'but', 'if', 'or', 'because', 'as', 'until', 'while', 'of', 'at', 'by', 'for', 'with', 'about', 'against', 'between', 'into', 'through', 'during', 'before', 'after', 'above', 'below', 'to', 'from', 'up', 'down', 'in', 'out', 'on', 'off', 'over', 'under', 'again', 'further', 'then', 'once', 'here', 'there', 'when', 'where', 'why', 'how', 'all', 'any', 'both', 'each', 'few', 'more', 'most', 'other', 'some', 'such', 'no', 'nor', 'not', 'only', 'own', 'same', 'so', 'than', 'too', 'very', 's', 't', 'can', 'will', 'just', 'don', \"don't\", 'should', \"should've\", 'now', 'd', 'll', 'm', 'o', 're', 've', 'y', 'ain', 'aren', \"aren't\", 'couldn', \"couldn't\", 'didn', \"didn't\", 'doesn', \"doesn't\", 'hadn', \"hadn't\", 'hasn', \"hasn't\", 'haven', \"haven't\", 'isn', \"isn't\", 'ma', 'mightn', \"mightn't\", 'mustn', \"mustn't\", 'needn', \"needn't\", 'shan', \"shan't\", 'shouldn', \"shouldn't\", 'wasn', \"wasn't\", 'weren', \"weren't\", 'won', \"won't\", 'wouldn', \"wouldn't\"]\n"
          ]
        }
      ],
      "source": [
        "# check if Stopwords laoded in english\n",
        "\n",
        "print(stopwords.words('english'))"
      ],
      "id": "0a92108c"
    },
    {
      "cell_type": "markdown",
      "metadata": {
        "id": "79673b36"
      },
      "source": [
        "Data Pre-processing and Analysis\n"
      ],
      "id": "79673b36"
    },
    {
      "cell_type": "markdown",
      "metadata": {
        "id": "UYViJs4VF7i3"
      },
      "source": [
        "Regular Expression Syntax. A regular expression (or RE) specifies a set of strings that matches it; the functions in this module let you check if a particular string matches a given regular expression (or if a given regular expression matches a particular string, which comes down to the same thing"
      ],
      "id": "UYViJs4VF7i3"
    },
    {
      "cell_type": "markdown",
      "metadata": {
        "id": "3f1ac583"
      },
      "source": [
        "Load the dataset, Read"
      ],
      "id": "3f1ac583"
    },
    {
      "cell_type": "code",
      "execution_count": 96,
      "metadata": {
        "colab": {
          "base_uri": "https://localhost:8080/"
        },
        "id": "04156c39",
        "outputId": "c546736d-1974-43e4-a7bb-82906eb9fead"
      },
      "outputs": [
        {
          "output_type": "stream",
          "name": "stderr",
          "text": [
            "<ipython-input-96-3689a30b2268>:2: DtypeWarning: Columns (73,74,75,76,77,78,79,80,81,82,83,84,85,86,87,88,89,90,91,92,93,94,95,96,97,98,99,100,101,102,103,104,105,106,107,108,109,110,111,112,113,114,115,116,117,118,119,120,121,122,123,124,125,126,127,128,129,130,131,132,133,134,135,136,137,138,139,140,141,142,143,144,145,146,147,148,149,150,151,152,153,154,155,156,157,158,159,160,161,162,163,164,165,166,167,168,169,170,171,172,173,174,175,176,177,178,179,180,181,182,183,184,185,186,187,188,189,190,191,192,193,194,195,196,197,198,199,200,201,202,203,204,205,206,207,208,209,210,211,212,213,214,215,216,217,218,219,220,221,222,223,224,225,226,227,228,229,230,231,232,233,234,235,236,237,238,239,240,241,242,243,244,245,246,247,248,249) have mixed types. Specify dtype option on import or set low_memory=False.\n",
            "  news_dataset = pd.read_csv('trainsmall.csv',encoding = \"latin-1\")\n"
          ]
        }
      ],
      "source": [
        "# First let's load the dataset\n",
        "news_dataset = pd.read_csv('trainsmall.csv',encoding = \"latin-1\")\n"
      ],
      "id": "04156c39"
    },
    {
      "cell_type": "code",
      "execution_count": 97,
      "metadata": {
        "colab": {
          "base_uri": "https://localhost:8080/",
          "height": 612
        },
        "id": "6db68bf1",
        "outputId": "fda13cfb-35d8-4453-e8ab-12aa90f2b431"
      },
      "outputs": [
        {
          "output_type": "execute_result",
          "data": {
            "text/plain": [
              "  id                                              title              author  \\\n",
              "0  0  House Dem Aide: We Didnât Even See Comeyâs...       Darrell Lucus   \n",
              "1  1  FLYNN: Hillary Clinton, Big Woman on Campus - ...     Daniel J. Flynn   \n",
              "2  2                  Why the Truth Might Get You Fired  Consortiumnews.com   \n",
              "3  3  15 Civilians Killed In Single US Airstrike Hav...     Jessica Purkiss   \n",
              "4  4  Iranian woman jailed for fictional unpublished...      Howard Portnoy   \n",
              "\n",
              "                                                text label Unnamed: 5  \\\n",
              "0  House Dem Aide: We Didnât Even See Comeyâs...     1        NaN   \n",
              "1  Ever get the feeling your life circles the rou...     0        NaN   \n",
              "2  Why the Truth Might Get You Fired October 29, ...     1        NaN   \n",
              "3  Videos 15 Civilians Killed In Single US Airstr...     1        NaN   \n",
              "4  Print \\r\\nAn Iranian woman has been sentenced ...     1        NaN   \n",
              "\n",
              "  Unnamed: 6 Unnamed: 7 Unnamed: 8 Unnamed: 9  ... Unnamed: 241 Unnamed: 242  \\\n",
              "0        NaN        NaN        NaN        NaN  ...          NaN          NaN   \n",
              "1        NaN        NaN        NaN        NaN  ...          NaN          NaN   \n",
              "2        NaN        NaN        NaN        NaN  ...          NaN          NaN   \n",
              "3        NaN        NaN        NaN        NaN  ...          NaN          NaN   \n",
              "4        NaN        NaN        NaN        NaN  ...          NaN          NaN   \n",
              "\n",
              "  Unnamed: 243 Unnamed: 244 Unnamed: 245 Unnamed: 246 Unnamed: 247  \\\n",
              "0          NaN          NaN          NaN          NaN          NaN   \n",
              "1          NaN          NaN          NaN          NaN          NaN   \n",
              "2          NaN          NaN          NaN          NaN          NaN   \n",
              "3          NaN          NaN          NaN          NaN          NaN   \n",
              "4          NaN          NaN          NaN          NaN          NaN   \n",
              "\n",
              "  Unnamed: 248 Unnamed: 249 Unnamed: 250  \n",
              "0          NaN          NaN          NaN  \n",
              "1          NaN          NaN          NaN  \n",
              "2          NaN          NaN          NaN  \n",
              "3          NaN          NaN          NaN  \n",
              "4          NaN          NaN          NaN  \n",
              "\n",
              "[5 rows x 251 columns]"
            ],
            "text/html": [
              "\n",
              "  <div id=\"df-23bacacc-7872-4445-8e6c-96b72715ab22\">\n",
              "    <div class=\"colab-df-container\">\n",
              "      <div>\n",
              "<style scoped>\n",
              "    .dataframe tbody tr th:only-of-type {\n",
              "        vertical-align: middle;\n",
              "    }\n",
              "\n",
              "    .dataframe tbody tr th {\n",
              "        vertical-align: top;\n",
              "    }\n",
              "\n",
              "    .dataframe thead th {\n",
              "        text-align: right;\n",
              "    }\n",
              "</style>\n",
              "<table border=\"1\" class=\"dataframe\">\n",
              "  <thead>\n",
              "    <tr style=\"text-align: right;\">\n",
              "      <th></th>\n",
              "      <th>id</th>\n",
              "      <th>title</th>\n",
              "      <th>author</th>\n",
              "      <th>text</th>\n",
              "      <th>label</th>\n",
              "      <th>Unnamed: 5</th>\n",
              "      <th>Unnamed: 6</th>\n",
              "      <th>Unnamed: 7</th>\n",
              "      <th>Unnamed: 8</th>\n",
              "      <th>Unnamed: 9</th>\n",
              "      <th>...</th>\n",
              "      <th>Unnamed: 241</th>\n",
              "      <th>Unnamed: 242</th>\n",
              "      <th>Unnamed: 243</th>\n",
              "      <th>Unnamed: 244</th>\n",
              "      <th>Unnamed: 245</th>\n",
              "      <th>Unnamed: 246</th>\n",
              "      <th>Unnamed: 247</th>\n",
              "      <th>Unnamed: 248</th>\n",
              "      <th>Unnamed: 249</th>\n",
              "      <th>Unnamed: 250</th>\n",
              "    </tr>\n",
              "  </thead>\n",
              "  <tbody>\n",
              "    <tr>\n",
              "      <th>0</th>\n",
              "      <td>0</td>\n",
              "      <td>House Dem Aide: We Didnât Even See Comeyâs...</td>\n",
              "      <td>Darrell Lucus</td>\n",
              "      <td>House Dem Aide: We Didnât Even See Comeyâs...</td>\n",
              "      <td>1</td>\n",
              "      <td>NaN</td>\n",
              "      <td>NaN</td>\n",
              "      <td>NaN</td>\n",
              "      <td>NaN</td>\n",
              "      <td>NaN</td>\n",
              "      <td>...</td>\n",
              "      <td>NaN</td>\n",
              "      <td>NaN</td>\n",
              "      <td>NaN</td>\n",
              "      <td>NaN</td>\n",
              "      <td>NaN</td>\n",
              "      <td>NaN</td>\n",
              "      <td>NaN</td>\n",
              "      <td>NaN</td>\n",
              "      <td>NaN</td>\n",
              "      <td>NaN</td>\n",
              "    </tr>\n",
              "    <tr>\n",
              "      <th>1</th>\n",
              "      <td>1</td>\n",
              "      <td>FLYNN: Hillary Clinton, Big Woman on Campus - ...</td>\n",
              "      <td>Daniel J. Flynn</td>\n",
              "      <td>Ever get the feeling your life circles the rou...</td>\n",
              "      <td>0</td>\n",
              "      <td>NaN</td>\n",
              "      <td>NaN</td>\n",
              "      <td>NaN</td>\n",
              "      <td>NaN</td>\n",
              "      <td>NaN</td>\n",
              "      <td>...</td>\n",
              "      <td>NaN</td>\n",
              "      <td>NaN</td>\n",
              "      <td>NaN</td>\n",
              "      <td>NaN</td>\n",
              "      <td>NaN</td>\n",
              "      <td>NaN</td>\n",
              "      <td>NaN</td>\n",
              "      <td>NaN</td>\n",
              "      <td>NaN</td>\n",
              "      <td>NaN</td>\n",
              "    </tr>\n",
              "    <tr>\n",
              "      <th>2</th>\n",
              "      <td>2</td>\n",
              "      <td>Why the Truth Might Get You Fired</td>\n",
              "      <td>Consortiumnews.com</td>\n",
              "      <td>Why the Truth Might Get You Fired October 29, ...</td>\n",
              "      <td>1</td>\n",
              "      <td>NaN</td>\n",
              "      <td>NaN</td>\n",
              "      <td>NaN</td>\n",
              "      <td>NaN</td>\n",
              "      <td>NaN</td>\n",
              "      <td>...</td>\n",
              "      <td>NaN</td>\n",
              "      <td>NaN</td>\n",
              "      <td>NaN</td>\n",
              "      <td>NaN</td>\n",
              "      <td>NaN</td>\n",
              "      <td>NaN</td>\n",
              "      <td>NaN</td>\n",
              "      <td>NaN</td>\n",
              "      <td>NaN</td>\n",
              "      <td>NaN</td>\n",
              "    </tr>\n",
              "    <tr>\n",
              "      <th>3</th>\n",
              "      <td>3</td>\n",
              "      <td>15 Civilians Killed In Single US Airstrike Hav...</td>\n",
              "      <td>Jessica Purkiss</td>\n",
              "      <td>Videos 15 Civilians Killed In Single US Airstr...</td>\n",
              "      <td>1</td>\n",
              "      <td>NaN</td>\n",
              "      <td>NaN</td>\n",
              "      <td>NaN</td>\n",
              "      <td>NaN</td>\n",
              "      <td>NaN</td>\n",
              "      <td>...</td>\n",
              "      <td>NaN</td>\n",
              "      <td>NaN</td>\n",
              "      <td>NaN</td>\n",
              "      <td>NaN</td>\n",
              "      <td>NaN</td>\n",
              "      <td>NaN</td>\n",
              "      <td>NaN</td>\n",
              "      <td>NaN</td>\n",
              "      <td>NaN</td>\n",
              "      <td>NaN</td>\n",
              "    </tr>\n",
              "    <tr>\n",
              "      <th>4</th>\n",
              "      <td>4</td>\n",
              "      <td>Iranian woman jailed for fictional unpublished...</td>\n",
              "      <td>Howard Portnoy</td>\n",
              "      <td>Print \\r\\nAn Iranian woman has been sentenced ...</td>\n",
              "      <td>1</td>\n",
              "      <td>NaN</td>\n",
              "      <td>NaN</td>\n",
              "      <td>NaN</td>\n",
              "      <td>NaN</td>\n",
              "      <td>NaN</td>\n",
              "      <td>...</td>\n",
              "      <td>NaN</td>\n",
              "      <td>NaN</td>\n",
              "      <td>NaN</td>\n",
              "      <td>NaN</td>\n",
              "      <td>NaN</td>\n",
              "      <td>NaN</td>\n",
              "      <td>NaN</td>\n",
              "      <td>NaN</td>\n",
              "      <td>NaN</td>\n",
              "      <td>NaN</td>\n",
              "    </tr>\n",
              "  </tbody>\n",
              "</table>\n",
              "<p>5 rows × 251 columns</p>\n",
              "</div>\n",
              "      <button class=\"colab-df-convert\" onclick=\"convertToInteractive('df-23bacacc-7872-4445-8e6c-96b72715ab22')\"\n",
              "              title=\"Convert this dataframe to an interactive table.\"\n",
              "              style=\"display:none;\">\n",
              "        \n",
              "  <svg xmlns=\"http://www.w3.org/2000/svg\" height=\"24px\"viewBox=\"0 0 24 24\"\n",
              "       width=\"24px\">\n",
              "    <path d=\"M0 0h24v24H0V0z\" fill=\"none\"/>\n",
              "    <path d=\"M18.56 5.44l.94 2.06.94-2.06 2.06-.94-2.06-.94-.94-2.06-.94 2.06-2.06.94zm-11 1L8.5 8.5l.94-2.06 2.06-.94-2.06-.94L8.5 2.5l-.94 2.06-2.06.94zm10 10l.94 2.06.94-2.06 2.06-.94-2.06-.94-.94-2.06-.94 2.06-2.06.94z\"/><path d=\"M17.41 7.96l-1.37-1.37c-.4-.4-.92-.59-1.43-.59-.52 0-1.04.2-1.43.59L10.3 9.45l-7.72 7.72c-.78.78-.78 2.05 0 2.83L4 21.41c.39.39.9.59 1.41.59.51 0 1.02-.2 1.41-.59l7.78-7.78 2.81-2.81c.8-.78.8-2.07 0-2.86zM5.41 20L4 18.59l7.72-7.72 1.47 1.35L5.41 20z\"/>\n",
              "  </svg>\n",
              "      </button>\n",
              "      \n",
              "  <style>\n",
              "    .colab-df-container {\n",
              "      display:flex;\n",
              "      flex-wrap:wrap;\n",
              "      gap: 12px;\n",
              "    }\n",
              "\n",
              "    .colab-df-convert {\n",
              "      background-color: #E8F0FE;\n",
              "      border: none;\n",
              "      border-radius: 50%;\n",
              "      cursor: pointer;\n",
              "      display: none;\n",
              "      fill: #1967D2;\n",
              "      height: 32px;\n",
              "      padding: 0 0 0 0;\n",
              "      width: 32px;\n",
              "    }\n",
              "\n",
              "    .colab-df-convert:hover {\n",
              "      background-color: #E2EBFA;\n",
              "      box-shadow: 0px 1px 2px rgba(60, 64, 67, 0.3), 0px 1px 3px 1px rgba(60, 64, 67, 0.15);\n",
              "      fill: #174EA6;\n",
              "    }\n",
              "\n",
              "    [theme=dark] .colab-df-convert {\n",
              "      background-color: #3B4455;\n",
              "      fill: #D2E3FC;\n",
              "    }\n",
              "\n",
              "    [theme=dark] .colab-df-convert:hover {\n",
              "      background-color: #434B5C;\n",
              "      box-shadow: 0px 1px 3px 1px rgba(0, 0, 0, 0.15);\n",
              "      filter: drop-shadow(0px 1px 2px rgba(0, 0, 0, 0.3));\n",
              "      fill: #FFFFFF;\n",
              "    }\n",
              "  </style>\n",
              "\n",
              "      <script>\n",
              "        const buttonEl =\n",
              "          document.querySelector('#df-23bacacc-7872-4445-8e6c-96b72715ab22 button.colab-df-convert');\n",
              "        buttonEl.style.display =\n",
              "          google.colab.kernel.accessAllowed ? 'block' : 'none';\n",
              "\n",
              "        async function convertToInteractive(key) {\n",
              "          const element = document.querySelector('#df-23bacacc-7872-4445-8e6c-96b72715ab22');\n",
              "          const dataTable =\n",
              "            await google.colab.kernel.invokeFunction('convertToInteractive',\n",
              "                                                     [key], {});\n",
              "          if (!dataTable) return;\n",
              "\n",
              "          const docLinkHtml = 'Like what you see? Visit the ' +\n",
              "            '<a target=\"_blank\" href=https://colab.research.google.com/notebooks/data_table.ipynb>data table notebook</a>'\n",
              "            + ' to learn more about interactive tables.';\n",
              "          element.innerHTML = '';\n",
              "          dataTable['output_type'] = 'display_data';\n",
              "          await google.colab.output.renderOutput(dataTable, element);\n",
              "          const docLink = document.createElement('div');\n",
              "          docLink.innerHTML = docLinkHtml;\n",
              "          element.appendChild(docLink);\n",
              "        }\n",
              "      </script>\n",
              "    </div>\n",
              "  </div>\n",
              "  "
            ]
          },
          "metadata": {},
          "execution_count": 97
        }
      ],
      "source": [
        "news_dataset.head()"
      ],
      "id": "6db68bf1"
    },
    {
      "cell_type": "code",
      "execution_count": 98,
      "metadata": {
        "colab": {
          "base_uri": "https://localhost:8080/"
        },
        "id": "f1d24169",
        "outputId": "f7d4d083-96e5-443b-aee0-053f60c8166c"
      },
      "outputs": [
        {
          "output_type": "execute_result",
          "data": {
            "text/plain": [
              "(5867, 251)"
            ]
          },
          "metadata": {},
          "execution_count": 98
        }
      ],
      "source": [
        "news_dataset.shape"
      ],
      "id": "f1d24169"
    },
    {
      "cell_type": "code",
      "execution_count": 99,
      "metadata": {
        "colab": {
          "base_uri": "https://localhost:8080/"
        },
        "id": "3d38f612",
        "outputId": "14830702-6488-47c4-ca88-86e4b222bb92"
      },
      "outputs": [
        {
          "output_type": "execute_result",
          "data": {
            "text/plain": [
              "id                 0\n",
              "title            460\n",
              "author           989\n",
              "text             619\n",
              "label            713\n",
              "                ... \n",
              "Unnamed: 246    5866\n",
              "Unnamed: 247    5866\n",
              "Unnamed: 248    5866\n",
              "Unnamed: 249    5866\n",
              "Unnamed: 250    5866\n",
              "Length: 251, dtype: int64"
            ]
          },
          "metadata": {},
          "execution_count": 99
        }
      ],
      "source": [
        "# Checking for missing values\n",
        "news_dataset.isnull().sum()"
      ],
      "id": "3d38f612"
    },
    {
      "cell_type": "code",
      "execution_count": 100,
      "metadata": {
        "id": "d95f9736"
      },
      "outputs": [],
      "source": [
        "# Let's replace the missing values with empty strings wherever possible\n",
        "news_dataset = news_dataset.fillna('')"
      ],
      "id": "d95f9736"
    },
    {
      "cell_type": "code",
      "execution_count": 101,
      "metadata": {
        "colab": {
          "base_uri": "https://localhost:8080/"
        },
        "id": "5d5f40bf",
        "outputId": "cc15f783-376b-4fc1-b4b3-5d3e2c64c108"
      },
      "outputs": [
        {
          "output_type": "execute_result",
          "data": {
            "text/plain": [
              "id              0\n",
              "title           0\n",
              "author          0\n",
              "text            0\n",
              "label           0\n",
              "               ..\n",
              "Unnamed: 246    0\n",
              "Unnamed: 247    0\n",
              "Unnamed: 248    0\n",
              "Unnamed: 249    0\n",
              "Unnamed: 250    0\n",
              "Length: 251, dtype: int64"
            ]
          },
          "metadata": {},
          "execution_count": 101
        }
      ],
      "source": [
        "news_dataset.isnull().sum()"
      ],
      "id": "5d5f40bf"
    },
    {
      "cell_type": "markdown",
      "metadata": {
        "id": "ZsjPKVpeGlYY"
      },
      "source": [
        "In thsi dataset the Title, Author indicates validity of the message"
      ],
      "id": "ZsjPKVpeGlYY"
    },
    {
      "cell_type": "code",
      "execution_count": 102,
      "metadata": {
        "colab": {
          "base_uri": "https://localhost:8080/"
        },
        "id": "aba665b0",
        "outputId": "2bcce018-4b74-46e6-e3ef-8cdfeadfb5b1"
      },
      "outputs": [
        {
          "output_type": "stream",
          "name": "stderr",
          "text": [
            "<ipython-input-102-262e9a411340>:1: PerformanceWarning: DataFrame is highly fragmented.  This is usually the result of calling `frame.insert` many times, which has poor performance.  Consider joining all columns at once using pd.concat(axis=1) instead. To get a de-fragmented frame, use `newframe = frame.copy()`\n",
            "  news_dataset['text_corpus'] = news_dataset['author']+' '+news_dataset['title']+' '+news_dataset['text']\n"
          ]
        }
      ],
      "source": [
        "news_dataset['text_corpus'] = news_dataset['author']+' '+news_dataset['title']+' '+news_dataset['text']"
      ],
      "id": "aba665b0"
    },
    {
      "cell_type": "code",
      "execution_count": 103,
      "metadata": {
        "colab": {
          "base_uri": "https://localhost:8080/"
        },
        "id": "2eeb4408",
        "outputId": "df2b4384-3584-4133-d53b-7c7dbfc8311c"
      },
      "outputs": [
        {
          "output_type": "stream",
          "name": "stdout",
          "text": [
            "0       Darrell Lucus House Dem Aide: We Didnât Even...\n",
            "1       Daniel J. Flynn FLYNN: Hillary Clinton, Big Wo...\n",
            "2       Consortiumnews.com Why the Truth Might Get You...\n",
            "3       Jessica Purkiss 15 Civilians Killed In Single ...\n",
            "4       Howard Portnoy Iranian woman jailed for fictio...\n",
            "                              ...                        \n",
            "5862    Samuel Chi California Ready for Single-Payer I...\n",
            "5863    Mac Slavo âViolent Revolution If Trump Lets ...\n",
            "5864    Amanda Hess How Conservative Sites Turn Celebr...\n",
            "5865    David Gutierrez, staff writer Woman awarded $7...\n",
            "5866    Simon Kent Artist Says Burqa Images Challenge ...\n",
            "Name: text_corpus, Length: 5867, dtype: object\n"
          ]
        }
      ],
      "source": [
        "print(news_dataset['text_corpus'])"
      ],
      "id": "2eeb4408"
    },
    {
      "cell_type": "code",
      "execution_count": 104,
      "metadata": {
        "colab": {
          "base_uri": "https://localhost:8080/",
          "height": 612
        },
        "id": "77582ef7",
        "outputId": "d4b21cbb-1cf0-45a1-8bfb-bec30ee96279"
      },
      "outputs": [
        {
          "output_type": "execute_result",
          "data": {
            "text/plain": [
              "  id                                              title              author  \\\n",
              "0  0  House Dem Aide: We Didnât Even See Comeyâs...       Darrell Lucus   \n",
              "1  1  FLYNN: Hillary Clinton, Big Woman on Campus - ...     Daniel J. Flynn   \n",
              "2  2                  Why the Truth Might Get You Fired  Consortiumnews.com   \n",
              "3  3  15 Civilians Killed In Single US Airstrike Hav...     Jessica Purkiss   \n",
              "4  4  Iranian woman jailed for fictional unpublished...      Howard Portnoy   \n",
              "\n",
              "                                                text label Unnamed: 5  \\\n",
              "0  House Dem Aide: We Didnât Even See Comeyâs...     1              \n",
              "1  Ever get the feeling your life circles the rou...     0              \n",
              "2  Why the Truth Might Get You Fired October 29, ...     1              \n",
              "3  Videos 15 Civilians Killed In Single US Airstr...     1              \n",
              "4  Print \\r\\nAn Iranian woman has been sentenced ...     1              \n",
              "\n",
              "  Unnamed: 6 Unnamed: 7 Unnamed: 8 Unnamed: 9  ... Unnamed: 242 Unnamed: 243  \\\n",
              "0                                              ...                             \n",
              "1                                              ...                             \n",
              "2                                              ...                             \n",
              "3                                              ...                             \n",
              "4                                              ...                             \n",
              "\n",
              "  Unnamed: 244 Unnamed: 245 Unnamed: 246 Unnamed: 247 Unnamed: 248  \\\n",
              "0                                                                    \n",
              "1                                                                    \n",
              "2                                                                    \n",
              "3                                                                    \n",
              "4                                                                    \n",
              "\n",
              "  Unnamed: 249 Unnamed: 250                                        text_corpus  \n",
              "0                            Darrell Lucus House Dem Aide: We Didnât Even...  \n",
              "1                            Daniel J. Flynn FLYNN: Hillary Clinton, Big Wo...  \n",
              "2                            Consortiumnews.com Why the Truth Might Get You...  \n",
              "3                            Jessica Purkiss 15 Civilians Killed In Single ...  \n",
              "4                            Howard Portnoy Iranian woman jailed for fictio...  \n",
              "\n",
              "[5 rows x 252 columns]"
            ],
            "text/html": [
              "\n",
              "  <div id=\"df-c1856ae1-f225-4631-b955-68466f6c15f2\">\n",
              "    <div class=\"colab-df-container\">\n",
              "      <div>\n",
              "<style scoped>\n",
              "    .dataframe tbody tr th:only-of-type {\n",
              "        vertical-align: middle;\n",
              "    }\n",
              "\n",
              "    .dataframe tbody tr th {\n",
              "        vertical-align: top;\n",
              "    }\n",
              "\n",
              "    .dataframe thead th {\n",
              "        text-align: right;\n",
              "    }\n",
              "</style>\n",
              "<table border=\"1\" class=\"dataframe\">\n",
              "  <thead>\n",
              "    <tr style=\"text-align: right;\">\n",
              "      <th></th>\n",
              "      <th>id</th>\n",
              "      <th>title</th>\n",
              "      <th>author</th>\n",
              "      <th>text</th>\n",
              "      <th>label</th>\n",
              "      <th>Unnamed: 5</th>\n",
              "      <th>Unnamed: 6</th>\n",
              "      <th>Unnamed: 7</th>\n",
              "      <th>Unnamed: 8</th>\n",
              "      <th>Unnamed: 9</th>\n",
              "      <th>...</th>\n",
              "      <th>Unnamed: 242</th>\n",
              "      <th>Unnamed: 243</th>\n",
              "      <th>Unnamed: 244</th>\n",
              "      <th>Unnamed: 245</th>\n",
              "      <th>Unnamed: 246</th>\n",
              "      <th>Unnamed: 247</th>\n",
              "      <th>Unnamed: 248</th>\n",
              "      <th>Unnamed: 249</th>\n",
              "      <th>Unnamed: 250</th>\n",
              "      <th>text_corpus</th>\n",
              "    </tr>\n",
              "  </thead>\n",
              "  <tbody>\n",
              "    <tr>\n",
              "      <th>0</th>\n",
              "      <td>0</td>\n",
              "      <td>House Dem Aide: We Didnât Even See Comeyâs...</td>\n",
              "      <td>Darrell Lucus</td>\n",
              "      <td>House Dem Aide: We Didnât Even See Comeyâs...</td>\n",
              "      <td>1</td>\n",
              "      <td></td>\n",
              "      <td></td>\n",
              "      <td></td>\n",
              "      <td></td>\n",
              "      <td></td>\n",
              "      <td>...</td>\n",
              "      <td></td>\n",
              "      <td></td>\n",
              "      <td></td>\n",
              "      <td></td>\n",
              "      <td></td>\n",
              "      <td></td>\n",
              "      <td></td>\n",
              "      <td></td>\n",
              "      <td></td>\n",
              "      <td>Darrell Lucus House Dem Aide: We Didnât Even...</td>\n",
              "    </tr>\n",
              "    <tr>\n",
              "      <th>1</th>\n",
              "      <td>1</td>\n",
              "      <td>FLYNN: Hillary Clinton, Big Woman on Campus - ...</td>\n",
              "      <td>Daniel J. Flynn</td>\n",
              "      <td>Ever get the feeling your life circles the rou...</td>\n",
              "      <td>0</td>\n",
              "      <td></td>\n",
              "      <td></td>\n",
              "      <td></td>\n",
              "      <td></td>\n",
              "      <td></td>\n",
              "      <td>...</td>\n",
              "      <td></td>\n",
              "      <td></td>\n",
              "      <td></td>\n",
              "      <td></td>\n",
              "      <td></td>\n",
              "      <td></td>\n",
              "      <td></td>\n",
              "      <td></td>\n",
              "      <td></td>\n",
              "      <td>Daniel J. Flynn FLYNN: Hillary Clinton, Big Wo...</td>\n",
              "    </tr>\n",
              "    <tr>\n",
              "      <th>2</th>\n",
              "      <td>2</td>\n",
              "      <td>Why the Truth Might Get You Fired</td>\n",
              "      <td>Consortiumnews.com</td>\n",
              "      <td>Why the Truth Might Get You Fired October 29, ...</td>\n",
              "      <td>1</td>\n",
              "      <td></td>\n",
              "      <td></td>\n",
              "      <td></td>\n",
              "      <td></td>\n",
              "      <td></td>\n",
              "      <td>...</td>\n",
              "      <td></td>\n",
              "      <td></td>\n",
              "      <td></td>\n",
              "      <td></td>\n",
              "      <td></td>\n",
              "      <td></td>\n",
              "      <td></td>\n",
              "      <td></td>\n",
              "      <td></td>\n",
              "      <td>Consortiumnews.com Why the Truth Might Get You...</td>\n",
              "    </tr>\n",
              "    <tr>\n",
              "      <th>3</th>\n",
              "      <td>3</td>\n",
              "      <td>15 Civilians Killed In Single US Airstrike Hav...</td>\n",
              "      <td>Jessica Purkiss</td>\n",
              "      <td>Videos 15 Civilians Killed In Single US Airstr...</td>\n",
              "      <td>1</td>\n",
              "      <td></td>\n",
              "      <td></td>\n",
              "      <td></td>\n",
              "      <td></td>\n",
              "      <td></td>\n",
              "      <td>...</td>\n",
              "      <td></td>\n",
              "      <td></td>\n",
              "      <td></td>\n",
              "      <td></td>\n",
              "      <td></td>\n",
              "      <td></td>\n",
              "      <td></td>\n",
              "      <td></td>\n",
              "      <td></td>\n",
              "      <td>Jessica Purkiss 15 Civilians Killed In Single ...</td>\n",
              "    </tr>\n",
              "    <tr>\n",
              "      <th>4</th>\n",
              "      <td>4</td>\n",
              "      <td>Iranian woman jailed for fictional unpublished...</td>\n",
              "      <td>Howard Portnoy</td>\n",
              "      <td>Print \\r\\nAn Iranian woman has been sentenced ...</td>\n",
              "      <td>1</td>\n",
              "      <td></td>\n",
              "      <td></td>\n",
              "      <td></td>\n",
              "      <td></td>\n",
              "      <td></td>\n",
              "      <td>...</td>\n",
              "      <td></td>\n",
              "      <td></td>\n",
              "      <td></td>\n",
              "      <td></td>\n",
              "      <td></td>\n",
              "      <td></td>\n",
              "      <td></td>\n",
              "      <td></td>\n",
              "      <td></td>\n",
              "      <td>Howard Portnoy Iranian woman jailed for fictio...</td>\n",
              "    </tr>\n",
              "  </tbody>\n",
              "</table>\n",
              "<p>5 rows × 252 columns</p>\n",
              "</div>\n",
              "      <button class=\"colab-df-convert\" onclick=\"convertToInteractive('df-c1856ae1-f225-4631-b955-68466f6c15f2')\"\n",
              "              title=\"Convert this dataframe to an interactive table.\"\n",
              "              style=\"display:none;\">\n",
              "        \n",
              "  <svg xmlns=\"http://www.w3.org/2000/svg\" height=\"24px\"viewBox=\"0 0 24 24\"\n",
              "       width=\"24px\">\n",
              "    <path d=\"M0 0h24v24H0V0z\" fill=\"none\"/>\n",
              "    <path d=\"M18.56 5.44l.94 2.06.94-2.06 2.06-.94-2.06-.94-.94-2.06-.94 2.06-2.06.94zm-11 1L8.5 8.5l.94-2.06 2.06-.94-2.06-.94L8.5 2.5l-.94 2.06-2.06.94zm10 10l.94 2.06.94-2.06 2.06-.94-2.06-.94-.94-2.06-.94 2.06-2.06.94z\"/><path d=\"M17.41 7.96l-1.37-1.37c-.4-.4-.92-.59-1.43-.59-.52 0-1.04.2-1.43.59L10.3 9.45l-7.72 7.72c-.78.78-.78 2.05 0 2.83L4 21.41c.39.39.9.59 1.41.59.51 0 1.02-.2 1.41-.59l7.78-7.78 2.81-2.81c.8-.78.8-2.07 0-2.86zM5.41 20L4 18.59l7.72-7.72 1.47 1.35L5.41 20z\"/>\n",
              "  </svg>\n",
              "      </button>\n",
              "      \n",
              "  <style>\n",
              "    .colab-df-container {\n",
              "      display:flex;\n",
              "      flex-wrap:wrap;\n",
              "      gap: 12px;\n",
              "    }\n",
              "\n",
              "    .colab-df-convert {\n",
              "      background-color: #E8F0FE;\n",
              "      border: none;\n",
              "      border-radius: 50%;\n",
              "      cursor: pointer;\n",
              "      display: none;\n",
              "      fill: #1967D2;\n",
              "      height: 32px;\n",
              "      padding: 0 0 0 0;\n",
              "      width: 32px;\n",
              "    }\n",
              "\n",
              "    .colab-df-convert:hover {\n",
              "      background-color: #E2EBFA;\n",
              "      box-shadow: 0px 1px 2px rgba(60, 64, 67, 0.3), 0px 1px 3px 1px rgba(60, 64, 67, 0.15);\n",
              "      fill: #174EA6;\n",
              "    }\n",
              "\n",
              "    [theme=dark] .colab-df-convert {\n",
              "      background-color: #3B4455;\n",
              "      fill: #D2E3FC;\n",
              "    }\n",
              "\n",
              "    [theme=dark] .colab-df-convert:hover {\n",
              "      background-color: #434B5C;\n",
              "      box-shadow: 0px 1px 3px 1px rgba(0, 0, 0, 0.15);\n",
              "      filter: drop-shadow(0px 1px 2px rgba(0, 0, 0, 0.3));\n",
              "      fill: #FFFFFF;\n",
              "    }\n",
              "  </style>\n",
              "\n",
              "      <script>\n",
              "        const buttonEl =\n",
              "          document.querySelector('#df-c1856ae1-f225-4631-b955-68466f6c15f2 button.colab-df-convert');\n",
              "        buttonEl.style.display =\n",
              "          google.colab.kernel.accessAllowed ? 'block' : 'none';\n",
              "\n",
              "        async function convertToInteractive(key) {\n",
              "          const element = document.querySelector('#df-c1856ae1-f225-4631-b955-68466f6c15f2');\n",
              "          const dataTable =\n",
              "            await google.colab.kernel.invokeFunction('convertToInteractive',\n",
              "                                                     [key], {});\n",
              "          if (!dataTable) return;\n",
              "\n",
              "          const docLinkHtml = 'Like what you see? Visit the ' +\n",
              "            '<a target=\"_blank\" href=https://colab.research.google.com/notebooks/data_table.ipynb>data table notebook</a>'\n",
              "            + ' to learn more about interactive tables.';\n",
              "          element.innerHTML = '';\n",
              "          dataTable['output_type'] = 'display_data';\n",
              "          await google.colab.output.renderOutput(dataTable, element);\n",
              "          const docLink = document.createElement('div');\n",
              "          docLink.innerHTML = docLinkHtml;\n",
              "          element.appendChild(docLink);\n",
              "        }\n",
              "      </script>\n",
              "    </div>\n",
              "  </div>\n",
              "  "
            ]
          },
          "metadata": {},
          "execution_count": 104
        }
      ],
      "source": [
        "news_dataset.head()"
      ],
      "id": "77582ef7"
    },
    {
      "cell_type": "code",
      "source": [
        "# Remove all columns between column index 1 to 3\n",
        "news_dataset.drop(news_dataset.iloc[:, 5:250], inplace=True, axis=1)\n",
        "news_dataset.head()"
      ],
      "metadata": {
        "colab": {
          "base_uri": "https://localhost:8080/",
          "height": 354
        },
        "id": "H75vkbFp_ZHg",
        "outputId": "dea6d63c-7997-4954-d5c4-851307b693d7"
      },
      "id": "H75vkbFp_ZHg",
      "execution_count": 105,
      "outputs": [
        {
          "output_type": "execute_result",
          "data": {
            "text/plain": [
              "  id                                              title              author  \\\n",
              "0  0  House Dem Aide: We Didnât Even See Comeyâs...       Darrell Lucus   \n",
              "1  1  FLYNN: Hillary Clinton, Big Woman on Campus - ...     Daniel J. Flynn   \n",
              "2  2                  Why the Truth Might Get You Fired  Consortiumnews.com   \n",
              "3  3  15 Civilians Killed In Single US Airstrike Hav...     Jessica Purkiss   \n",
              "4  4  Iranian woman jailed for fictional unpublished...      Howard Portnoy   \n",
              "\n",
              "                                                text label Unnamed: 250  \\\n",
              "0  House Dem Aide: We Didnât Even See Comeyâs...     1                \n",
              "1  Ever get the feeling your life circles the rou...     0                \n",
              "2  Why the Truth Might Get You Fired October 29, ...     1                \n",
              "3  Videos 15 Civilians Killed In Single US Airstr...     1                \n",
              "4  Print \\r\\nAn Iranian woman has been sentenced ...     1                \n",
              "\n",
              "                                         text_corpus  \n",
              "0  Darrell Lucus House Dem Aide: We Didnât Even...  \n",
              "1  Daniel J. Flynn FLYNN: Hillary Clinton, Big Wo...  \n",
              "2  Consortiumnews.com Why the Truth Might Get You...  \n",
              "3  Jessica Purkiss 15 Civilians Killed In Single ...  \n",
              "4  Howard Portnoy Iranian woman jailed for fictio...  "
            ],
            "text/html": [
              "\n",
              "  <div id=\"df-44d7c8b3-4697-4f58-bed1-a8eb70b80438\">\n",
              "    <div class=\"colab-df-container\">\n",
              "      <div>\n",
              "<style scoped>\n",
              "    .dataframe tbody tr th:only-of-type {\n",
              "        vertical-align: middle;\n",
              "    }\n",
              "\n",
              "    .dataframe tbody tr th {\n",
              "        vertical-align: top;\n",
              "    }\n",
              "\n",
              "    .dataframe thead th {\n",
              "        text-align: right;\n",
              "    }\n",
              "</style>\n",
              "<table border=\"1\" class=\"dataframe\">\n",
              "  <thead>\n",
              "    <tr style=\"text-align: right;\">\n",
              "      <th></th>\n",
              "      <th>id</th>\n",
              "      <th>title</th>\n",
              "      <th>author</th>\n",
              "      <th>text</th>\n",
              "      <th>label</th>\n",
              "      <th>Unnamed: 250</th>\n",
              "      <th>text_corpus</th>\n",
              "    </tr>\n",
              "  </thead>\n",
              "  <tbody>\n",
              "    <tr>\n",
              "      <th>0</th>\n",
              "      <td>0</td>\n",
              "      <td>House Dem Aide: We Didnât Even See Comeyâs...</td>\n",
              "      <td>Darrell Lucus</td>\n",
              "      <td>House Dem Aide: We Didnât Even See Comeyâs...</td>\n",
              "      <td>1</td>\n",
              "      <td></td>\n",
              "      <td>Darrell Lucus House Dem Aide: We Didnât Even...</td>\n",
              "    </tr>\n",
              "    <tr>\n",
              "      <th>1</th>\n",
              "      <td>1</td>\n",
              "      <td>FLYNN: Hillary Clinton, Big Woman on Campus - ...</td>\n",
              "      <td>Daniel J. Flynn</td>\n",
              "      <td>Ever get the feeling your life circles the rou...</td>\n",
              "      <td>0</td>\n",
              "      <td></td>\n",
              "      <td>Daniel J. Flynn FLYNN: Hillary Clinton, Big Wo...</td>\n",
              "    </tr>\n",
              "    <tr>\n",
              "      <th>2</th>\n",
              "      <td>2</td>\n",
              "      <td>Why the Truth Might Get You Fired</td>\n",
              "      <td>Consortiumnews.com</td>\n",
              "      <td>Why the Truth Might Get You Fired October 29, ...</td>\n",
              "      <td>1</td>\n",
              "      <td></td>\n",
              "      <td>Consortiumnews.com Why the Truth Might Get You...</td>\n",
              "    </tr>\n",
              "    <tr>\n",
              "      <th>3</th>\n",
              "      <td>3</td>\n",
              "      <td>15 Civilians Killed In Single US Airstrike Hav...</td>\n",
              "      <td>Jessica Purkiss</td>\n",
              "      <td>Videos 15 Civilians Killed In Single US Airstr...</td>\n",
              "      <td>1</td>\n",
              "      <td></td>\n",
              "      <td>Jessica Purkiss 15 Civilians Killed In Single ...</td>\n",
              "    </tr>\n",
              "    <tr>\n",
              "      <th>4</th>\n",
              "      <td>4</td>\n",
              "      <td>Iranian woman jailed for fictional unpublished...</td>\n",
              "      <td>Howard Portnoy</td>\n",
              "      <td>Print \\r\\nAn Iranian woman has been sentenced ...</td>\n",
              "      <td>1</td>\n",
              "      <td></td>\n",
              "      <td>Howard Portnoy Iranian woman jailed for fictio...</td>\n",
              "    </tr>\n",
              "  </tbody>\n",
              "</table>\n",
              "</div>\n",
              "      <button class=\"colab-df-convert\" onclick=\"convertToInteractive('df-44d7c8b3-4697-4f58-bed1-a8eb70b80438')\"\n",
              "              title=\"Convert this dataframe to an interactive table.\"\n",
              "              style=\"display:none;\">\n",
              "        \n",
              "  <svg xmlns=\"http://www.w3.org/2000/svg\" height=\"24px\"viewBox=\"0 0 24 24\"\n",
              "       width=\"24px\">\n",
              "    <path d=\"M0 0h24v24H0V0z\" fill=\"none\"/>\n",
              "    <path d=\"M18.56 5.44l.94 2.06.94-2.06 2.06-.94-2.06-.94-.94-2.06-.94 2.06-2.06.94zm-11 1L8.5 8.5l.94-2.06 2.06-.94-2.06-.94L8.5 2.5l-.94 2.06-2.06.94zm10 10l.94 2.06.94-2.06 2.06-.94-2.06-.94-.94-2.06-.94 2.06-2.06.94z\"/><path d=\"M17.41 7.96l-1.37-1.37c-.4-.4-.92-.59-1.43-.59-.52 0-1.04.2-1.43.59L10.3 9.45l-7.72 7.72c-.78.78-.78 2.05 0 2.83L4 21.41c.39.39.9.59 1.41.59.51 0 1.02-.2 1.41-.59l7.78-7.78 2.81-2.81c.8-.78.8-2.07 0-2.86zM5.41 20L4 18.59l7.72-7.72 1.47 1.35L5.41 20z\"/>\n",
              "  </svg>\n",
              "      </button>\n",
              "      \n",
              "  <style>\n",
              "    .colab-df-container {\n",
              "      display:flex;\n",
              "      flex-wrap:wrap;\n",
              "      gap: 12px;\n",
              "    }\n",
              "\n",
              "    .colab-df-convert {\n",
              "      background-color: #E8F0FE;\n",
              "      border: none;\n",
              "      border-radius: 50%;\n",
              "      cursor: pointer;\n",
              "      display: none;\n",
              "      fill: #1967D2;\n",
              "      height: 32px;\n",
              "      padding: 0 0 0 0;\n",
              "      width: 32px;\n",
              "    }\n",
              "\n",
              "    .colab-df-convert:hover {\n",
              "      background-color: #E2EBFA;\n",
              "      box-shadow: 0px 1px 2px rgba(60, 64, 67, 0.3), 0px 1px 3px 1px rgba(60, 64, 67, 0.15);\n",
              "      fill: #174EA6;\n",
              "    }\n",
              "\n",
              "    [theme=dark] .colab-df-convert {\n",
              "      background-color: #3B4455;\n",
              "      fill: #D2E3FC;\n",
              "    }\n",
              "\n",
              "    [theme=dark] .colab-df-convert:hover {\n",
              "      background-color: #434B5C;\n",
              "      box-shadow: 0px 1px 3px 1px rgba(0, 0, 0, 0.15);\n",
              "      filter: drop-shadow(0px 1px 2px rgba(0, 0, 0, 0.3));\n",
              "      fill: #FFFFFF;\n",
              "    }\n",
              "  </style>\n",
              "\n",
              "      <script>\n",
              "        const buttonEl =\n",
              "          document.querySelector('#df-44d7c8b3-4697-4f58-bed1-a8eb70b80438 button.colab-df-convert');\n",
              "        buttonEl.style.display =\n",
              "          google.colab.kernel.accessAllowed ? 'block' : 'none';\n",
              "\n",
              "        async function convertToInteractive(key) {\n",
              "          const element = document.querySelector('#df-44d7c8b3-4697-4f58-bed1-a8eb70b80438');\n",
              "          const dataTable =\n",
              "            await google.colab.kernel.invokeFunction('convertToInteractive',\n",
              "                                                     [key], {});\n",
              "          if (!dataTable) return;\n",
              "\n",
              "          const docLinkHtml = 'Like what you see? Visit the ' +\n",
              "            '<a target=\"_blank\" href=https://colab.research.google.com/notebooks/data_table.ipynb>data table notebook</a>'\n",
              "            + ' to learn more about interactive tables.';\n",
              "          element.innerHTML = '';\n",
              "          dataTable['output_type'] = 'display_data';\n",
              "          await google.colab.output.renderOutput(dataTable, element);\n",
              "          const docLink = document.createElement('div');\n",
              "          docLink.innerHTML = docLinkHtml;\n",
              "          element.appendChild(docLink);\n",
              "        }\n",
              "      </script>\n",
              "    </div>\n",
              "  </div>\n",
              "  "
            ]
          },
          "metadata": {},
          "execution_count": 105
        }
      ]
    },
    {
      "cell_type": "code",
      "execution_count": 106,
      "metadata": {
        "id": "a25eb688"
      },
      "outputs": [],
      "source": [
        "# Now we will separate the data and label i.e. text_corpus and label fields\n",
        "X = news_dataset.drop(columns='label', axis=1)\n",
        "Y = news_dataset['label']"
      ],
      "id": "a25eb688"
    },
    {
      "cell_type": "code",
      "execution_count": 108,
      "metadata": {
        "colab": {
          "base_uri": "https://localhost:8080/"
        },
        "id": "055d4fe6",
        "outputId": "4764302a-a630-4fde-8cbc-a05fcd44dc98"
      },
      "outputs": [
        {
          "output_type": "stream",
          "name": "stdout",
          "text": [
            "0       Darrell Lucus House Dem Aide: We Didnât Even...\n",
            "1       Daniel J. Flynn FLYNN: Hillary Clinton, Big Wo...\n",
            "2       Consortiumnews.com Why the Truth Might Get You...\n",
            "3       Jessica Purkiss 15 Civilians Killed In Single ...\n",
            "4       Howard Portnoy Iranian woman jailed for fictio...\n",
            "                              ...                        \n",
            "5862    Samuel Chi California Ready for Single-Payer I...\n",
            "5863    Mac Slavo âViolent Revolution If Trump Lets ...\n",
            "5864    Amanda Hess How Conservative Sites Turn Celebr...\n",
            "5865    David Gutierrez, staff writer Woman awarded $7...\n",
            "5866    Simon Kent Artist Says Burqa Images Challenge ...\n",
            "Name: text_corpus, Length: 5867, dtype: object\n"
          ]
        }
      ],
      "source": [
        "X = news_dataset['text_corpus']\n",
        "print(X)"
      ],
      "id": "055d4fe6"
    },
    {
      "cell_type": "code",
      "execution_count": 109,
      "metadata": {
        "colab": {
          "base_uri": "https://localhost:8080/"
        },
        "id": "014b696d",
        "outputId": "b5663364-35da-4b46-8a7c-dcd359fa4da2"
      },
      "outputs": [
        {
          "output_type": "stream",
          "name": "stdout",
          "text": [
            "0       1\n",
            "1       0\n",
            "2       1\n",
            "3       1\n",
            "4       1\n",
            "       ..\n",
            "5862    0\n",
            "5863    1\n",
            "5864    0\n",
            "5865    1\n",
            "5866    0\n",
            "Name: label, Length: 5867, dtype: object\n"
          ]
        }
      ],
      "source": [
        "print(Y)"
      ],
      "id": "014b696d"
    },
    {
      "cell_type": "code",
      "execution_count": 110,
      "metadata": {
        "colab": {
          "base_uri": "https://localhost:8080/"
        },
        "id": "fe5bc449",
        "outputId": "e3a26a0d-cd18-4fcd-b8a7-d4be6e3c808e"
      },
      "outputs": [
        {
          "output_type": "execute_result",
          "data": {
            "text/plain": [
              "0    Darrell Lucus House Dem Aide: We Didnât Even...\n",
              "1    Daniel J. Flynn FLYNN: Hillary Clinton, Big Wo...\n",
              "2    Consortiumnews.com Why the Truth Might Get You...\n",
              "3    Jessica Purkiss 15 Civilians Killed In Single ...\n",
              "4    Howard Portnoy Iranian woman jailed for fictio...\n",
              "Name: text_corpus, dtype: object"
            ]
          },
          "metadata": {},
          "execution_count": 110
        }
      ],
      "source": [
        "X.head()"
      ],
      "id": "fe5bc449"
    },
    {
      "cell_type": "markdown",
      "metadata": {
        "id": "c0e0dbfc"
      },
      "source": [
        "\n",
        "\n",
        "\n",
        "Stemming or Lemmatization-https://pythonprogramming.net/stemming-nltk-tutorial/\n",
        "\n",
        "Stemming is a technique used to reduce an inflected word down to its word stem. For example, the words “programming,” “programmer,” and “programs” can all be reduced down to the common word stem “program.” In other words, “program” can be used as a synonym for the prior three inflection words\n",
        "\n",
        "Porter’s Stemmer applies a set of five sequential rules (also called phases) to determine common suffixes from sentences.\n"
      ],
      "id": "c0e0dbfc"
    },
    {
      "cell_type": "code",
      "execution_count": 111,
      "metadata": {
        "id": "a1013d86"
      },
      "outputs": [],
      "source": [
        "port_stem = PorterStemmer()\n",
        "\n",
        "def stemming(content):\n",
        "    # Pick all alphabet characters - lowercase and uppercase...all others such as numbers and punctuations will be removed. Numbers or punctuations will be replaced by a whitespace\n",
        "    stemmed_content = re.sub('[^a-zA-Z]',' ',content)\n",
        "    # Converting all letters to lowercase \n",
        "    stemmed_content = stemmed_content.lower()\n",
        "    # Converting all to a splitted case or a list\n",
        "    stemmed_content = stemmed_content.split()\n",
        "    # Applying stemming, so we get the root words wherever possible + remove stopwords as well\n",
        "    stemmed_content = [port_stem.stem(word) for word in stemmed_content if not word in stopwords.words('english')]\n",
        "    # Join all the words in final content\n",
        "    stemmed_content = ' '.join(stemmed_content)\n",
        "    return stemmed_content"
      ],
      "id": "a1013d86"
    },
    {
      "cell_type": "code",
      "execution_count": 112,
      "metadata": {
        "id": "4db14016"
      },
      "outputs": [],
      "source": [
        "news_dataset['text_corpus'] = news_dataset['text_corpus'].apply(stemming)"
      ],
      "id": "4db14016"
    },
    {
      "cell_type": "code",
      "execution_count": 113,
      "metadata": {
        "colab": {
          "base_uri": "https://localhost:8080/"
        },
        "id": "a2012e6f",
        "outputId": "ca92e2a0-1c31-458b-a3e1-88260047e7b8"
      },
      "outputs": [
        {
          "output_type": "stream",
          "name": "stdout",
          "text": [
            "0       darrel lucu hous dem aid even see comey letter...\n",
            "1       daniel j flynn flynn hillari clinton big woman...\n",
            "2       consortiumnew com truth might get fire truth m...\n",
            "3       jessica purkiss civilian kill singl us airstri...\n",
            "4       howard portnoy iranian woman jail fiction unpu...\n",
            "                              ...                        \n",
            "5862    samuel chi california readi singl payer insur ...\n",
            "5863    mac slavo violent revolut trump let peopl rema...\n",
            "5864    amanda hess conserv site turn celebr despair h...\n",
            "5865    david gutierrez staff writer woman award contr...\n",
            "5866    simon kent artist say burqa imag challeng anti...\n",
            "Name: text_corpus, Length: 5867, dtype: object\n"
          ]
        }
      ],
      "source": [
        "print(news_dataset['text_corpus'])"
      ],
      "id": "a2012e6f"
    },
    {
      "cell_type": "code",
      "execution_count": 114,
      "metadata": {
        "id": "a0cca27c"
      },
      "outputs": [],
      "source": [
        "# Separating data and label\n",
        "X = news_dataset['text_corpus'].values\n",
        "Y = news_dataset['label'].values"
      ],
      "id": "a0cca27c"
    },
    {
      "cell_type": "code",
      "execution_count": 115,
      "metadata": {
        "colab": {
          "base_uri": "https://localhost:8080/"
        },
        "id": "e7a78bc7",
        "outputId": "d7e414bc-ec99-42d1-bbc2-0d7e28b7f2d0"
      },
      "outputs": [
        {
          "output_type": "stream",
          "name": "stdout",
          "text": [
            "['darrel lucu hous dem aid even see comey letter jason chaffetz tweet hous dem aid even see comey letter jason chaffetz tweet darrel lucu octob subscrib jason chaffetz stump american fork utah imag courtesi michael jolley avail creativ common licens apolog keith olbermann doubt worst person world week fbi director jame comey accord hous democrat aid look like also know second worst person well turn comey sent infam letter announc fbi look email may relat hillari clinton email server rank democrat relev committe hear comey found via tweet one republican committe chairmen know comey notifi republican chairmen democrat rank member hous intellig judiciari oversight committe agenc review email recent discov order see contain classifi inform long letter went oversight committe chairman jason chaffetz set polit world ablaz tweet fbi dir inform fbi learn exist email appear pertin investig case reopen jason chaffetz jasoninthehous octob cours know case comey actual say review email light unrel case know anthoni weiner sext teenag appar littl thing fact matter chaffetz utah republican alreadi vow initi raft investig hillari win least two year worth possibl entir term worth appar chaffetz thought fbi alreadi work result tweet briefli roil nation cooler head realiz dud accord senior hous democrat aid misread letter may least chaffetz sin aid told shareblu boss democrat even know comey letter time found check twitter democrat rank member relev committe receiv comey letter republican chairmen fact democrat rank member receiv chairman oversight govern reform committe jason chaffetz tweet made public let see got right fbi director tell chaffetz gop committe chairmen major develop potenti polit explos investig neither chaffetz colleagu courtesi let democrat counterpart know instead accord aid made find twitter alreadi talk daili ko comey provid advanc notic letter chaffetz republican give time turn spin machin may make good theater noth far even suggest case noth far suggest comey anyth grossli incompet tone deaf suggest howev chaffetz act way make dan burton darrel issa look like model respons bipartisanship even decenc notifi rank member elijah cum someth explos trampl basic standard fair know grant like chaffetz answer sit ridicul republican district anchor provo orem cook partisan vote index r gave mitt romney punish percent vote moreov republican hous leadership given full support chaffetz plan fish expedit mean turn hot light textbook exampl hous becom republican control also second worst person world darrel lucu darrel someth graduat univers north carolina consid journalist old school attempt turn member religi right colleg succeed turn religi right worst nightmar charismat christian unapologet liber desir stand scare silenc increas surviv abus three year marriag may know daili ko christian dem nc follow twitter darrelllucu connect facebook click buy darrel mello yello connect'\n",
            " 'daniel j flynn flynn hillari clinton big woman campu breitbart ever get feel life circl roundabout rather head straight line toward intend destin hillari clinton remain big woman campu leafi liber wellesley massachusett everywher els vote like inaugur dress remaind day way miss havisham forev wore wed dress speak great expect hillari rodham overflow year ago first address wellesley graduat class presid colleg inform gather student need debat far could ascertain spokesman kind like democrat primari minu term unknown even seven sister school glad miss adam made clear speak today us us miss rodham told classmat appoint edger bergen charli mccarthi mortim snerd attend bespectacl granni glass award matronli wisdom least john lennon wisdom took issu previou speaker despit becom first win elect seat u senat sinc reconstruct edward brook came critic call empathi goal protestor critic tactic though clinton senior thesi saul alinski lament black power demagogu elitist arrog repress intoler within new left similar word come republican necessit brief rebutt trust rodham iron observ one word ask class rehears want say everyon came said talk trust talk lack trust us way feel other talk trust bust say say feel permeat gener perhap even understood distrust trust bust certainli bust clinton plan certainli even understand peopl distrust whitewat travelg vast conspiraci benghazi miss email clinton found distrust voic friday load compromis road broaden polit horizon distrust american peopl trump edg percent percent question immedi prior novemb elect stood major reason close horizon clinton describ vanquish support embrac lie con altern fact assault truth reason fail explain american peopl chose lie truth histori major among today know well peopl power invent fact attack question mark begin end free societi offer hyperbol like mani peopl emerg hillari clinton embark upon long strang trip high school goldwat girl wellesley colleg republican presid democrat politician clinton drank time place gave degre significantli went idealist cynic comparison two wellesley commenc address show way back lament long leader view polit art possibl challeng practic polit art make appear imposs possibl big woman campu odd woman white hous wonder current station even possibl point ahead ask septemb may ask presid woman famous dub congenit liar bill safir conclud lie mind get stood elect day like find jilt bride wed day inspir danger delus'\n",
            " 'consortiumnew com truth might get fire truth might get fire octob tension intellig analyst polit policymak alway honest assess desir result latter often overwhelm former iraq war write lawrenc davidson lawrenc davidson might wonder foreign polici maker repeatedli make bad choic insight might drawn follow analysi action play unit state lesson probabl univers back earli spring georg w bush initi invas iraq one key public reason claim countri dictat saddam hussein verg develop nuclear weapon hide weapon mass destruct real reason went beyond charg includ long rang plan regim chang middl east presid georg w bush vice presid dick cheney receiv oval offic brief cia director georg tenet also present chief staff andi card right white hous photo purpos concentr belief iraq becom hostil nuclear power presid bush close associ accept scenario readili short answer bush want inde need believ rational invad iraq first tri connect saddam hussein attack u though never gave stratagem lack evid made difficult ralli american peopl alreadi fixat afghanistan support war baghdad nuclear weapon gambit prove fruit hard evid charg supposedli reliabl wit person exil anti saddam iraqi mani u govern payrol kept tell bush advis nuclear stori true u leadership cadr whose worldview liter demand mortal danger iraq inform order precipit overthrow saddam will tell tale pend atom weapon strong desir believ tale nuclear iraq lower threshold proof likewis repeat assert assum depend iraqi sourc underpin nationwid u campaign gener fear war fever u alli insist unit nation send weapon inspector scour iraq evid nuclear weapon program well chemic biolog weapon inspector could find convinc evid frustrat bush administr soon forc hand march bush launch invas iraq expect occup countri u inspector would sure find evid nuke least stockpil chemic biolog weapon iraqi inform systemat lie social behavior scienc rescu variou u intellig agenc thoroughli shaken affair today year later director manag still tri sort specif tell get true intellig lie one intellig worker put need help protect us armi snake oil salesmen end cia et al market academ assist ahm chalabi head iraqi nation congress key supplier iraqi defector bogu stori hidden wmd partnership forg offic director nation intellig odni serv coordin center sixteen independ u intellig agenc nation academi scienc engin medicin result collabor perman intellig commun studi board coordin program social behavior scienc research might strengthen nation secur despit effort almost certain social behavior scienc cannot give spi agenc want way detect lie better present standard procedur polygraph test interrog even could might well make differ real problem found liar found believ believ simpli true odni leader seem assert u intellig agenc personnel cannot tell often lie case thousand middl echelon intellig worker desk offic specialist know someth close approach truth know pretti well go place like afghanistan iraq syria libya israel palestin elsewher director nation intellig jame clapper right talk presid barack obama oval offic john brennan nation secur aid present photo credit offic director nation intellig therefor someon feed snake oil usual know howev accur grasp thing often avail superior got appoint accept pre structur worldview differ criterion true analyst listen charl gaukel nation intellig council yet anoth organ act meet ground intellig agenc refer search way avoid get taken lie gaukel declar look truth particularli look truth work might mean certainli tell mean histor mean power broker truth must match fit worldview polit ideolog precept fit work intellig specialist send usual accur assess line polici maker often hit roadblock caus group think ideolog blinker know better attitud hand long sell leadership match want believ peddl anyth imaginari iraqi nuke israel western style democraci saudi arabia indispens alli libya liber countri bashar al assad real roadblock peac syria strateg defens initi sdi aka star war world get colder warmer american exception glori list almost endless sad tale tell us want spend million dollar social behavior scienc research improv assess use intellig forget liar want look antidot narrow minded believ policymak seem abl rise ideolog presumpt class presumpt underpin self confid lead us slipperi slope happen way often mani place sourc shakespear determin past prelud elit play destini free capac break structur way see yet middl echelon specialist keep send rel accur assess ladder power hope spring etern'\n",
            " ...\n",
            " 'amanda hess conserv site turn celebr despair head new york time throughout bitter elect campaign liber celebr like ladi gaga jennif lawrenc lena dunham miranda use power media platform sing hillari clinton prais invit onlin follow join process loss protest impend administr donald j trump want live countryofkind lovetrumpsh ladi gaga wrote twitter day elect ad photo protest outsid trump tower manhattan climb onto truck strapless black jumpsuit rais sign angri tweet therapeut instagram testimoni fieri speech may comfort fan celebr also inadvert energ opposit conserv news outlet notabl breitbart news network populist enclav perfect art sap democrat star name recognit repurpos word action materi enorm reach celebr enjoy privileg bubbl live wield refashion evid outsiz control rich famou regular american new battl cultur war wage bombast comment like rush limbaugh nimbl often nameless onlin aggreg quickli churn popular cultur throw evoc stori reader often without much commentari take point headlin unflatt photo real quot like ladi gaga protest sanit truck outsid trump tower read breitbart headlin articl tweet america divid polit media elect made even clearer celebr influenc week elect aveng director joss whedon boot onlin public servic announc factori save day recruit star like robert downey jr cheadl scarlett johansson churn web video mr clinton kati perri america ferrera lebron jame beyonc join democrat candid ralli vice mike penc caught perform broadway hit hamilton friday one show star address behalf divers america alarm anxiou new administr protect us offens pari hilton pat boon biggest star side instead breitbart mostli use cultur page aim spitbal hollywood lefti part coverag call big hollywood glamour celebr becom grist site overarch narr corros influenc cultur elit imag ms dunham post instagram restor trip sedona ariz may play soothingli aspir audienc concentr young coastal women breitbart demo headlin griev lena dunham seek answer arizona wilder trump win look like damn shot celebr decid jet red state quirki vacat retreat hamilton controversi rage prod mr trump demand cast apolog mr penc breitbart pointedli remind reader privat mr miranda host mr clinton campaign ticket price rang like celebr speak mr trump becom point defens breitbart postelect hollywood coverag appear larg cool catalog aggriev celebr includ rick ross drop video song free enterpris includ lyric make refer assassin mr trump beneath surfac articl though subtl signal work piec postelect vice essay jennif lawrenc rail barrier still face women workplac includ underhand accolad recent name actress hollywood second straight year recent headlin depress robert de niro trump elect make feel like pack punch pair imag pathet weepi liber flip attitud toward terror breitbart articl hamilton titl toler hamilton cast lectur mike penc broadway stage thread buzzword toler lectur broadway cast liber elit pedant hypocrit breitbart produc share origin content ran essay ann coulter ridicul whine celebr last week conserv media outlet work scrappi spammi surprisingli banal regat conserv aggreg hamilton incid inflat class war like clockwork rich elitist liber come mock poor hamilton cast member along liber took twitter mock bulli less fortun peopl america much text gener site bare politic conserv onlin outlet patriot folk recent aggreg quot ladi gaga essay publish harper bazaar depress hurt mr trump remark women work whiff commentari women fight live leak access hollywood tape donald trump make lewd comment least ladi gaga think highlight word like hurt depress work like conserv dog whistl signal reader want revel liber pain ridicul emot children postelect breitbart may appear littl differ aggreg site greater polit context breed ground extremist add anoth layer breitbart site boost stephen k bannon thought leader site execut chairman took leav absenc steer mr trump campaign top white hous posit mind articl call attent ms dunham jewish faith feel like bone thrown site white nationalist reader catalog slight celebr start read like someth enemi list real ideolog action undertaken audienc whose member read line cultur piec scribbl margin breitbart two post ms dunham amass comment includ insight lena awesom trump vote recruit meanwhil mute patriot folk piec ladi gaga soon migrat facebook page reach million make america great today share bait line white women vote donald j trump hillari clinton lefti celebr long preach choir increasingli galvan side chatter rerout onlin conserv echo chamber studi last year bowl green state univers professor david jackson melissa miller found celebr polit statement highli polar sampl set ohio voter celebr trace adkin ted nugent even oprah like inspir net posit vote candid choic aggreg make sure leftist celebr polit reach neutral backlash peopl idol agre none like stop celebr use soapbox promot polit would smart consid word play platform'\n",
            " 'david gutierrez staff writer woman award contract cancer johnson johnson talcum powder woman award contract cancer johnson johnson talcum powder wednesday novemb david gutierrez staff writer tag talc ovarian cancer juri award naturalnew st loui juri rule johnson johnson damag women health engag decad long coverup potenti risk talcum powder babi powder feminin hygien product octob johnson johnson order pay million deborah giannecchini modesto california receiv ovarian cancer diagnosi year giannecchini use johnson johnson babi powder keep genit area dri use promot compani main ingredi talcum powder talc miner wide use paint plastic well cosmet use absorb moistur evid suggest regular exposur talc particularli genit area increas risk ovarian cancer juri found johnson johnson guilti neglig fail warn custom fact conspiraci conceal risk ovarian cancer rare highli lethal diseas well establish risk factor includ obes children estrogen therapi menopaus famili histori ovarian breast cancer evid link talc ovarian cancer compel yet conclus intern agenc research cancer list talc possibl carcinogen among robust studi suggest connect two meta analys found roughli one third increas ovarian cancer risk among women regularli expos talc first publish found connect case second publish found women appli talc directli genit area case mark third guilti verdict johnson johnson issu st loui juri previous slap compani million million judgment first case file famili jacki fox birmingham alabama die ovarian cancer long term use talcum powder case juri found compani guilti neglig also failur warn conspiraci conceal risk product anoth lawsuit pend thirti year decept even recent verdict johnson johnson continu insist safeti product includ genit use home state new jersey compani success gotten two lawsuit issu dismiss appeal three guilti verdict missouri investor seem believ compani prevail stock price seem unaffect recent guilti verdict alexandra scranton director scienc research women voic earth character johnson johnson behavior typic big pharma compani go extrem length keep sell product even evid mount danger scranton said document uncov fox trial show decad johnson johnson sought take advantag scientif uncertainti talc ovarian cancer link downplay potenti risk rather purs clearli ethic role take precautionari approach inde scranton note compani pour money year defend talc among document reveal fox case intern memo show johnson johnson prepar su health risk talc year one memo medic consult warn anyon continu deni connect ovarian cancer genit talc use would eventu seen par tobacco compani deni cancer link deni obviou face evid contrari anoth memo laid strategi counter fall talc sale caus health concern aggress market minor commun sourc articl includ http www naturalnew com johnson talc ovarian cancer html health ranger approv aquatru water filter back stock secur unit amaz aquatru natur news reader suppli last breakthrough filter remov nearli hundr contamin plumb need ship today'\n",
            " 'simon kent artist say burqa imag challeng anti immigr islamophobia sentiment australia bbc laud australian photograph respons call tragic rise sentiment homeland take piec islam femal cloth known burqa use art prop fabian muir start project former australian prime minist toni abbott call ban burqa worn premis nation parliament canberra mr abbott cite secur concern call cloth fairli confront form attir frankli wish worn accord bbc mr muir urban burqa project critiqu rise far right islamophobia gener australian feel immigr islam countri deliv less desir outcom particular tragic sentiment becom magnifi sinc mr muir told bbc point per cent australian poll support total ban muslim enter countri refuge crisi alway easi target politician alway go percentag popul swallow seem like easi solut problem mr muir said urban burqa outlin cultur clash art could overcom still simul also sens confront adapt henc darker edgier feel said imag seri take burqa place everyday suburban scene supermarket subway tunnel mr muir give histor religi context burqa conceal islam femal cloth cover entir face bodi leav tini mesh screen window world burqa worn woman leav home compel wear return critic regard symbol islamist radic supremaci rather religi symbol oppress mr fabian like think burqa ennobl prospect wear told bbc last imag seri show woman burqa stand skate park nice close imag optimist reach said sens lot barrier overcom']\n"
          ]
        }
      ],
      "source": [
        "print(X)"
      ],
      "id": "e7a78bc7"
    },
    {
      "cell_type": "code",
      "execution_count": 116,
      "metadata": {
        "colab": {
          "base_uri": "https://localhost:8080/"
        },
        "id": "b86a2a1e",
        "outputId": "21066613-ade4-43c2-b154-f0632bf7b66d"
      },
      "outputs": [
        {
          "output_type": "stream",
          "name": "stdout",
          "text": [
            "['1' '0' '1' ... '0' '1' '0']\n"
          ]
        }
      ],
      "source": [
        "print(Y)"
      ],
      "id": "b86a2a1e"
    },
    {
      "cell_type": "markdown",
      "metadata": {
        "id": "bc98adfa"
      },
      "source": [
        "TF-IDF (Term Frequency, Inverse Document Frequency)\n",
        "\n",
        "### Converting Textual data to Numerical data\n",
        "\n",
        "* We will use TF-IDF Vectorizer\n",
        "* TF-IDF Vectorizer will convert textual data to numerical data"
      ],
      "id": "bc98adfa"
    },
    {
      "cell_type": "code",
      "execution_count": 117,
      "metadata": {
        "id": "c6d8ee15"
      },
      "outputs": [],
      "source": [
        "vectorizer = TfidfVectorizer()\n",
        "vectorizer.fit(X)\n",
        "\n",
        "X = vectorizer.transform(X)"
      ],
      "id": "c6d8ee15"
    },
    {
      "cell_type": "code",
      "execution_count": 118,
      "metadata": {
        "colab": {
          "base_uri": "https://localhost:8080/"
        },
        "id": "bb751780",
        "outputId": "79106a99-5a44-4c2f-f6f5-607156e2ff29"
      },
      "outputs": [
        {
          "output_type": "stream",
          "name": "stdout",
          "text": [
            "  (0, 51287)\t0.044258656517818414\n",
            "  (0, 51262)\t0.020131991582391793\n",
            "  (0, 50849)\t0.04475430852207461\n",
            "  (0, 50847)\t0.09384588101602599\n",
            "  (0, 50822)\t0.03825205199308433\n",
            "  (0, 50797)\t0.01165954825124317\n",
            "  (0, 50480)\t0.01738811022569182\n",
            "  (0, 50102)\t0.01757032961368408\n",
            "  (0, 50061)\t0.012836637537017756\n",
            "  (0, 50015)\t0.028302045379509727\n",
            "  (0, 49978)\t0.013052060041706186\n",
            "  (0, 49880)\t0.012112781491550742\n",
            "  (0, 49495)\t0.02523161607665395\n",
            "  (0, 49478)\t0.03123554543446421\n",
            "  (0, 49031)\t0.021201090024379893\n",
            "  (0, 48472)\t0.06517493117493858\n",
            "  (0, 48087)\t0.03247173661266174\n",
            "  (0, 47937)\t0.016824891525565502\n",
            "  (0, 47477)\t0.03647786256425233\n",
            "  (0, 47221)\t0.011529047763407995\n",
            "  (0, 47218)\t0.044338350940318454\n",
            "  (0, 47183)\t0.13661884669740237\n",
            "  (0, 47110)\t0.07276928934038554\n",
            "  (0, 46494)\t0.03671673505758655\n",
            "  (0, 46236)\t0.027634918285441675\n",
            "  :\t:\n",
            "  (5866, 8490)\t0.11549882146254178\n",
            "  (5866, 8482)\t0.0232165679566044\n",
            "  (5866, 8325)\t0.04297114826724454\n",
            "  (5866, 8218)\t0.03263883279035373\n",
            "  (5866, 7537)\t0.028705798053222847\n",
            "  (5866, 7369)\t0.04720535862220062\n",
            "  (5866, 6744)\t0.07253520400301952\n",
            "  (5866, 6629)\t0.052441700364793946\n",
            "  (5866, 6357)\t0.6424198850339241\n",
            "  (5866, 5234)\t0.030001291386217724\n",
            "  (5866, 4071)\t0.021659858101521615\n",
            "  (5866, 3969)\t0.18882143448880248\n",
            "  (5866, 3776)\t0.04446164392724958\n",
            "  (5866, 3570)\t0.0664767633222576\n",
            "  (5866, 3029)\t0.18663866164764736\n",
            "  (5866, 3028)\t0.042802036427823646\n",
            "  (5866, 2891)\t0.060813655275365815\n",
            "  (5866, 2551)\t0.039290398978071184\n",
            "  (5866, 2520)\t0.07000886636388495\n",
            "  (5866, 1935)\t0.03186963819432413\n",
            "  (5866, 1410)\t0.05163157180379119\n",
            "  (5866, 1347)\t0.015091182034957469\n",
            "  (5866, 467)\t0.04387149911568858\n",
            "  (5866, 297)\t0.01994939898551585\n",
            "  (5866, 57)\t0.1138563338493761\n"
          ]
        }
      ],
      "source": [
        "print(X)"
      ],
      "id": "bb751780"
    },
    {
      "cell_type": "markdown",
      "metadata": {
        "id": "d49400eb"
      },
      "source": [
        "Modeling & Model Evaluation"
      ],
      "id": "d49400eb"
    },
    {
      "cell_type": "markdown",
      "metadata": {
        "id": "87bb6e8e"
      },
      "source": [
        "### Splitting the data into test and train datasets"
      ],
      "id": "87bb6e8e"
    },
    {
      "cell_type": "code",
      "execution_count": 119,
      "metadata": {
        "id": "80b9d586"
      },
      "outputs": [],
      "source": [
        "X_train, X_test, Y_train, Y_test = train_test_split(X, Y, test_size=0.18, random_state=42)"
      ],
      "id": "80b9d586"
    },
    {
      "cell_type": "markdown",
      "metadata": {
        "id": "c11e51c2"
      },
      "source": [
        "### Training the model (model1 : Logistic Regression)"
      ],
      "id": "c11e51c2"
    },
    {
      "cell_type": "code",
      "execution_count": 120,
      "metadata": {
        "colab": {
          "base_uri": "https://localhost:8080/",
          "height": 74
        },
        "id": "93985486",
        "outputId": "9ce9dc1c-e95a-438d-8214-612bd0b2eeac"
      },
      "outputs": [
        {
          "output_type": "execute_result",
          "data": {
            "text/plain": [
              "LogisticRegression()"
            ],
            "text/html": [
              "<style>#sk-container-id-2 {color: black;background-color: white;}#sk-container-id-2 pre{padding: 0;}#sk-container-id-2 div.sk-toggleable {background-color: white;}#sk-container-id-2 label.sk-toggleable__label {cursor: pointer;display: block;width: 100%;margin-bottom: 0;padding: 0.3em;box-sizing: border-box;text-align: center;}#sk-container-id-2 label.sk-toggleable__label-arrow:before {content: \"▸\";float: left;margin-right: 0.25em;color: #696969;}#sk-container-id-2 label.sk-toggleable__label-arrow:hover:before {color: black;}#sk-container-id-2 div.sk-estimator:hover label.sk-toggleable__label-arrow:before {color: black;}#sk-container-id-2 div.sk-toggleable__content {max-height: 0;max-width: 0;overflow: hidden;text-align: left;background-color: #f0f8ff;}#sk-container-id-2 div.sk-toggleable__content pre {margin: 0.2em;color: black;border-radius: 0.25em;background-color: #f0f8ff;}#sk-container-id-2 input.sk-toggleable__control:checked~div.sk-toggleable__content {max-height: 200px;max-width: 100%;overflow: auto;}#sk-container-id-2 input.sk-toggleable__control:checked~label.sk-toggleable__label-arrow:before {content: \"▾\";}#sk-container-id-2 div.sk-estimator input.sk-toggleable__control:checked~label.sk-toggleable__label {background-color: #d4ebff;}#sk-container-id-2 div.sk-label input.sk-toggleable__control:checked~label.sk-toggleable__label {background-color: #d4ebff;}#sk-container-id-2 input.sk-hidden--visually {border: 0;clip: rect(1px 1px 1px 1px);clip: rect(1px, 1px, 1px, 1px);height: 1px;margin: -1px;overflow: hidden;padding: 0;position: absolute;width: 1px;}#sk-container-id-2 div.sk-estimator {font-family: monospace;background-color: #f0f8ff;border: 1px dotted black;border-radius: 0.25em;box-sizing: border-box;margin-bottom: 0.5em;}#sk-container-id-2 div.sk-estimator:hover {background-color: #d4ebff;}#sk-container-id-2 div.sk-parallel-item::after {content: \"\";width: 100%;border-bottom: 1px solid gray;flex-grow: 1;}#sk-container-id-2 div.sk-label:hover label.sk-toggleable__label {background-color: #d4ebff;}#sk-container-id-2 div.sk-serial::before {content: \"\";position: absolute;border-left: 1px solid gray;box-sizing: border-box;top: 0;bottom: 0;left: 50%;z-index: 0;}#sk-container-id-2 div.sk-serial {display: flex;flex-direction: column;align-items: center;background-color: white;padding-right: 0.2em;padding-left: 0.2em;position: relative;}#sk-container-id-2 div.sk-item {position: relative;z-index: 1;}#sk-container-id-2 div.sk-parallel {display: flex;align-items: stretch;justify-content: center;background-color: white;position: relative;}#sk-container-id-2 div.sk-item::before, #sk-container-id-2 div.sk-parallel-item::before {content: \"\";position: absolute;border-left: 1px solid gray;box-sizing: border-box;top: 0;bottom: 0;left: 50%;z-index: -1;}#sk-container-id-2 div.sk-parallel-item {display: flex;flex-direction: column;z-index: 1;position: relative;background-color: white;}#sk-container-id-2 div.sk-parallel-item:first-child::after {align-self: flex-end;width: 50%;}#sk-container-id-2 div.sk-parallel-item:last-child::after {align-self: flex-start;width: 50%;}#sk-container-id-2 div.sk-parallel-item:only-child::after {width: 0;}#sk-container-id-2 div.sk-dashed-wrapped {border: 1px dashed gray;margin: 0 0.4em 0.5em 0.4em;box-sizing: border-box;padding-bottom: 0.4em;background-color: white;}#sk-container-id-2 div.sk-label label {font-family: monospace;font-weight: bold;display: inline-block;line-height: 1.2em;}#sk-container-id-2 div.sk-label-container {text-align: center;}#sk-container-id-2 div.sk-container {/* jupyter's `normalize.less` sets `[hidden] { display: none; }` but bootstrap.min.css set `[hidden] { display: none !important; }` so we also need the `!important` here to be able to override the default hidden behavior on the sphinx rendered scikit-learn.org. See: https://github.com/scikit-learn/scikit-learn/issues/21755 */display: inline-block !important;position: relative;}#sk-container-id-2 div.sk-text-repr-fallback {display: none;}</style><div id=\"sk-container-id-2\" class=\"sk-top-container\"><div class=\"sk-text-repr-fallback\"><pre>LogisticRegression()</pre><b>In a Jupyter environment, please rerun this cell to show the HTML representation or trust the notebook. <br />On GitHub, the HTML representation is unable to render, please try loading this page with nbviewer.org.</b></div><div class=\"sk-container\" hidden><div class=\"sk-item\"><div class=\"sk-estimator sk-toggleable\"><input class=\"sk-toggleable__control sk-hidden--visually\" id=\"sk-estimator-id-2\" type=\"checkbox\" checked><label for=\"sk-estimator-id-2\" class=\"sk-toggleable__label sk-toggleable__label-arrow\">LogisticRegression</label><div class=\"sk-toggleable__content\"><pre>LogisticRegression()</pre></div></div></div></div></div>"
            ]
          },
          "metadata": {},
          "execution_count": 120
        }
      ],
      "source": [
        "# Training the model\n",
        "model1 = LogisticRegression()\n",
        "\n",
        "model1.fit(X_train, Y_train)"
      ],
      "id": "93985486"
    },
    {
      "cell_type": "markdown",
      "metadata": {
        "id": "8bd7cb77"
      },
      "source": [
        "### Model Evaluation"
      ],
      "id": "8bd7cb77"
    },
    {
      "cell_type": "code",
      "execution_count": 121,
      "metadata": {
        "colab": {
          "base_uri": "https://localhost:8080/"
        },
        "id": "9a515afe",
        "outputId": "dd8d7d57-bafc-4a87-cf91-2250839d88f1"
      },
      "outputs": [
        {
          "output_type": "stream",
          "name": "stdout",
          "text": [
            "Accuracy score on the training data:  0.9444906444906445\n",
            "Accuracy score on the test data:  0.8789025543992431\n"
          ]
        }
      ],
      "source": [
        "# Accuracy Score on Training Data\n",
        "X_train_prediction = model1.predict(X_train)\n",
        "training_data_accuracy = accuracy_score(X_train_prediction, Y_train)\n",
        "\n",
        "print('Accuracy score on the training data: ',training_data_accuracy)\n",
        "\n",
        "# Accuracy Score on Test Data\n",
        "X_test_prediction = model1.predict(X_test)\n",
        "test_data_accuracy = accuracy_score(X_test_prediction, Y_test)\n",
        "\n",
        "print('Accuracy score on the test data: ',test_data_accuracy)"
      ],
      "id": "9a515afe"
    },
    {
      "cell_type": "code",
      "execution_count": 122,
      "metadata": {
        "colab": {
          "base_uri": "https://localhost:8080/",
          "height": 195
        },
        "id": "a372c1f2",
        "outputId": "abb15d05-b010-48f8-abab-3c8cb9d8534a"
      },
      "outputs": [
        {
          "output_type": "stream",
          "name": "stderr",
          "text": [
            "/usr/local/lib/python3.9/dist-packages/sklearn/metrics/_classification.py:1344: UndefinedMetricWarning: Precision and F-score are ill-defined and being set to 0.0 in labels with no predicted samples. Use `zero_division` parameter to control this behavior.\n",
            "  _warn_prf(average, modifier, msg_start, len(result))\n",
            "/usr/local/lib/python3.9/dist-packages/sklearn/metrics/_classification.py:1344: UndefinedMetricWarning: Precision and F-score are ill-defined and being set to 0.0 in labels with no predicted samples. Use `zero_division` parameter to control this behavior.\n",
            "  _warn_prf(average, modifier, msg_start, len(result))\n",
            "/usr/local/lib/python3.9/dist-packages/sklearn/metrics/_classification.py:1344: UndefinedMetricWarning: Precision and F-score are ill-defined and being set to 0.0 in labels with no predicted samples. Use `zero_division` parameter to control this behavior.\n",
            "  _warn_prf(average, modifier, msg_start, len(result))\n"
          ]
        },
        {
          "output_type": "execute_result",
          "data": {
            "text/plain": [
              "'                                                                                                                                                                                                                                                                                                                                                                                                                                                                                                          precision    recall  f1-score   support\\n\\n                                                                                                                                                                                                                                                                                                                                                                                                                                                                                                               0.77      0.78      0.77       120\\n                                                                                                                                                                                                                                                                                                                                                                                                                                                                        Allonâ\\x80\\x99s men distributed fliers       0.00      0.00      0.00         1\\n                                                                                                                                                                                                                                                                                                                                                                                                                                                                                                Kimberly       0.00      0.00      0.00         1\\n King George Street and Mea Shearimâ\\x80\\x94there are no Arabs. One hundred percent Jews. Ever since Jerusalem was destroyed by the Romansâ\\x80\\x94the city was not as Jewish as it is now. In many Arab neighbourhoods in the West you do not see even one Arab. I do not suppose it will change. And what happened in Jerusalem and in Haifaâ\\x80\\x94can happen in large parts of the country. If we persist it is quite possible that in the next six or eight months there will be considerable changes in the country       0.00      0.00      0.00         1\\n                                                                                                                                                                                                                                                                                                                                                                                                                                                                 and have a following of robotic peoples       0.00      0.00      0.00         1\\n                                                                                                                                                                                                                                                                                                                                                                                                                                                          and other than a very few brain washed lefties       0.00      0.00      0.00         1\\n                                                                                                                                                                                                                                                                                                                                                                                                                                                       and went to make war with the remnant of her seed       0.00      0.00      0.00         1\\n                                                                                                                                                                                                                                                                                                                                                                                                                             because the substitution of Jewish for Arab labour would alienate the Arabs       0.00      0.00      0.00         1\\n                                                                                                                                                                                                                                                                                                                                                                                                                                                 but otherwise we will not be able to hold out.â\\x80\\x9d [76]        0.00      0.00      0.00         1\\n                                                                                                                                                                                                                                                                                                                                                                                                                                                                                     but possibly the EU       0.00      0.00      0.00         1\\n                                                                                                                                                                                                                                                                                                                                                                                                                           but what does that matter to them? Our God is not theirs. We come from Israel       0.00      0.00      0.00         1\\n                                                                                                                                                                                                                                                                                                                                                                                                                       drink his bloodâ\\x80\\x9d and perpetuate this horror by forcing it upon their children.        0.00      0.00      0.00         1\\n                                                                                                                                                                                                                                                                                                               etc. Some say that this election will be a landslide one way or the other. Iâ\\x80\\x99m not sure about that. To me itâ\\x80\\x99ll probably be close. Whether itâ\\x80\\x99s by a few hundred votes again or not       0.00      0.00      0.00         1\\n                                                                                                                                                                                                                                                                                                                                                                                                                                                             for the Zionistsâ\\x80\\x99 â\\x80\\x9cwar of conquestâ\\x80\\x9d.        0.00      0.00      0.00         1\\n                                                                                                                                                                                                                                                                                                                                                                                                                                                                                 from your point of view       0.00      0.00      0.00         1\\n                                                                                                                                                                                                                                                                                                                                                                                                                                                                                        in present needs       0.00      0.00      0.00         1\\n                                                                                                                                                                                                                                                                                                                                                                               instructing the lower court to rewrite its opinion so that it would not create a conflict between state and federal law.        0.00      0.00      0.00         1\\n                                                                                                                                                                                                                                                                                                                                                                                                                                                                                         killed 13 Arabs       0.00      0.00      0.00         1\\n                                                                                                                                                                                                                                                                                                                                                                                                                                                                                          line upon line       0.00      0.00      0.00         1\\n                                                                                                                                                                                                                                                                                                                                                                                                                                                                               neither Canada nor Mexico       0.00      0.00      0.00         1\\n                                                                                                                                                                                                                                                                                        right down to my cowgirl outfit and straw cowboy hat emblazoned with the slogan â\\x80\\x9cAuH20.â\\x80\\x9d â\\x80¦ I liked Senator Goldwater because he was a rugged individualist who swam against the political tide. retired22        0.00      0.00      0.00         1\\n                                                                                                                                                                                                                                                                                                                                                                                                                                                               said that we would go with their proposal       0.00      0.00      0.00         1\\n                                                                                                                                                                                                                                                                                                                                                                                      the U.S. Supreme Court once again exercised its discretionary appellate review jurisdiction and granted certiorari       0.00      0.00      0.00         1\\n                                                                                                                                                                                                                                                                                                                                                                                                                      their army had been able to complete the first stage of the cleansing of Palestine       0.00      0.00      0.00         1\\n                                                                                                                                                                                                                                                                                                                                                                                                                            those of that generation will see the end of history as we know it now. Also       0.00      0.00      0.00         1\\n                                                                                                                                                                                                                                                                                                                                                                                                                                                                      unlike the founder of Christianity       0.00      0.00      0.00         1\\n                                                                                                                                                                                                                                                                                                                                                                                     were ordered to send away their women and children (partly in order to make room for incoming militiamen).â\\x80\\x9d [84]        0.00      0.00      0.00         1\\n                                                                                                                                                                                                                                                                                                                                                                                                                                                                            you lose the town of Tangier       0.00      0.00      0.00         1\\n                                                                                                                                                                                                                                                                                                                                                               you would have a free hand. Can you recall this conversation? It is very important for the history of what is taking place in Syria now.        0.00      0.00      0.00         1\\n                                                                                                                                                                                                                                                                                                                                                                                                                                                                                                       0       0.94      0.92      0.93       432\\n                                                                                                                                                                                                                                                                                                                                                                                                                                                                000 Arabs in place.â\\x80\\x9d With this comment       0.00      0.00      0.00         1\\n                                                                                                                                                                                                                                                                                                                                                                                                                                                                                                       1       0.85      0.92      0.89       475\\n                                                                                                                                                                                                                                                                                                                                                                                                                                                                                   â\\x80\\x9d says Sarah Chayes       0.00      0.00      0.00         1\\n\\n                                                                                                                                                                                                                                                                                                                                                                                                                                                                                                accuracy                           0.88      1057\\n                                                                                                                                                                                                                                                                                                                                                                                                                                                                                               macro avg       0.08      0.08      0.08      1057\\n                                                                                                                                                                                                                                                                                                                                                                                                                                                                                            weighted avg       0.86      0.88      0.87      1057\\n'"
            ],
            "application/vnd.google.colaboratory.intrinsic+json": {
              "type": "string"
            }
          },
          "metadata": {},
          "execution_count": 122
        }
      ],
      "source": [
        "# Classification report for test data\n",
        "classification_report(Y_test, X_test_prediction)"
      ],
      "id": "a372c1f2"
    },
    {
      "cell_type": "markdown",
      "metadata": {
        "id": "Vvo6vCZBz-xT"
      },
      "source": [
        "**CLASSIFICATION MODEL : PASSIVE AGGRESSIVE CLASSIFIER**\n",
        "\n",
        "* Passive Aggressive Classifier works by responding as passive for correct classifications and responding as aggressive for any miscalculation."
      ],
      "id": "Vvo6vCZBz-xT"
    },
    {
      "cell_type": "code",
      "execution_count": 123,
      "metadata": {
        "id": "1cBnW6dGz9ao"
      },
      "outputs": [],
      "source": [
        "X2_train, X2_test, Y2_train, Y2_test = train_test_split(X, Y, test_size=0.33, random_state=42)"
      ],
      "id": "1cBnW6dGz9ao"
    },
    {
      "cell_type": "code",
      "source": [
        "model2 = PassiveAggressiveClassifier()\n",
        "model2.fit(X2_train,Y2_train)"
      ],
      "metadata": {
        "colab": {
          "base_uri": "https://localhost:8080/",
          "height": 74
        },
        "id": "dSkhctTBF922",
        "outputId": "fcc736bc-a443-496f-e894-4ad7cb86cf29"
      },
      "id": "dSkhctTBF922",
      "execution_count": 124,
      "outputs": [
        {
          "output_type": "execute_result",
          "data": {
            "text/plain": [
              "PassiveAggressiveClassifier()"
            ],
            "text/html": [
              "<style>#sk-container-id-3 {color: black;background-color: white;}#sk-container-id-3 pre{padding: 0;}#sk-container-id-3 div.sk-toggleable {background-color: white;}#sk-container-id-3 label.sk-toggleable__label {cursor: pointer;display: block;width: 100%;margin-bottom: 0;padding: 0.3em;box-sizing: border-box;text-align: center;}#sk-container-id-3 label.sk-toggleable__label-arrow:before {content: \"▸\";float: left;margin-right: 0.25em;color: #696969;}#sk-container-id-3 label.sk-toggleable__label-arrow:hover:before {color: black;}#sk-container-id-3 div.sk-estimator:hover label.sk-toggleable__label-arrow:before {color: black;}#sk-container-id-3 div.sk-toggleable__content {max-height: 0;max-width: 0;overflow: hidden;text-align: left;background-color: #f0f8ff;}#sk-container-id-3 div.sk-toggleable__content pre {margin: 0.2em;color: black;border-radius: 0.25em;background-color: #f0f8ff;}#sk-container-id-3 input.sk-toggleable__control:checked~div.sk-toggleable__content {max-height: 200px;max-width: 100%;overflow: auto;}#sk-container-id-3 input.sk-toggleable__control:checked~label.sk-toggleable__label-arrow:before {content: \"▾\";}#sk-container-id-3 div.sk-estimator input.sk-toggleable__control:checked~label.sk-toggleable__label {background-color: #d4ebff;}#sk-container-id-3 div.sk-label input.sk-toggleable__control:checked~label.sk-toggleable__label {background-color: #d4ebff;}#sk-container-id-3 input.sk-hidden--visually {border: 0;clip: rect(1px 1px 1px 1px);clip: rect(1px, 1px, 1px, 1px);height: 1px;margin: -1px;overflow: hidden;padding: 0;position: absolute;width: 1px;}#sk-container-id-3 div.sk-estimator {font-family: monospace;background-color: #f0f8ff;border: 1px dotted black;border-radius: 0.25em;box-sizing: border-box;margin-bottom: 0.5em;}#sk-container-id-3 div.sk-estimator:hover {background-color: #d4ebff;}#sk-container-id-3 div.sk-parallel-item::after {content: \"\";width: 100%;border-bottom: 1px solid gray;flex-grow: 1;}#sk-container-id-3 div.sk-label:hover label.sk-toggleable__label {background-color: #d4ebff;}#sk-container-id-3 div.sk-serial::before {content: \"\";position: absolute;border-left: 1px solid gray;box-sizing: border-box;top: 0;bottom: 0;left: 50%;z-index: 0;}#sk-container-id-3 div.sk-serial {display: flex;flex-direction: column;align-items: center;background-color: white;padding-right: 0.2em;padding-left: 0.2em;position: relative;}#sk-container-id-3 div.sk-item {position: relative;z-index: 1;}#sk-container-id-3 div.sk-parallel {display: flex;align-items: stretch;justify-content: center;background-color: white;position: relative;}#sk-container-id-3 div.sk-item::before, #sk-container-id-3 div.sk-parallel-item::before {content: \"\";position: absolute;border-left: 1px solid gray;box-sizing: border-box;top: 0;bottom: 0;left: 50%;z-index: -1;}#sk-container-id-3 div.sk-parallel-item {display: flex;flex-direction: column;z-index: 1;position: relative;background-color: white;}#sk-container-id-3 div.sk-parallel-item:first-child::after {align-self: flex-end;width: 50%;}#sk-container-id-3 div.sk-parallel-item:last-child::after {align-self: flex-start;width: 50%;}#sk-container-id-3 div.sk-parallel-item:only-child::after {width: 0;}#sk-container-id-3 div.sk-dashed-wrapped {border: 1px dashed gray;margin: 0 0.4em 0.5em 0.4em;box-sizing: border-box;padding-bottom: 0.4em;background-color: white;}#sk-container-id-3 div.sk-label label {font-family: monospace;font-weight: bold;display: inline-block;line-height: 1.2em;}#sk-container-id-3 div.sk-label-container {text-align: center;}#sk-container-id-3 div.sk-container {/* jupyter's `normalize.less` sets `[hidden] { display: none; }` but bootstrap.min.css set `[hidden] { display: none !important; }` so we also need the `!important` here to be able to override the default hidden behavior on the sphinx rendered scikit-learn.org. See: https://github.com/scikit-learn/scikit-learn/issues/21755 */display: inline-block !important;position: relative;}#sk-container-id-3 div.sk-text-repr-fallback {display: none;}</style><div id=\"sk-container-id-3\" class=\"sk-top-container\"><div class=\"sk-text-repr-fallback\"><pre>PassiveAggressiveClassifier()</pre><b>In a Jupyter environment, please rerun this cell to show the HTML representation or trust the notebook. <br />On GitHub, the HTML representation is unable to render, please try loading this page with nbviewer.org.</b></div><div class=\"sk-container\" hidden><div class=\"sk-item\"><div class=\"sk-estimator sk-toggleable\"><input class=\"sk-toggleable__control sk-hidden--visually\" id=\"sk-estimator-id-3\" type=\"checkbox\" checked><label for=\"sk-estimator-id-3\" class=\"sk-toggleable__label sk-toggleable__label-arrow\">PassiveAggressiveClassifier</label><div class=\"sk-toggleable__content\"><pre>PassiveAggressiveClassifier()</pre></div></div></div></div></div>"
            ]
          },
          "metadata": {},
          "execution_count": 124
        }
      ]
    },
    {
      "cell_type": "code",
      "source": [
        "X2_train_prediction = model2.predict(X2_train)\n",
        "training_data_accuracy2 = accuracy_score(X2_train_prediction, Y2_train)\n",
        "\n",
        "print('Accuracy score on the training data: ',training_data_accuracy2)\n",
        "\n",
        "# Accuracy Score on Test Data\n",
        "X2_test_prediction = model2.predict(X2_test)\n",
        "test_data_accuracy1 = accuracy_score(X2_test_prediction, Y2_test)\n",
        "\n",
        "print('Accuracy score on the test data: ',test_data_accuracy1)"
      ],
      "metadata": {
        "colab": {
          "base_uri": "https://localhost:8080/"
        },
        "id": "rEncHCSzGeHy",
        "outputId": "feb52240-ca08-4348-e142-5a928bcd4da5"
      },
      "id": "rEncHCSzGeHy",
      "execution_count": 125,
      "outputs": [
        {
          "output_type": "stream",
          "name": "stdout",
          "text": [
            "Accuracy score on the training data:  0.9427480916030534\n",
            "Accuracy score on the test data:  0.835828600929272\n"
          ]
        }
      ]
    },
    {
      "cell_type": "markdown",
      "metadata": {
        "id": "d90b63ec"
      },
      "source": [
        "Testing the two models"
      ],
      "id": "d90b63ec"
    },
    {
      "cell_type": "code",
      "execution_count": 134,
      "metadata": {
        "colab": {
          "base_uri": "https://localhost:8080/"
        },
        "id": "b4923f96",
        "outputId": "0333a578-82da-47ad-d99e-536fc728da8e"
      },
      "outputs": [
        {
          "output_type": "stream",
          "name": "stdout",
          "text": [
            "['1']\n",
            "The news is Fake and Unreliable\n"
          ]
        }
      ],
      "source": [
        "X_new = X_test[100]\n",
        "\n",
        "prediction = model1.predict(X_new)\n",
        "print(prediction)\n",
        "\n",
        "if (prediction[0] == 0):\n",
        "  print('The news in Real')\n",
        "else:\n",
        "  print('The news is Fake and Unreliable')"
      ],
      "id": "b4923f96"
    },
    {
      "cell_type": "code",
      "source": [
        "X2_new = X2_test[100]\n",
        "\n",
        "prediction2 = model2.predict(X2_new)\n",
        "print(prediction2)\n",
        "\n",
        "if (prediction2[0] == 0):\n",
        "  print('The news in Real')\n",
        "else:\n",
        "  print('The news is Fake and Unreliable')"
      ],
      "metadata": {
        "colab": {
          "base_uri": "https://localhost:8080/"
        },
        "id": "n_uWQ8QoG9HD",
        "outputId": "c8c5dda9-f095-46f1-95d0-616602ce6a0e"
      },
      "id": "n_uWQ8QoG9HD",
      "execution_count": 135,
      "outputs": [
        {
          "output_type": "stream",
          "name": "stdout",
          "text": [
            "['1']\n",
            "The news is Fake and Unreliable\n"
          ]
        }
      ]
    },
    {
      "cell_type": "code",
      "execution_count": 127,
      "metadata": {
        "colab": {
          "base_uri": "https://localhost:8080/",
          "height": 159
        },
        "id": "39b7bf61",
        "outputId": "380ebccc-3586-4516-eccd-d791afe24a76"
      },
      "outputs": [
        {
          "output_type": "execute_result",
          "data": {
            "text/plain": [
              "     id                                              title  \\\n",
              "100  92  Venezuela Muzzles Legislature, Moving Closer t...   \n",
              "\n",
              "                                 author  \\\n",
              "100  Nicholas Casey and Patricia Torres   \n",
              "\n",
              "                                                  text label Unnamed: 250  \\\n",
              "100  IQUITOS, Peru  â   Venezuela took its strong...     0                \n",
              "\n",
              "                                           text_corpus  \n",
              "100  nichola casey patricia torr venezuela muzzl le...  "
            ],
            "text/html": [
              "\n",
              "  <div id=\"df-9e28183a-a299-41cc-83d9-33c51f9360a1\">\n",
              "    <div class=\"colab-df-container\">\n",
              "      <div>\n",
              "<style scoped>\n",
              "    .dataframe tbody tr th:only-of-type {\n",
              "        vertical-align: middle;\n",
              "    }\n",
              "\n",
              "    .dataframe tbody tr th {\n",
              "        vertical-align: top;\n",
              "    }\n",
              "\n",
              "    .dataframe thead th {\n",
              "        text-align: right;\n",
              "    }\n",
              "</style>\n",
              "<table border=\"1\" class=\"dataframe\">\n",
              "  <thead>\n",
              "    <tr style=\"text-align: right;\">\n",
              "      <th></th>\n",
              "      <th>id</th>\n",
              "      <th>title</th>\n",
              "      <th>author</th>\n",
              "      <th>text</th>\n",
              "      <th>label</th>\n",
              "      <th>Unnamed: 250</th>\n",
              "      <th>text_corpus</th>\n",
              "    </tr>\n",
              "  </thead>\n",
              "  <tbody>\n",
              "    <tr>\n",
              "      <th>100</th>\n",
              "      <td>92</td>\n",
              "      <td>Venezuela Muzzles Legislature, Moving Closer t...</td>\n",
              "      <td>Nicholas Casey and Patricia Torres</td>\n",
              "      <td>IQUITOS, Peru  â   Venezuela took its strong...</td>\n",
              "      <td>0</td>\n",
              "      <td></td>\n",
              "      <td>nichola casey patricia torr venezuela muzzl le...</td>\n",
              "    </tr>\n",
              "  </tbody>\n",
              "</table>\n",
              "</div>\n",
              "      <button class=\"colab-df-convert\" onclick=\"convertToInteractive('df-9e28183a-a299-41cc-83d9-33c51f9360a1')\"\n",
              "              title=\"Convert this dataframe to an interactive table.\"\n",
              "              style=\"display:none;\">\n",
              "        \n",
              "  <svg xmlns=\"http://www.w3.org/2000/svg\" height=\"24px\"viewBox=\"0 0 24 24\"\n",
              "       width=\"24px\">\n",
              "    <path d=\"M0 0h24v24H0V0z\" fill=\"none\"/>\n",
              "    <path d=\"M18.56 5.44l.94 2.06.94-2.06 2.06-.94-2.06-.94-.94-2.06-.94 2.06-2.06.94zm-11 1L8.5 8.5l.94-2.06 2.06-.94-2.06-.94L8.5 2.5l-.94 2.06-2.06.94zm10 10l.94 2.06.94-2.06 2.06-.94-2.06-.94-.94-2.06-.94 2.06-2.06.94z\"/><path d=\"M17.41 7.96l-1.37-1.37c-.4-.4-.92-.59-1.43-.59-.52 0-1.04.2-1.43.59L10.3 9.45l-7.72 7.72c-.78.78-.78 2.05 0 2.83L4 21.41c.39.39.9.59 1.41.59.51 0 1.02-.2 1.41-.59l7.78-7.78 2.81-2.81c.8-.78.8-2.07 0-2.86zM5.41 20L4 18.59l7.72-7.72 1.47 1.35L5.41 20z\"/>\n",
              "  </svg>\n",
              "      </button>\n",
              "      \n",
              "  <style>\n",
              "    .colab-df-container {\n",
              "      display:flex;\n",
              "      flex-wrap:wrap;\n",
              "      gap: 12px;\n",
              "    }\n",
              "\n",
              "    .colab-df-convert {\n",
              "      background-color: #E8F0FE;\n",
              "      border: none;\n",
              "      border-radius: 50%;\n",
              "      cursor: pointer;\n",
              "      display: none;\n",
              "      fill: #1967D2;\n",
              "      height: 32px;\n",
              "      padding: 0 0 0 0;\n",
              "      width: 32px;\n",
              "    }\n",
              "\n",
              "    .colab-df-convert:hover {\n",
              "      background-color: #E2EBFA;\n",
              "      box-shadow: 0px 1px 2px rgba(60, 64, 67, 0.3), 0px 1px 3px 1px rgba(60, 64, 67, 0.15);\n",
              "      fill: #174EA6;\n",
              "    }\n",
              "\n",
              "    [theme=dark] .colab-df-convert {\n",
              "      background-color: #3B4455;\n",
              "      fill: #D2E3FC;\n",
              "    }\n",
              "\n",
              "    [theme=dark] .colab-df-convert:hover {\n",
              "      background-color: #434B5C;\n",
              "      box-shadow: 0px 1px 3px 1px rgba(0, 0, 0, 0.15);\n",
              "      filter: drop-shadow(0px 1px 2px rgba(0, 0, 0, 0.3));\n",
              "      fill: #FFFFFF;\n",
              "    }\n",
              "  </style>\n",
              "\n",
              "      <script>\n",
              "        const buttonEl =\n",
              "          document.querySelector('#df-9e28183a-a299-41cc-83d9-33c51f9360a1 button.colab-df-convert');\n",
              "        buttonEl.style.display =\n",
              "          google.colab.kernel.accessAllowed ? 'block' : 'none';\n",
              "\n",
              "        async function convertToInteractive(key) {\n",
              "          const element = document.querySelector('#df-9e28183a-a299-41cc-83d9-33c51f9360a1');\n",
              "          const dataTable =\n",
              "            await google.colab.kernel.invokeFunction('convertToInteractive',\n",
              "                                                     [key], {});\n",
              "          if (!dataTable) return;\n",
              "\n",
              "          const docLinkHtml = 'Like what you see? Visit the ' +\n",
              "            '<a target=\"_blank\" href=https://colab.research.google.com/notebooks/data_table.ipynb>data table notebook</a>'\n",
              "            + ' to learn more about interactive tables.';\n",
              "          element.innerHTML = '';\n",
              "          dataTable['output_type'] = 'display_data';\n",
              "          await google.colab.output.renderOutput(dataTable, element);\n",
              "          const docLink = document.createElement('div');\n",
              "          docLink.innerHTML = docLinkHtml;\n",
              "          element.appendChild(docLink);\n",
              "        }\n",
              "      </script>\n",
              "    </div>\n",
              "  </div>\n",
              "  "
            ]
          },
          "metadata": {},
          "execution_count": 127
        }
      ],
      "source": [
        "news_dataset[100:101]"
      ],
      "id": "39b7bf61"
    },
    {
      "cell_type": "code",
      "execution_count": 128,
      "metadata": {
        "colab": {
          "base_uri": "https://localhost:8080/"
        },
        "id": "739b9466",
        "outputId": "1c04587d-352a-407a-b8bb-a2297321cb45"
      },
      "outputs": [
        {
          "output_type": "stream",
          "name": "stdout",
          "text": [
            "1\n"
          ]
        }
      ],
      "source": [
        "print(Y_test[100])"
      ],
      "id": "739b9466"
    },
    {
      "cell_type": "code",
      "execution_count": 129,
      "metadata": {
        "colab": {
          "base_uri": "https://localhost:8080/"
        },
        "id": "c0709dce",
        "outputId": "b23c0ff8-396d-4713-f34c-1e631518fbf1"
      },
      "outputs": [
        {
          "output_type": "stream",
          "name": "stdout",
          "text": [
            "['0']\n",
            "The news is Fake and Unreliable\n"
          ]
        }
      ],
      "source": [
        "X_new = X_test[301]\n",
        "\n",
        "prediction = model1.predict(X_new)\n",
        "print(prediction)\n",
        "\n",
        "if (prediction[0] == 0):\n",
        "  print('The news in Real')\n",
        "else:\n",
        "  print('The news is Fake and Unreliable')"
      ],
      "id": "c0709dce"
    },
    {
      "cell_type": "code",
      "execution_count": 130,
      "metadata": {
        "colab": {
          "base_uri": "https://localhost:8080/"
        },
        "id": "bK4gCPewyFTx",
        "outputId": "e9370bad-5b53-4b7d-c793-909ae98dc863"
      },
      "outputs": [
        {
          "output_type": "stream",
          "name": "stdout",
          "text": [
            "0\n"
          ]
        }
      ],
      "source": [
        "print(Y_test[301])"
      ],
      "id": "bK4gCPewyFTx"
    },
    {
      "cell_type": "code",
      "execution_count": 131,
      "metadata": {
        "colab": {
          "base_uri": "https://localhost:8080/",
          "height": 159
        },
        "id": "kGs3exJWxaTG",
        "outputId": "228f82c0-cd43-4e6a-c325-ada779ee548d"
      },
      "outputs": [
        {
          "output_type": "execute_result",
          "data": {
            "text/plain": [
              "      id                                              title         author  \\\n",
              "300  291  Confused by Chip Credit Cards? Get in Line - T...  Karen Workman   \n",
              "\n",
              "                                                  text label Unnamed: 250  \\\n",
              "300  Youâre at the checkout counter. Your items h...     0                \n",
              "\n",
              "                                           text_corpus  \n",
              "300  karen workman confus chip credit card get line...  "
            ],
            "text/html": [
              "\n",
              "  <div id=\"df-f0ab3b36-6e0f-4cb7-8d71-51e69da91243\">\n",
              "    <div class=\"colab-df-container\">\n",
              "      <div>\n",
              "<style scoped>\n",
              "    .dataframe tbody tr th:only-of-type {\n",
              "        vertical-align: middle;\n",
              "    }\n",
              "\n",
              "    .dataframe tbody tr th {\n",
              "        vertical-align: top;\n",
              "    }\n",
              "\n",
              "    .dataframe thead th {\n",
              "        text-align: right;\n",
              "    }\n",
              "</style>\n",
              "<table border=\"1\" class=\"dataframe\">\n",
              "  <thead>\n",
              "    <tr style=\"text-align: right;\">\n",
              "      <th></th>\n",
              "      <th>id</th>\n",
              "      <th>title</th>\n",
              "      <th>author</th>\n",
              "      <th>text</th>\n",
              "      <th>label</th>\n",
              "      <th>Unnamed: 250</th>\n",
              "      <th>text_corpus</th>\n",
              "    </tr>\n",
              "  </thead>\n",
              "  <tbody>\n",
              "    <tr>\n",
              "      <th>300</th>\n",
              "      <td>291</td>\n",
              "      <td>Confused by Chip Credit Cards? Get in Line - T...</td>\n",
              "      <td>Karen Workman</td>\n",
              "      <td>Youâre at the checkout counter. Your items h...</td>\n",
              "      <td>0</td>\n",
              "      <td></td>\n",
              "      <td>karen workman confus chip credit card get line...</td>\n",
              "    </tr>\n",
              "  </tbody>\n",
              "</table>\n",
              "</div>\n",
              "      <button class=\"colab-df-convert\" onclick=\"convertToInteractive('df-f0ab3b36-6e0f-4cb7-8d71-51e69da91243')\"\n",
              "              title=\"Convert this dataframe to an interactive table.\"\n",
              "              style=\"display:none;\">\n",
              "        \n",
              "  <svg xmlns=\"http://www.w3.org/2000/svg\" height=\"24px\"viewBox=\"0 0 24 24\"\n",
              "       width=\"24px\">\n",
              "    <path d=\"M0 0h24v24H0V0z\" fill=\"none\"/>\n",
              "    <path d=\"M18.56 5.44l.94 2.06.94-2.06 2.06-.94-2.06-.94-.94-2.06-.94 2.06-2.06.94zm-11 1L8.5 8.5l.94-2.06 2.06-.94-2.06-.94L8.5 2.5l-.94 2.06-2.06.94zm10 10l.94 2.06.94-2.06 2.06-.94-2.06-.94-.94-2.06-.94 2.06-2.06.94z\"/><path d=\"M17.41 7.96l-1.37-1.37c-.4-.4-.92-.59-1.43-.59-.52 0-1.04.2-1.43.59L10.3 9.45l-7.72 7.72c-.78.78-.78 2.05 0 2.83L4 21.41c.39.39.9.59 1.41.59.51 0 1.02-.2 1.41-.59l7.78-7.78 2.81-2.81c.8-.78.8-2.07 0-2.86zM5.41 20L4 18.59l7.72-7.72 1.47 1.35L5.41 20z\"/>\n",
              "  </svg>\n",
              "      </button>\n",
              "      \n",
              "  <style>\n",
              "    .colab-df-container {\n",
              "      display:flex;\n",
              "      flex-wrap:wrap;\n",
              "      gap: 12px;\n",
              "    }\n",
              "\n",
              "    .colab-df-convert {\n",
              "      background-color: #E8F0FE;\n",
              "      border: none;\n",
              "      border-radius: 50%;\n",
              "      cursor: pointer;\n",
              "      display: none;\n",
              "      fill: #1967D2;\n",
              "      height: 32px;\n",
              "      padding: 0 0 0 0;\n",
              "      width: 32px;\n",
              "    }\n",
              "\n",
              "    .colab-df-convert:hover {\n",
              "      background-color: #E2EBFA;\n",
              "      box-shadow: 0px 1px 2px rgba(60, 64, 67, 0.3), 0px 1px 3px 1px rgba(60, 64, 67, 0.15);\n",
              "      fill: #174EA6;\n",
              "    }\n",
              "\n",
              "    [theme=dark] .colab-df-convert {\n",
              "      background-color: #3B4455;\n",
              "      fill: #D2E3FC;\n",
              "    }\n",
              "\n",
              "    [theme=dark] .colab-df-convert:hover {\n",
              "      background-color: #434B5C;\n",
              "      box-shadow: 0px 1px 3px 1px rgba(0, 0, 0, 0.15);\n",
              "      filter: drop-shadow(0px 1px 2px rgba(0, 0, 0, 0.3));\n",
              "      fill: #FFFFFF;\n",
              "    }\n",
              "  </style>\n",
              "\n",
              "      <script>\n",
              "        const buttonEl =\n",
              "          document.querySelector('#df-f0ab3b36-6e0f-4cb7-8d71-51e69da91243 button.colab-df-convert');\n",
              "        buttonEl.style.display =\n",
              "          google.colab.kernel.accessAllowed ? 'block' : 'none';\n",
              "\n",
              "        async function convertToInteractive(key) {\n",
              "          const element = document.querySelector('#df-f0ab3b36-6e0f-4cb7-8d71-51e69da91243');\n",
              "          const dataTable =\n",
              "            await google.colab.kernel.invokeFunction('convertToInteractive',\n",
              "                                                     [key], {});\n",
              "          if (!dataTable) return;\n",
              "\n",
              "          const docLinkHtml = 'Like what you see? Visit the ' +\n",
              "            '<a target=\"_blank\" href=https://colab.research.google.com/notebooks/data_table.ipynb>data table notebook</a>'\n",
              "            + ' to learn more about interactive tables.';\n",
              "          element.innerHTML = '';\n",
              "          dataTable['output_type'] = 'display_data';\n",
              "          await google.colab.output.renderOutput(dataTable, element);\n",
              "          const docLink = document.createElement('div');\n",
              "          docLink.innerHTML = docLinkHtml;\n",
              "          element.appendChild(docLink);\n",
              "        }\n",
              "      </script>\n",
              "    </div>\n",
              "  </div>\n",
              "  "
            ]
          },
          "metadata": {},
          "execution_count": 131
        }
      ],
      "source": [
        "news_dataset[300:301]"
      ],
      "id": "kGs3exJWxaTG"
    }
  ],
  "metadata": {
    "colab": {
      "provenance": []
    },
    "kernelspec": {
      "display_name": "Python 3",
      "language": "python",
      "name": "python3"
    },
    "language_info": {
      "codemirror_mode": {
        "name": "ipython",
        "version": 3
      },
      "file_extension": ".py",
      "mimetype": "text/x-python",
      "name": "python",
      "nbconvert_exporter": "python",
      "pygments_lexer": "ipython3",
      "version": "3.7.10"
    },
    "papermill": {
      "default_parameters": {},
      "duration": 2140.826204,
      "end_time": "2021-09-29T17:10:10.602486",
      "environment_variables": {},
      "exception": null,
      "input_path": "__notebook__.ipynb",
      "output_path": "__notebook__.ipynb",
      "parameters": {},
      "start_time": "2021-09-29T16:34:29.776282",
      "version": "2.3.3"
    }
  },
  "nbformat": 4,
  "nbformat_minor": 5
}